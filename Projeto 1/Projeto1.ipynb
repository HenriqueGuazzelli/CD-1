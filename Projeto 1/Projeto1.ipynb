{
 "cells": [
  {
   "cell_type": "markdown",
   "metadata": {},
   "source": [
    "___\n",
    "# PROJETO 1"
   ]
  },
  {
   "cell_type": "markdown",
   "metadata": {},
   "source": [
    "## <font color='red'>André Ejzenmesser</font>\n",
    "___"
   ]
  },
  {
   "cell_type": "markdown",
   "metadata": {},
   "source": [
    "## <font color='blue'>Machismo ou Não? Eis a Questão</font>"
   ]
  },
  {
   "cell_type": "markdown",
   "metadata": {},
   "source": [
    "## Introdução\n",
    "\n",
    "Como ultimamente, a sociedade tem grandes conflitos ideologicos e politicos. É importante ver e entender como e se ouveram mudanças nas pessoas e na cultura. Para isso, os grupos escolhidos para comparação foram os aposentados de dois anos diferentes (2011 e 2014) e as diferenças entre as quantidades de homens e mulheres que são chefes de famílias e aposentados para ver se a relação com o sexo da pessoa ou não. Para isso, foram usadas comparações como renda, estado civil, região que mora (Norte, Sul etc.) e anos de estudo.\n",
    "\n",
    "Exemplifique identificando uma pesquisa semelhante feita no Brasil ou no exterior que compare uma parcela da população (apossentados, imigrantes, mulheres, jovens) com todo resto. Critique esta pesquisa (que tipo de variáveis usou? Que recurso de estatística descritiva?). Pode ser um artigo de jornal.\n"
   ]
  },
  {
   "cell_type": "markdown",
   "metadata": {},
   "source": [
    "___\n",
    "## Análise e Resultados"
   ]
  },
  {
   "cell_type": "code",
   "execution_count": 1,
   "metadata": {
    "collapsed": true
   },
   "outputs": [],
   "source": [
    "%matplotlib inline\n",
    "import pandas as pd\n",
    "import matplotlib.pyplot as plt\n",
    "import numpy as np\n",
    "import os"
   ]
  },
  {
   "cell_type": "code",
   "execution_count": 2,
   "metadata": {
    "collapsed": false
   },
   "outputs": [
    {
     "name": "stdout",
     "output_type": "stream",
     "text": [
      "Esperamos trabalhar no diretório\n",
      "/Users/AndreEjz/Desktop/CD/Projeto 1\n"
     ]
    }
   ],
   "source": [
    "print('Esperamos trabalhar no diretório')\n",
    "print(os.getcwd())"
   ]
  },
  {
   "cell_type": "markdown",
   "metadata": {},
   "source": [
    "____\n",
    "# PNAD 2014"
   ]
  },
  {
   "cell_type": "code",
   "execution_count": 3,
   "metadata": {
    "collapsed": false
   },
   "outputs": [
    {
     "ename": "OSError",
     "evalue": "File b'PNAD_e_Dicionario_2014/PES2014.csv' does not exist",
     "output_type": "error",
     "traceback": [
      "\u001b[0;31m---------------------------------------------------------------------------\u001b[0m",
      "\u001b[0;31mOSError\u001b[0m                                   Traceback (most recent call last)",
      "\u001b[0;32m<ipython-input-3-6bd8de0c5d66>\u001b[0m in \u001b[0;36m<module>\u001b[0;34m()\u001b[0m\n\u001b[1;32m      2\u001b[0m     \u001b[0mSão\u001b[0m \u001b[0mmuitas\u001b[0m \u001b[0mcolunas\u001b[0m \u001b[0me\u001b[0m \u001b[0mprecisamos\u001b[0m \u001b[0musar\u001b[0m \u001b[0ma\u001b[0m \u001b[0minformação\u001b[0m \u001b[0mde\u001b[0m \u001b[0mtamanho\u001b[0m \u001b[0mpara\u001b[0m \u001b[0mler\u001b[0m \u001b[0ma\u001b[0m \u001b[0mPNAD\u001b[0m \u001b[0mde\u001b[0m \u001b[0mfato\u001b[0m\u001b[0;34m\u001b[0m\u001b[0m\n\u001b[1;32m      3\u001b[0m     como uma base de tamanho fixo\"\"\"\n\u001b[0;32m----> 4\u001b[0;31m \u001b[0mestrutura\u001b[0m \u001b[0;34m=\u001b[0m \u001b[0mpd\u001b[0m\u001b[0;34m.\u001b[0m\u001b[0mread_csv\u001b[0m\u001b[0;34m(\u001b[0m\u001b[0;34m\"PNAD_e_Dicionario_2014/PES2014.csv\"\u001b[0m\u001b[0;34m,\u001b[0m \u001b[0msep\u001b[0m\u001b[0;34m=\u001b[0m\u001b[0;34m\",\"\u001b[0m\u001b[0;34m)\u001b[0m\u001b[0;34m\u001b[0m\u001b[0m\n\u001b[0m",
      "\u001b[0;32m/Users/AndreEjz/anaconda/lib/python3.5/site-packages/pandas/io/parsers.py\u001b[0m in \u001b[0;36mparser_f\u001b[0;34m(filepath_or_buffer, sep, delimiter, header, names, index_col, usecols, squeeze, prefix, mangle_dupe_cols, dtype, engine, converters, true_values, false_values, skipinitialspace, skiprows, skipfooter, nrows, na_values, keep_default_na, na_filter, verbose, skip_blank_lines, parse_dates, infer_datetime_format, keep_date_col, date_parser, dayfirst, iterator, chunksize, compression, thousands, decimal, lineterminator, quotechar, quoting, escapechar, comment, encoding, dialect, tupleize_cols, error_bad_lines, warn_bad_lines, skip_footer, doublequote, delim_whitespace, as_recarray, compact_ints, use_unsigned, low_memory, buffer_lines, memory_map, float_precision)\u001b[0m\n\u001b[1;32m    560\u001b[0m                     skip_blank_lines=skip_blank_lines)\n\u001b[1;32m    561\u001b[0m \u001b[0;34m\u001b[0m\u001b[0m\n\u001b[0;32m--> 562\u001b[0;31m         \u001b[0;32mreturn\u001b[0m \u001b[0m_read\u001b[0m\u001b[0;34m(\u001b[0m\u001b[0mfilepath_or_buffer\u001b[0m\u001b[0;34m,\u001b[0m \u001b[0mkwds\u001b[0m\u001b[0;34m)\u001b[0m\u001b[0;34m\u001b[0m\u001b[0m\n\u001b[0m\u001b[1;32m    563\u001b[0m \u001b[0;34m\u001b[0m\u001b[0m\n\u001b[1;32m    564\u001b[0m     \u001b[0mparser_f\u001b[0m\u001b[0;34m.\u001b[0m\u001b[0m__name__\u001b[0m \u001b[0;34m=\u001b[0m \u001b[0mname\u001b[0m\u001b[0;34m\u001b[0m\u001b[0m\n",
      "\u001b[0;32m/Users/AndreEjz/anaconda/lib/python3.5/site-packages/pandas/io/parsers.py\u001b[0m in \u001b[0;36m_read\u001b[0;34m(filepath_or_buffer, kwds)\u001b[0m\n\u001b[1;32m    313\u001b[0m \u001b[0;34m\u001b[0m\u001b[0m\n\u001b[1;32m    314\u001b[0m     \u001b[0;31m# Create the parser.\u001b[0m\u001b[0;34m\u001b[0m\u001b[0;34m\u001b[0m\u001b[0m\n\u001b[0;32m--> 315\u001b[0;31m     \u001b[0mparser\u001b[0m \u001b[0;34m=\u001b[0m \u001b[0mTextFileReader\u001b[0m\u001b[0;34m(\u001b[0m\u001b[0mfilepath_or_buffer\u001b[0m\u001b[0;34m,\u001b[0m \u001b[0;34m**\u001b[0m\u001b[0mkwds\u001b[0m\u001b[0;34m)\u001b[0m\u001b[0;34m\u001b[0m\u001b[0m\n\u001b[0m\u001b[1;32m    316\u001b[0m \u001b[0;34m\u001b[0m\u001b[0m\n\u001b[1;32m    317\u001b[0m     \u001b[0;32mif\u001b[0m \u001b[0;34m(\u001b[0m\u001b[0mnrows\u001b[0m \u001b[0;32mis\u001b[0m \u001b[0;32mnot\u001b[0m \u001b[0;32mNone\u001b[0m\u001b[0;34m)\u001b[0m \u001b[0;32mand\u001b[0m \u001b[0;34m(\u001b[0m\u001b[0mchunksize\u001b[0m \u001b[0;32mis\u001b[0m \u001b[0;32mnot\u001b[0m \u001b[0;32mNone\u001b[0m\u001b[0;34m)\u001b[0m\u001b[0;34m:\u001b[0m\u001b[0;34m\u001b[0m\u001b[0m\n",
      "\u001b[0;32m/Users/AndreEjz/anaconda/lib/python3.5/site-packages/pandas/io/parsers.py\u001b[0m in \u001b[0;36m__init__\u001b[0;34m(self, f, engine, **kwds)\u001b[0m\n\u001b[1;32m    643\u001b[0m             \u001b[0mself\u001b[0m\u001b[0;34m.\u001b[0m\u001b[0moptions\u001b[0m\u001b[0;34m[\u001b[0m\u001b[0;34m'has_index_names'\u001b[0m\u001b[0;34m]\u001b[0m \u001b[0;34m=\u001b[0m \u001b[0mkwds\u001b[0m\u001b[0;34m[\u001b[0m\u001b[0;34m'has_index_names'\u001b[0m\u001b[0;34m]\u001b[0m\u001b[0;34m\u001b[0m\u001b[0m\n\u001b[1;32m    644\u001b[0m \u001b[0;34m\u001b[0m\u001b[0m\n\u001b[0;32m--> 645\u001b[0;31m         \u001b[0mself\u001b[0m\u001b[0;34m.\u001b[0m\u001b[0m_make_engine\u001b[0m\u001b[0;34m(\u001b[0m\u001b[0mself\u001b[0m\u001b[0;34m.\u001b[0m\u001b[0mengine\u001b[0m\u001b[0;34m)\u001b[0m\u001b[0;34m\u001b[0m\u001b[0m\n\u001b[0m\u001b[1;32m    646\u001b[0m \u001b[0;34m\u001b[0m\u001b[0m\n\u001b[1;32m    647\u001b[0m     \u001b[0;32mdef\u001b[0m \u001b[0mclose\u001b[0m\u001b[0;34m(\u001b[0m\u001b[0mself\u001b[0m\u001b[0;34m)\u001b[0m\u001b[0;34m:\u001b[0m\u001b[0;34m\u001b[0m\u001b[0m\n",
      "\u001b[0;32m/Users/AndreEjz/anaconda/lib/python3.5/site-packages/pandas/io/parsers.py\u001b[0m in \u001b[0;36m_make_engine\u001b[0;34m(self, engine)\u001b[0m\n\u001b[1;32m    797\u001b[0m     \u001b[0;32mdef\u001b[0m \u001b[0m_make_engine\u001b[0m\u001b[0;34m(\u001b[0m\u001b[0mself\u001b[0m\u001b[0;34m,\u001b[0m \u001b[0mengine\u001b[0m\u001b[0;34m=\u001b[0m\u001b[0;34m'c'\u001b[0m\u001b[0;34m)\u001b[0m\u001b[0;34m:\u001b[0m\u001b[0;34m\u001b[0m\u001b[0m\n\u001b[1;32m    798\u001b[0m         \u001b[0;32mif\u001b[0m \u001b[0mengine\u001b[0m \u001b[0;34m==\u001b[0m \u001b[0;34m'c'\u001b[0m\u001b[0;34m:\u001b[0m\u001b[0;34m\u001b[0m\u001b[0m\n\u001b[0;32m--> 799\u001b[0;31m             \u001b[0mself\u001b[0m\u001b[0;34m.\u001b[0m\u001b[0m_engine\u001b[0m \u001b[0;34m=\u001b[0m \u001b[0mCParserWrapper\u001b[0m\u001b[0;34m(\u001b[0m\u001b[0mself\u001b[0m\u001b[0;34m.\u001b[0m\u001b[0mf\u001b[0m\u001b[0;34m,\u001b[0m \u001b[0;34m**\u001b[0m\u001b[0mself\u001b[0m\u001b[0;34m.\u001b[0m\u001b[0moptions\u001b[0m\u001b[0;34m)\u001b[0m\u001b[0;34m\u001b[0m\u001b[0m\n\u001b[0m\u001b[1;32m    800\u001b[0m         \u001b[0;32melse\u001b[0m\u001b[0;34m:\u001b[0m\u001b[0;34m\u001b[0m\u001b[0m\n\u001b[1;32m    801\u001b[0m             \u001b[0;32mif\u001b[0m \u001b[0mengine\u001b[0m \u001b[0;34m==\u001b[0m \u001b[0;34m'python'\u001b[0m\u001b[0;34m:\u001b[0m\u001b[0;34m\u001b[0m\u001b[0m\n",
      "\u001b[0;32m/Users/AndreEjz/anaconda/lib/python3.5/site-packages/pandas/io/parsers.py\u001b[0m in \u001b[0;36m__init__\u001b[0;34m(self, src, **kwds)\u001b[0m\n\u001b[1;32m   1211\u001b[0m         \u001b[0mkwds\u001b[0m\u001b[0;34m[\u001b[0m\u001b[0;34m'allow_leading_cols'\u001b[0m\u001b[0;34m]\u001b[0m \u001b[0;34m=\u001b[0m \u001b[0mself\u001b[0m\u001b[0;34m.\u001b[0m\u001b[0mindex_col\u001b[0m \u001b[0;32mis\u001b[0m \u001b[0;32mnot\u001b[0m \u001b[0;32mFalse\u001b[0m\u001b[0;34m\u001b[0m\u001b[0m\n\u001b[1;32m   1212\u001b[0m \u001b[0;34m\u001b[0m\u001b[0m\n\u001b[0;32m-> 1213\u001b[0;31m         \u001b[0mself\u001b[0m\u001b[0;34m.\u001b[0m\u001b[0m_reader\u001b[0m \u001b[0;34m=\u001b[0m \u001b[0m_parser\u001b[0m\u001b[0;34m.\u001b[0m\u001b[0mTextReader\u001b[0m\u001b[0;34m(\u001b[0m\u001b[0msrc\u001b[0m\u001b[0;34m,\u001b[0m \u001b[0;34m**\u001b[0m\u001b[0mkwds\u001b[0m\u001b[0;34m)\u001b[0m\u001b[0;34m\u001b[0m\u001b[0m\n\u001b[0m\u001b[1;32m   1214\u001b[0m \u001b[0;34m\u001b[0m\u001b[0m\n\u001b[1;32m   1215\u001b[0m         \u001b[0;31m# XXX\u001b[0m\u001b[0;34m\u001b[0m\u001b[0;34m\u001b[0m\u001b[0m\n",
      "\u001b[0;32mpandas/parser.pyx\u001b[0m in \u001b[0;36mpandas.parser.TextReader.__cinit__ (pandas/parser.c:3427)\u001b[0;34m()\u001b[0m\n",
      "\u001b[0;32mpandas/parser.pyx\u001b[0m in \u001b[0;36mpandas.parser.TextReader._setup_parser_source (pandas/parser.c:6861)\u001b[0;34m()\u001b[0m\n",
      "\u001b[0;31mOSError\u001b[0m: File b'PNAD_e_Dicionario_2014/PES2014.csv' does not exist"
     ]
    }
   ],
   "source": [
    "\"\"\"Vamos ler a estrutura da PNAD como um dataframe.\n",
    "    São muitas colunas e precisamos usar a informação de tamanho para ler a PNAD de fato\n",
    "    como uma base de tamanho fixo\"\"\"\n",
    "estrutura = pd.read_csv(\"PNAD_e_Dicionario_2014/PES2014.csv\", sep=\",\")"
   ]
  },
  {
   "cell_type": "code",
   "execution_count": null,
   "metadata": {
    "collapsed": false,
    "scrolled": true
   },
   "outputs": [],
   "source": [
    "estrutura.head() "
   ]
  },
  {
   "cell_type": "code",
   "execution_count": null,
   "metadata": {
    "collapsed": true
   },
   "outputs": [],
   "source": [
    "#Para facilitar as buscas\n",
    "pnad14 = pd.DataFrame()"
   ]
  },
  {
   "cell_type": "code",
   "execution_count": null,
   "metadata": {
    "collapsed": false
   },
   "outputs": [],
   "source": [
    "#Pegando as váriaveis\n",
    "#Qualitativas:\n",
    "pnad14['regiao'] = estrutura.UF #Unidade Federal\n",
    "pnad14['sexo'] = estrutura.V0302 #Sexo\n",
    "pnad14['posicao_familiar'] = estrutura.V0402 #Posição referente na família (Pessoa de referência == líder da família)\n",
    "pnad14['estado_civil'] = estrutura.V4011 #Estado civil\n",
    "pnad14['aposentado'] = estrutura.V9122 #Aposentado\n",
    "\n",
    "#Quantitativas\n",
    "pnad14['renda'] = estrutura.V4750 #Renda mensal familiar per capta\n",
    "pnad14['idade'] = estrutura.V8005 #Idade\n",
    "pnad14['INSS'] = estrutura.V1252 #Renda inss"
   ]
  },
  {
   "cell_type": "code",
   "execution_count": null,
   "metadata": {
    "collapsed": false
   },
   "outputs": [],
   "source": [
    "pnad14.head(10)"
   ]
  },
  {
   "cell_type": "code",
   "execution_count": null,
   "metadata": {
    "collapsed": true
   },
   "outputs": [],
   "source": [
    "pnad14.sexo = pnad14.sexo.astype('category')\n",
    "pnad14.posicao_familiar = pnad14.posicao_familiar.astype('category')\n",
    "pnad14.estado_civil = pnad14.estado_civil.astype('category')\n",
    "pnad14.aposentado = pnad14.aposentado.astype('category')"
   ]
  },
  {
   "cell_type": "code",
   "execution_count": null,
   "metadata": {
    "collapsed": true
   },
   "outputs": [],
   "source": [
    "pnad14.sexo.cat.categories = ('Masculino','Feminino')\n",
    "pnad14.posicao_familiar.cat.categories = ('Chefe','Conjuge','Filho','Outro_parente','Agregado','Pensionista','Empregado_domestico','Parente_do_empregado')\n",
    "pnad14.estado_civil.cat.categories = ('Solteiro','Casado','Desquitado','Divorciado','Viuvo')\n",
    "pnad14.aposentado.cat.categories = ('Sim','Nao')"
   ]
  },
  {
   "cell_type": "code",
   "execution_count": null,
   "metadata": {
    "collapsed": false
   },
   "outputs": [],
   "source": [
    "#11>= até <=17 --->>> Norte\n",
    "#21>= até <=29 --->>> Nordeste\n",
    "#31>= até <=35 --->>> Sudeste\n",
    "#41>= até <=43 --->>> Sul\n",
    "#50>= até <=53 --->>> Centro-oeste\n",
    "def unid_fed(uf):\n",
    "    if 11<=uf<=17:\n",
    "        return ('Norte')\n",
    "    elif 21<=uf<=29:\n",
    "        return ('Nordeste')\n",
    "    elif 31<=uf<=35:\n",
    "        return ('Sudeste')\n",
    "    elif 41<=uf<=43:\n",
    "        return ('Sul')\n",
    "    elif 50<=uf<=53:\n",
    "        return ('Centro-oeste')\n",
    "    else:\n",
    "        return ('NaN')\n",
    "\n",
    "pnad14.regiao = pnad14.regiao.map(unid_fed)\n",
    "pnad14.regiao = pnad14.regiao.astype('category')"
   ]
  },
  {
   "cell_type": "code",
   "execution_count": null,
   "metadata": {
    "collapsed": false
   },
   "outputs": [],
   "source": [
    "pnad14.head(10)"
   ]
  },
  {
   "cell_type": "markdown",
   "metadata": {},
   "source": [
    "___\n",
    "# PNAD 2011"
   ]
  },
  {
   "cell_type": "code",
   "execution_count": null,
   "metadata": {
    "collapsed": true
   },
   "outputs": [],
   "source": [
    "dados_11 = pd.read_csv(\"PNAD_e_Dicionario_2011/PES2011.csv\", sep=\",\")"
   ]
  },
  {
   "cell_type": "code",
   "execution_count": null,
   "metadata": {
    "collapsed": false
   },
   "outputs": [],
   "source": [
    "pnad11 = pd.DataFrame()\n",
    "\n",
    "#Pegando as váriaveis\n",
    "#Qualitativas:\n",
    "pnad11['regiao'] = dados_11.UF #Unidade Federal\n",
    "pnad11['sexo'] = dados_11.V0302 #Sexo\n",
    "pnad11['posicao_familiar'] = dados_11.V0402 #Posição referente na família (Pessoa de referência == líder da família)\n",
    "pnad11['estado_civil'] = dados_11.V4011 #Estado civil\n",
    "pnad11['aposentado'] = dados_11.V9122 #Aposentado\n",
    "\n",
    "#Quantitativas\n",
    "pnad11['renda'] = dados_11.V4750 #Renda mensal familiar per capta\n",
    "pnad11['idade'] = dados_11.V8005 #Idade\n",
    "pnad11['INSS'] = dados_11.V1252 #Renda INSS\n",
    "\n",
    "pnad11.head(10)"
   ]
  },
  {
   "cell_type": "code",
   "execution_count": null,
   "metadata": {
    "collapsed": false
   },
   "outputs": [],
   "source": [
    "#Transformando os categoricos\n",
    "pnad11.sexo = pnad11.sexo.astype('category')\n",
    "pnad11.posicao_familiar = pnad11.posicao_familiar.astype('category')\n",
    "pnad11.estado_civil = pnad11.estado_civil.astype('category')\n",
    "pnad11.aposentado = pnad11.aposentado.astype('category')"
   ]
  },
  {
   "cell_type": "code",
   "execution_count": null,
   "metadata": {
    "collapsed": false
   },
   "outputs": [],
   "source": [
    "#Dando valores\n",
    "pnad11.sexo.cat.categories = ('Masculino','Feminino')\n",
    "pnad11.posicao_familiar.cat.categories = ('Chefe','Conjuge','Filho','Outro_parente','Agregado','Pensionista','Empregado_domestico','Parente_do_empregado')\n",
    "pnad11.estado_civil.cat.categories = ('Solteiro','Casado','Desquitado','Divorciado','Viuvo')\n",
    "pnad11.aposentado.cat.categories = ('Sim','Nao')\n",
    "\n",
    "#11>= até <=17 --->>> Norte\n",
    "#21>= até <=29 --->>> Nordeste\n",
    "#31>= até <=35 --->>> Sudeste\n",
    "#41>= até <=43 --->>> Sul\n",
    "#50>= até <=53 --->>> Centro-oeste\n",
    "def unid_fed(uf):\n",
    "    if 11<=uf<=17:\n",
    "        return ('Norte')\n",
    "    elif 21<=uf<=29:\n",
    "        return ('Nordeste')\n",
    "    elif 31<=uf<=35:\n",
    "        return ('Sudeste')\n",
    "    elif 41<=uf<=43:\n",
    "        return ('Sul')\n",
    "    elif 50<=uf<=53:\n",
    "        return ('Centro-oeste')\n",
    "    else:\n",
    "        return ('NaN')\n",
    "\n",
    "pnad11.regiao = pnad11.regiao.map(unid_fed)\n",
    "pnad11.regiao = pnad11.regiao.astype('category')"
   ]
  },
  {
   "cell_type": "code",
   "execution_count": null,
   "metadata": {
    "collapsed": false
   },
   "outputs": [],
   "source": [
    "#Imprimindo\n",
    "pnad11.head(10)"
   ]
  },
  {
   "cell_type": "markdown",
   "metadata": {},
   "source": [
    "___\n",
    "# Analisando as variáveis"
   ]
  },
  {
   "cell_type": "markdown",
   "metadata": {},
   "source": [
    "## Análise 1\n",
    "\n",
    "Analisando a posição familiar pelo sexo da pessoa, e comparando dois anos diferentes."
   ]
  },
  {
   "cell_type": "markdown",
   "metadata": {},
   "source": [
    "### Em 2014"
   ]
  },
  {
   "cell_type": "code",
   "execution_count": null,
   "metadata": {
    "collapsed": false
   },
   "outputs": [],
   "source": [
    "regioes = pnad14.regiao\n",
    "sexos = pnad14.sexo\n",
    "posicoes_familiares = pnad14.posicao_familiar\n",
    "EC = pnad14.estado_civil\n",
    "aposentados = pnad14.aposentado\n",
    "rendas = pnad14.renda\n",
    "idades = pnad14.idade"
   ]
  },
  {
   "cell_type": "code",
   "execution_count": null,
   "metadata": {
    "collapsed": false
   },
   "outputs": [],
   "source": [
    "#Tabela de aposentados ou não pela posicao familiar\n",
    "apos_pos_fam14 = pd.crosstab(posicoes_familiares,aposentados,normalize=True)\n",
    "soma = apos_pos_fam14.sum().sum()\n",
    "apos_pos_fam14*100/soma"
   ]
  },
  {
   "cell_type": "code",
   "execution_count": null,
   "metadata": {
    "collapsed": false
   },
   "outputs": [],
   "source": [
    "#Tabela do sexo dos aposentados pela posicao familiar\n",
    "sexo_apos_pos_fam14 = pd.crosstab(pnad14.posicao_familiar,pnad14[aposentados=='Sim'].sexo,normalize=True)\n",
    "soma = sexo_apos_pos_fam14.sum().sum()\n",
    "sexo_apos_pos_fam14*100/soma"
   ]
  },
  {
   "cell_type": "markdown",
   "metadata": {},
   "source": [
    "### Em 2011"
   ]
  },
  {
   "cell_type": "code",
   "execution_count": null,
   "metadata": {
    "collapsed": false
   },
   "outputs": [],
   "source": [
    "#Tabela de aposentados ou não pela posicao familiar\n",
    "apos_pos_fam11 = pd.crosstab(pnad11.posicao_familiar,pnad11.aposentado,normalize=True)\n",
    "soma = apos_pos_fam11.sum().sum()\n",
    "apos_pos_fam11*100/soma"
   ]
  },
  {
   "cell_type": "code",
   "execution_count": null,
   "metadata": {
    "collapsed": false
   },
   "outputs": [],
   "source": [
    "#Tabela do sexo dos aposentados pela posicao familiar\n",
    "sexo_apos_pos_fam11 = pd.crosstab(pnad11.posicao_familiar,pnad11[(pnad11.aposentado=='Sim')].sexo,normalize=True)\n",
    "soma = sexo_apos_pos_fam11.sum().sum()\n",
    "sexo_apos_pos_fam11*100/soma"
   ]
  },
  {
   "cell_type": "markdown",
   "metadata": {},
   "source": [
    "### Juntando os anos"
   ]
  },
  {
   "cell_type": "code",
   "execution_count": null,
   "metadata": {
    "collapsed": false
   },
   "outputs": [],
   "source": [
    "sexo_apos_pos_fam11.plot(kind='bar', color=('blue', 'red','yellow','green','orange','salmon','black','#7352FF'), legend=True, title='Sexo dos aposentados pela posição familiar - 2011')\n",
    "sexo_apos_pos_fam14.plot(kind='bar', color=('blue', 'red','yellow','green','orange','salmon','black','#7352FF'), legend=True, title='Sexo dos aposentados pela posição familiar - 2014')"
   ]
  },
  {
   "cell_type": "markdown",
   "metadata": {},
   "source": [
    "## Conclusão 1:\n",
    "\n",
    "Com esta análise, é possível observar que em ambos os anos quem lidera as famílias, dos aposentados, são os homens.\n",
    "\n",
    "Olhando de um contexto geral, os aposentados são apenas uma pequena parte da liderança de suas familias. Grande parte é liderada por pessoas não aposentadas"
   ]
  },
  {
   "cell_type": "markdown",
   "metadata": {},
   "source": [
    "___\n",
    "## Análise 2"
   ]
  },
  {
   "cell_type": "code",
   "execution_count": null,
   "metadata": {
    "collapsed": false
   },
   "outputs": [],
   "source": [
    "chefes_sexo11 = pnad11[(pnad11.posicao_familiar=='Chefe')].sexo.value_counts(True)*100\n",
    "chefes_sexo11.plot(kind='pie', colors=('blue', 'red'), autopct=\"%0.2f\",legend=False, title='Chefes por sexo - 2011')"
   ]
  },
  {
   "cell_type": "code",
   "execution_count": null,
   "metadata": {
    "collapsed": false
   },
   "outputs": [],
   "source": [
    "chefes_sexo14 = pnad14[(pnad14.posicao_familiar=='Chefe')].sexo.value_counts(True)*100\n",
    "chefes_sexo14.plot(kind='pie', colors=('blue', 'red'), autopct=\"%0.2f\",legend=False, title='Chefes por sexo - 2014')"
   ]
  },
  {
   "cell_type": "markdown",
   "metadata": {},
   "source": [
    "## Conclusão 2:\n",
    "\n",
    "Com esta analise, é possível observar que a tendencia ao longo do tempo foi de diminuir a diferença entre homens e mulheres na liderança de suas familias."
   ]
  },
  {
   "cell_type": "markdown",
   "metadata": {},
   "source": [
    "____\n",
    "## Análise 3\n",
    "\n",
    "Analisando posição familiar com os diferentes estados civis e ver a relação de sexo."
   ]
  },
  {
   "cell_type": "code",
   "execution_count": null,
   "metadata": {
    "collapsed": false
   },
   "outputs": [],
   "source": [
    "#Posicao familiar pelo estado civil --- apenas dos aposentados\n",
    "pos_fam_ec11 = pd.crosstab(pnad11[pnad11.aposentado=='Sim'].posicao_familiar,pnad11.estado_civil,normalize=True)\n",
    "soma = pos_fam_ec11.sum().sum()\n",
    "pos_fam_ec11*100/soma"
   ]
  },
  {
   "cell_type": "code",
   "execution_count": null,
   "metadata": {
    "collapsed": false
   },
   "outputs": [],
   "source": [
    "pos_fam_ec14 = pd.crosstab(pnad14[pnad14.aposentado=='Sim'].posicao_familiar,pnad14.estado_civil,normalize=True)\n",
    "soma = pos_fam_ec14.sum().sum()\n",
    "pos_fam_ec14*100/soma"
   ]
  },
  {
   "cell_type": "code",
   "execution_count": null,
   "metadata": {
    "collapsed": false
   },
   "outputs": [],
   "source": [
    "#Quantos chefes de familias são mulheres casadas em ambos os anos\n",
    "chefes_sexo11 = pd.crosstab(pnad11[(pnad11.aposentado=='Sim')&(pnad11.posicao_familiar=='Chefe')].sexo,pnad11.estado_civil,normalize=True)\n",
    "soma = chefes_sexo11.sum().sum()\n",
    "chefes_sexo11*100/soma"
   ]
  },
  {
   "cell_type": "code",
   "execution_count": null,
   "metadata": {
    "collapsed": false
   },
   "outputs": [],
   "source": [
    "chefes_sexo14 = pd.crosstab(pnad14[(pnad14.aposentado=='Sim')&(pnad14.posicao_familiar=='Chefe')].sexo,pnad14.estado_civil,normalize=True)\n",
    "soma = chefes_sexo14.sum().sum()\n",
    "chefes_sexo14*100/soma"
   ]
  },
  {
   "cell_type": "code",
   "execution_count": null,
   "metadata": {
    "collapsed": false
   },
   "outputs": [],
   "source": [
    "chefes_sexo11.plot(kind='bar', color=('blue', 'red','yellow','green','orange'),legend=True, title='Chefes de famílias aposentados divididos por sexo por estado civil - 2011',stacked=True)\n",
    "chefes_sexo14.plot(kind='bar', color=('blue', 'red','yellow','green','orange'),legend=True, title='Chefes de famílias aposentados divididos por sexo por estado civil - 2014',stacked=True)"
   ]
  },
  {
   "cell_type": "markdown",
   "metadata": {},
   "source": [
    "## Conclusão 3:\n",
    "\n",
    "Com esta analise, é possível comparar as diferenças entre os homens e as mulheres. É possível ver que das mulheres que são chefes de suas famílias, várias delas são por motivos de não terem um marido. E isso ocorre em ambos os anos analisados.\n",
    "\n",
    "Apesar de ser pequena a diferença, quando há um casal, o chefe é normalmente o homem ao invés da mulher."
   ]
  },
  {
   "cell_type": "markdown",
   "metadata": {},
   "source": [
    "____\n",
    "## Análise 4:\n",
    "\n",
    "Analisando a posição familiar pela unidade federal. Isso permite observar as tendencias de cada região do país. Observar onde há mudança e se há mudança de pensamento."
   ]
  },
  {
   "cell_type": "code",
   "execution_count": null,
   "metadata": {
    "collapsed": false
   },
   "outputs": [],
   "source": [
    "pos_uf11 = pd.crosstab(pnad11[(pnad11.posicao_familiar=='Chefe')].sexo,pnad11.regiao,normalize=True)\n",
    "soma = pos_uf11.sum().sum()\n",
    "pos_uf11*100/soma"
   ]
  },
  {
   "cell_type": "code",
   "execution_count": null,
   "metadata": {
    "collapsed": false
   },
   "outputs": [],
   "source": [
    "pos_uf14 = pd.crosstab(pnad14[(pnad14.posicao_familiar=='Chefe')].sexo,pnad14.regiao,normalize=True)\n",
    "soma = pos_uf14.sum().sum()\n",
    "pos_uf14*100/soma"
   ]
  },
  {
   "cell_type": "code",
   "execution_count": null,
   "metadata": {
    "collapsed": false
   },
   "outputs": [],
   "source": [
    "pos_uf112 = pd.crosstab(pnad11[(pnad11.posicao_familiar=='Chefe')&(pnad11.aposentado=='Sim')].sexo,pnad11.regiao,normalize=True)\n",
    "soma = pos_uf112.sum().sum()\n",
    "pos_uf112*100/soma"
   ]
  },
  {
   "cell_type": "code",
   "execution_count": null,
   "metadata": {
    "collapsed": false
   },
   "outputs": [],
   "source": [
    "pos_uf142 = pd.crosstab(pnad14[(pnad14.posicao_familiar=='Chefe')&(pnad14.aposentado=='Sim')].sexo,pnad14.regiao,normalize=True)\n",
    "soma = pos_uf142.sum().sum()\n",
    "pos_uf142*100/soma"
   ]
  },
  {
   "cell_type": "code",
   "execution_count": null,
   "metadata": {
    "collapsed": false
   },
   "outputs": [],
   "source": [
    "print('''Legenda:\n",
    "Azul = Centro-oeste\n",
    "Vermelho = Nordeste\n",
    "Laranja = Norte\n",
    "Verde = Sudeste\n",
    "Amarelo = Sul''')\n",
    "\n",
    "pos_uf11.plot(kind='bar', color=('blue', 'red','orange','green','yellow'),legend=False, title='Chefes por região - 2011',stacked=True)\n",
    "pos_uf14.plot(kind='bar', color=('blue', 'red','orange','green','yellow'),legend=False, title='Chefes  por região - 2014',stacked=True)\n",
    "pos_uf112.plot(kind='bar', color=('blue', 'red','orange','green','yellow'),legend=False, title='Chefes aposentados por região - 2011',stacked=True)\n",
    "pos_uf142.plot(kind='bar', color=('blue', 'red','orange','green','yellow'),legend=False, title='Chefes aposentados por região - 2014',stacked=True)"
   ]
  },
  {
   "cell_type": "markdown",
   "metadata": {},
   "source": [
    "## Conclusão 4:\n",
    "\n",
    "Com esta análise é possível observar que existem diferença na liderança das familias nas diferentes regiões do país. Tais dados fazem possível perceber as tendencias ideologicas ao longo do tempo, onde, por exemplo no sudeste que é mais desenvolvido, a diferença tende a ser menor entre homens e mulher, enquanto no norte a diferença não sofre tantas alterações."
   ]
  },
  {
   "cell_type": "markdown",
   "metadata": {},
   "source": [
    "____\n",
    "## Análise 5\n",
    "\n",
    "Nesta análise será feita a comparação das idades entre os chefes de familias, aposentados ou não."
   ]
  },
  {
   "cell_type": "code",
   "execution_count": null,
   "metadata": {
    "collapsed": false
   },
   "outputs": [],
   "source": [
    "x = pnad11[(pnad11.posicao_familiar=='Chefe')].idade\n",
    "y = pnad14[(pnad14.posicao_familiar=='Chefe')].idade\n",
    "data_to_plot = [x,y]\n",
    "\n",
    "fig = plt.figure(1, figsize=(9, 6))\n",
    "ax = fig.add_subplot(111)\n",
    "bp = ax.boxplot(data_to_plot)\n",
    "plt.title('Idade dos chefes de familias')\n",
    "ax.set_xticklabels(['2011', '2014'])\n",
    "plt.grid(True)"
   ]
  },
  {
   "cell_type": "code",
   "execution_count": null,
   "metadata": {
    "collapsed": false,
    "scrolled": true
   },
   "outputs": [],
   "source": [
    "x = pnad11[(pnad11.posicao_familiar=='Chefe')&(pnad11.aposentado=='Sim')].idade\n",
    "y = pnad14[(pnad14.posicao_familiar=='Chefe')&(pnad14.aposentado=='Sim')].idade\n",
    "data_to_plot = [x,y]\n",
    "\n",
    "fig = plt.figure(1, figsize=(9, 6))\n",
    "ax = fig.add_subplot(111)\n",
    "bp = ax.boxplot(data_to_plot)\n",
    "plt.title('Idade dos chefes de familias aposentados')\n",
    "ax.set_xticklabels(['2011', '2014'])\n",
    "plt.grid(True)"
   ]
  },
  {
   "cell_type": "code",
   "execution_count": null,
   "metadata": {
    "collapsed": false
   },
   "outputs": [],
   "source": [
    "print('A média das idades dos chefes em 2011 é: ',pnad11[(pnad11.posicao_familiar=='Chefe')].idade.mean())\n",
    "print('A média das idades dos chefes em 2014 é: ',pnad14[(pnad14.posicao_familiar=='Chefe')].idade.mean())\n",
    "print()\n",
    "print('A mediana das idades dos chefes em 2011 é: ',pnad11[(pnad11.posicao_familiar=='Chefe')].idade.median())\n",
    "print('A mediana das idades dos chefes em 2014 é: ',pnad14[(pnad14.posicao_familiar=='Chefe')].idade.median())\n",
    "print()\n",
    "print('A média das idades dos chefes aposentados em 2011 é: ',pnad11[(pnad11.posicao_familiar=='Chefe')&(pnad11.aposentado=='Sim')].idade.mean())\n",
    "print('A média das idades dos chefes aposentados em 2014 é: ',pnad14[(pnad14.posicao_familiar=='Chefe')&(pnad14.aposentado=='Sim')].idade.mean())\n",
    "print()\n",
    "print('A mediana das idades dos chefes aposentados em 2011 é: ',pnad11[(pnad11.posicao_familiar=='Chefe')&(pnad11.aposentado=='Sim')].idade.median())\n",
    "print('A mediana das idades dos chefes aposentados em 2014 é: ',pnad14[(pnad14.posicao_familiar=='Chefe')&(pnad14.aposentado=='Sim')].idade.median())"
   ]
  },
  {
   "cell_type": "markdown",
   "metadata": {},
   "source": [
    "## Conclusão 5:\n",
    "\n",
    "Com esta análise é possível observar que a idade não influencia se uma pessoa é chefe de familia ou não. Uma pessoa ter mais idade, ou seja, ser mais experiente, não significa muita coisa na liderança da familia. A liderença esta com pessoas mais jovens, pessoas com idades por volta de 50 anos de idade."
   ]
  },
  {
   "cell_type": "markdown",
   "metadata": {},
   "source": [
    "_____\n",
    "## Análise 6\n",
    "\n",
    "Nesta análise será feita a diferença das rendas entre os chefes de famílias homens e mulheres, e ver se existe relação com o dinheiro ou não."
   ]
  },
  {
   "cell_type": "code",
   "execution_count": null,
   "metadata": {
    "collapsed": true
   },
   "outputs": [],
   "source": [
    "pnad14_renda = pnad14[(pnad14.renda!=999999999999)&(~pnad14.renda.isnull())]"
   ]
  },
  {
   "cell_type": "code",
   "execution_count": null,
   "metadata": {
    "collapsed": false
   },
   "outputs": [],
   "source": [
    "pnad14_renda.renda.describe()"
   ]
  },
  {
   "cell_type": "code",
   "execution_count": null,
   "metadata": {
    "collapsed": false
   },
   "outputs": [],
   "source": [
    "quantidade_classes = np.sqrt(349613)\n",
    "delta = 331200\n",
    "\n",
    "amplitude_sugerida = delta/quantidade_classes\n",
    "print(amplitude_sugerida)"
   ]
  },
  {
   "cell_type": "code",
   "execution_count": null,
   "metadata": {
    "collapsed": true
   },
   "outputs": [],
   "source": [
    "#Caso não goste do resultado\n",
    "amplitude_sugerida = 550\n",
    "faixa = np.arange(0,15000,amplitude_sugerida)"
   ]
  },
  {
   "cell_type": "code",
   "execution_count": null,
   "metadata": {
    "collapsed": false
   },
   "outputs": [],
   "source": [
    "varCat_renda = pd.cut(pnad14_renda.renda,faixa)\n",
    "varCat_renda.value_counts()"
   ]
  },
  {
   "cell_type": "code",
   "execution_count": null,
   "metadata": {
    "collapsed": false
   },
   "outputs": [],
   "source": [
    "plot = pnad14_renda[pnad14_renda.aposentado=='Sim'].renda.plot.hist(bins=faixa, title='Renda Mensal dos aposentados - 2014', normed=1)"
   ]
  },
  {
   "cell_type": "code",
   "execution_count": null,
   "metadata": {
    "collapsed": false
   },
   "outputs": [],
   "source": [
    "print('2014\\n')\n",
    "print('A média das rendas mensais é: ',pnad14_renda.renda.mean())\n",
    "print('A média das rendas mensais dos aposentados é: ',pnad14_renda[pnad14_renda.aposentado=='Sim'].renda.mean())\n",
    "print()\n",
    "print('A mediana das rendas mensais é: ',pnad14_renda.renda.median())\n",
    "print('A mediana das rendas mensais dos aposentados é: ',pnad14_renda[pnad14_renda.aposentado=='Sim'].renda.median())"
   ]
  },
  {
   "cell_type": "code",
   "execution_count": null,
   "metadata": {
    "collapsed": false
   },
   "outputs": [],
   "source": [
    "plot = pnad14_renda[(pnad14_renda.aposentado=='Sim')&(pnad14_renda.sexo=='Masculino')&(pnad14_renda.posicao_familiar=='Chefe')].renda.plot.hist(bins=faixa, title='Renda Mensal dos aposentados chefe de familia homens - 2014', normed=1)"
   ]
  },
  {
   "cell_type": "code",
   "execution_count": null,
   "metadata": {
    "collapsed": false
   },
   "outputs": [],
   "source": [
    "plot = pnad14_renda[(pnad14_renda.aposentado=='Sim')&(pnad14_renda.sexo=='Feminino')&(pnad14_renda.posicao_familiar=='Chefe')].renda.plot.hist(bins=faixa, title='Renda Mensal dos aposentados chefe de familia mulheres - 2014', normed=1)"
   ]
  },
  {
   "cell_type": "code",
   "execution_count": null,
   "metadata": {
    "collapsed": false
   },
   "outputs": [],
   "source": [
    "x = pnad14_renda[(pnad14_renda.aposentado=='Sim')&(pnad14_renda.posicao_familiar=='Chefe')].renda\n",
    "y = pnad14_renda[(pnad14_renda.aposentado=='Sim')&(pnad14_renda.posicao_familiar!='Chefe')].renda\n",
    "data_to_plot = [x,y]\n",
    "\n",
    "fig = plt.figure(1, figsize=(9, 6))\n",
    "ax = fig.add_subplot(111)\n",
    "bp = ax.boxplot(data_to_plot)\n",
    "plt.title('Renda dos aposentados chefes contra outros')\n",
    "ax.set_xticklabels(['Chefes', 'Não chefes'])\n",
    "plt.axis([0,10,0,3000])\n",
    "plt.grid(True)"
   ]
  },
  {
   "cell_type": "code",
   "execution_count": null,
   "metadata": {
    "collapsed": false
   },
   "outputs": [],
   "source": [
    "print('Covariância femenina:',np.cov(pnad14_renda[(pnad14_renda.aposentado=='Sim')&(pnad14_renda.sexo=='Feminino')&(pnad14_renda.posicao_familiar=='Chefe')].idade,pnad14_renda[(pnad14_renda.aposentado=='Sim')&(pnad14_renda.sexo=='Feminino')&(pnad14_renda.posicao_familiar=='Chefe')].renda)[0,1])\n",
    "print('Covariância masculino:',np.cov(pnad14_renda[(pnad14_renda.aposentado=='Sim')&(pnad14_renda.sexo=='Masculino')&(pnad14_renda.posicao_familiar=='Chefe')].idade,pnad14_renda[(pnad14_renda.aposentado=='Sim')&(pnad14_renda.sexo=='Masculino')&(pnad14_renda.posicao_familiar=='Chefe')].renda)[0,1])\n",
    "print('Covariância geral:',np.cov(pnad14_renda[(pnad14_renda.aposentado=='Sim')&(pnad14_renda.posicao_familiar=='Chefe')].idade,pnad14_renda[(pnad14_renda.aposentado=='Sim')&(pnad14_renda.posicao_familiar=='Chefe')].renda)[0,1])"
   ]
  },
  {
   "cell_type": "code",
   "execution_count": null,
   "metadata": {
    "collapsed": false
   },
   "outputs": [],
   "source": [
    "print('Correlação femenina:',np.corrcoef(pnad14_renda[(pnad14_renda.aposentado=='Sim')&(pnad14_renda.sexo=='Feminino')&(pnad14_renda.posicao_familiar=='Chefe')].idade,pnad14_renda[(pnad14_renda.aposentado=='Sim')&(pnad14_renda.sexo=='Feminino')&(pnad14_renda.posicao_familiar=='Chefe')].renda)[0,1])\n",
    "print('Correlação masculino:',np.corrcoef(pnad14_renda[(pnad14_renda.aposentado=='Sim')&(pnad14_renda.sexo=='Masculino')&(pnad14_renda.posicao_familiar=='Chefe')].idade,pnad14_renda[(pnad14_renda.aposentado=='Sim')&(pnad14_renda.sexo=='Masculino')&(pnad14_renda.posicao_familiar=='Chefe')].renda)[0,1])\n",
    "print('Correlação geral:',np.corrcoef(pnad14_renda[(pnad14_renda.aposentado=='Sim')&(pnad14_renda.posicao_familiar=='Chefe')].idade,pnad14_renda[(pnad14_renda.aposentado=='Sim')&(pnad14_renda.posicao_familiar=='Chefe')].renda)[0,1])"
   ]
  },
  {
   "cell_type": "markdown",
   "metadata": {},
   "source": [
    "## Conclusão 6:\n",
    "\n",
    "Não existe tanta diferença entre as rendas mensais dos homens chefes aposentados das mulheres, nem dos aposentados chefes, isto é homens e mulheres, com os não chefes.\n",
    "\n",
    "Com os valores de covariância e correlação é possível interpretar que os valores das rendas são bem dispersos, além de que os valores estarem negativos na covariância indicam que as rendas diminuem conforme a idade aumenta."
   ]
  },
  {
   "cell_type": "markdown",
   "metadata": {},
   "source": [
    "## Análise 7\n",
    "\n",
    "Nesta análise será possível observar a relação que se tem com o dinheiro recebido pela aposentadoria de cada um com a posição familiar."
   ]
  },
  {
   "cell_type": "code",
   "execution_count": null,
   "metadata": {
    "collapsed": true
   },
   "outputs": [],
   "source": [
    "pnad14_inss = pnad14[(pnad14.INSS!=999999999999)&(~pnad14.INSS.isnull())]"
   ]
  },
  {
   "cell_type": "code",
   "execution_count": null,
   "metadata": {
    "collapsed": true
   },
   "outputs": [],
   "source": [
    "pnad11_inss = pnad11[(pnad11.INSS!=999999999999)&(~pnad11.INSS.isnull())]"
   ]
  },
  {
   "cell_type": "code",
   "execution_count": null,
   "metadata": {
    "collapsed": false
   },
   "outputs": [],
   "source": [
    "pnad14_inss.INSS.describe()"
   ]
  },
  {
   "cell_type": "code",
   "execution_count": null,
   "metadata": {
    "collapsed": false
   },
   "outputs": [],
   "source": [
    "quantidade_classes = np.sqrt(38020)\n",
    "delta = 36000-610\n",
    "\n",
    "amplitude_sugerida = delta/quantidade_classes\n",
    "print(amplitude_sugerida)"
   ]
  },
  {
   "cell_type": "code",
   "execution_count": null,
   "metadata": {
    "collapsed": true
   },
   "outputs": [],
   "source": [
    "#Caso não goste do resultado\n",
    "amplitude_sugerida = 500\n",
    "faixa = np.arange(0,20000,amplitude_sugerida)"
   ]
  },
  {
   "cell_type": "code",
   "execution_count": null,
   "metadata": {
    "collapsed": false
   },
   "outputs": [],
   "source": [
    "varCat_renda = pd.cut(pnad14_renda.renda,faixa)\n",
    "varCat_renda.value_counts()"
   ]
  },
  {
   "cell_type": "code",
   "execution_count": null,
   "metadata": {
    "collapsed": false
   },
   "outputs": [],
   "source": [
    "#Gráfico da diferença entre as rendas de homens e mulheres aposentados chefes de familia\n",
    "x = pnad14_inss[(pnad14_inss.idade>55)&(pnad14_inss.sexo=='Feminino')&(pnad14_inss.aposentado=='Sim')&(pnad14_inss.posicao_familiar=='Chefe')].idade\n",
    "y = pnad14_inss[(pnad14_inss.idade>55)&(pnad14_inss.sexo=='Feminino')&(pnad14_inss.aposentado=='Sim')&(pnad14_inss.posicao_familiar=='Chefe')].INSS\n",
    "plt.plot(x,y,'ro',label='INSS das mulheres chefes')\n",
    "plt.plot(pnad14_inss[(pnad14_inss.idade>55)&(pnad14_inss.sexo=='Feminino')&(pnad14_inss.aposentado=='Sim')&(pnad14_inss.posicao_familiar!='Chefe')].idade,pnad14_inss[(pnad14_inss.idade>55)&(pnad14_inss.sexo=='Feminino')&(pnad14_inss.aposentado=='Sim')&(pnad14_inss.posicao_familiar!='Chefe')].INSS,'ko',label='INSS de mulheres não chefes')\n",
    "plt.title('Valor da renda pelo INSS dos aposentados por suas idades')\n",
    "plt.xlabel('Idade')\n",
    "plt.ylabel('Valor da renda')\n",
    "plt.grid(True)\n",
    "plt.legend(bbox_to_anchor=(1.05,1),loc=2, borderaxespad=0)\n",
    "plt.show()"
   ]
  },
  {
   "cell_type": "code",
   "execution_count": null,
   "metadata": {
    "collapsed": false
   },
   "outputs": [],
   "source": [
    "#Gráfico da diferença entre as rendas de homens e mulheres aposentados chefes de familia\n",
    "x = pnad14_inss[(pnad14_inss.idade>55)&(pnad14_inss.sexo=='Masculino')&(pnad14_inss.aposentado=='Sim')&(pnad14_inss.posicao_familiar=='Chefe')].idade\n",
    "y = pnad14_inss[(pnad14_inss.idade>55)&(pnad14_inss.sexo=='Masculino')&(pnad14_inss.aposentado=='Sim')&(pnad14_inss.posicao_familiar=='Chefe')].INSS\n",
    "plt.plot(x,y,'ro',label='INSS de homens chefes')\n",
    "plt.plot(pnad14_inss[(pnad14_inss.idade>55)&(pnad14_inss.sexo=='Masculino')&(pnad14_inss.aposentado=='Sim')&(pnad14_inss.posicao_familiar!='Chefe')].idade,pnad14_inss[(pnad14_inss.idade>55)&(pnad14_inss.sexo=='Masculino')&(pnad14_inss.aposentado=='Sim')&(pnad14_inss.posicao_familiar!='Chefe')].INSS,'ko',label='INSS de homens não chefes')\n",
    "plt.title('Valor da renda pelo INSS dos aposentados por suas idades')\n",
    "plt.xlabel('Idade')\n",
    "plt.ylabel('Valor da renda')\n",
    "plt.grid(True)\n",
    "plt.legend(bbox_to_anchor=(1.05,1),loc=2, borderaxespad=0)\n",
    "plt.show()"
   ]
  },
  {
   "cell_type": "code",
   "execution_count": null,
   "metadata": {
    "collapsed": false
   },
   "outputs": [],
   "source": [
    "def scatter_and_line(dataframe, column1, column2):\n",
    "    \"\"\" Recebe um dataframe e o nome de suas duas colunas, e faz\n",
    "        o scatterplot dos dois e tenta achar a reta de tendência\n",
    "    \"\"\"\n",
    "    a = dataframe[column1].cov(dataframe[column2]) / dataframe[column1].var()\n",
    "    b = dataframe[column2].mean() - a * dataframe[column1].mean()\n",
    "\n",
    "    dataframe.plot.scatter(x=column1, y=column2, color='#50D4FF')\n",
    "\n",
    "    import matplotlib.pyplot as plt\n",
    "    plt.plot((dataframe[column1].min(), dataframe[column1].max()), (a * dataframe[column1].min() + b, a * dataframe[column1].max() + b), color='k')\n",
    "    \n",
    "    print(\"Coeficiente angular a: \", a)\n",
    "    print(\"Coeficiente linear b: \", b)\n",
    "    \n",
    "    \n",
    "scatter_and_line(pnad14_inss, \"idade\", \"INSS\")"
   ]
  },
  {
   "cell_type": "markdown",
   "metadata": {},
   "source": [
    "## Conclusão 7:\n",
    "\n",
    "Com esses gráficos é possível dizer que quanto maior a idade de uma pessoa, menor será o valor recebido pelo INSS por ela. Se essa pessoa for do sexo feminino, seu valor será ainda menor que o dos homens na mesma idade."
   ]
  },
  {
   "cell_type": "markdown",
   "metadata": {
    "collapsed": false
   },
   "source": [
    "___\n",
    "# Conclusão "
   ]
  },
  {
   "cell_type": "markdown",
   "metadata": {
    "collapsed": true
   },
   "source": [
    "Depois de analisar diversas váriaveis das PNAD2011 e PNAD2014 pode chegar algumas conclusões:\n",
    "\n",
    "A primeira é que em ambos os anos, quem lidera as famílias, em grande parte são os homens."
   ]
  },
  {
   "cell_type": "code",
   "execution_count": null,
   "metadata": {
    "collapsed": true
   },
   "outputs": [],
   "source": []
  }
 ],
 "metadata": {
  "anaconda-cloud": {},
  "kernelspec": {
   "display_name": "Python [Root]",
   "language": "python",
   "name": "Python [Root]"
  },
  "language_info": {
   "codemirror_mode": {
    "name": "ipython",
    "version": 3
   },
   "file_extension": ".py",
   "mimetype": "text/x-python",
   "name": "python",
   "nbconvert_exporter": "python",
   "pygments_lexer": "ipython3",
   "version": "3.5.2"
  }
 },
 "nbformat": 4,
 "nbformat_minor": 0
}
