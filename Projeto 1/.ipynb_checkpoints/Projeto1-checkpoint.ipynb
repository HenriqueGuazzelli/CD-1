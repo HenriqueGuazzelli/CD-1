{
 "cells": [
  {
   "cell_type": "markdown",
   "metadata": {},
   "source": [
    "___\n",
    "# PROJETO 1"
   ]
  },
  {
   "cell_type": "markdown",
   "metadata": {},
   "source": [
    "## <font color='red'>André Ejzenmesser</font>\n",
    "___"
   ]
  },
  {
   "cell_type": "markdown",
   "metadata": {},
   "source": [
    "## <font color='blue'>Liderando a Família</font>"
   ]
  },
  {
   "cell_type": "markdown",
   "metadata": {},
   "source": [
    "## Introdução\n",
    "\n",
    "Como ultimamente, a sociedade tem grandes conflitos ideologicos e politicos é importante ver e entender como e se ouveram mudanças nas pessoas e na cultura. Para isso, os grupos escolhidos para comparação foram os aposentados de dois anos diferentes (2011 e 2014) e as diferenças entre as quantidades de homens e mulheres que são chefes de famílias e aposentados para ver se há relação com o sexo da pessoa ou não e também suas idades. Para isso, foram usadas comparações como renda, estado civil, região que mora (Norte, Sul etc.), anos de estudo e quanto ganho pela aposentadoria.\n",
    "\n",
    "## Pesquisa\n",
    "\n",
    "Link para acesso: http://metalrevista.com.br/2016/05/09/cresce-o-numero-de-aposentados-que-voltam-ao-mercado-de-trabalho-no-brasil/ acesso01/04/2016 12:30)\n",
    "\n",
    "A pesquisa fala sobre a volta de aposentados ao mercado de trabalho. Isto por conta da inflação e das crises que vem ocorrendo, fazendo com que a renda da aposentadoria não seja suficiente para pagar as contas.\n",
    "\n",
    "A base de dados utilizada foi a PNAD de 2015. As váriaveis foram aposentadoria, se a pessoa estava trabalhando ou não na época da pesquisa, a unidade federal e a idade da pessoa pesquisada. Foram usados gráficos de linha para provar alguns de seus pontos."
   ]
  },
  {
   "cell_type": "markdown",
   "metadata": {},
   "source": [
    "___\n",
    "## Análise e Resultados"
   ]
  },
  {
   "cell_type": "code",
   "execution_count": 206,
   "metadata": {
    "collapsed": true
   },
   "outputs": [],
   "source": [
    "%matplotlib inline\n",
    "import pandas as pd\n",
    "import matplotlib.pyplot as plt\n",
    "import numpy as np\n",
    "import os"
   ]
  },
  {
   "cell_type": "code",
   "execution_count": 207,
   "metadata": {
    "collapsed": false
   },
   "outputs": [
    {
     "name": "stdout",
     "output_type": "stream",
     "text": [
      "Esperamos trabalhar no diretório\n",
      "/Users/AndreEjz/Desktop/CD/Projeto 1\n"
     ]
    }
   ],
   "source": [
    "print('Esperamos trabalhar no diretório')\n",
    "print(os.getcwd())"
   ]
  },
  {
   "cell_type": "markdown",
   "metadata": {},
   "source": [
    "____\n",
    "# PNAD 2014"
   ]
  },
  {
   "cell_type": "code",
   "execution_count": 208,
   "metadata": {
    "collapsed": false
   },
   "outputs": [],
   "source": [
    "\"\"\"Vamos ler a estrutura da PNAD como um dataframe.\n",
    "    São muitas colunas e precisamos usar a informação de tamanho para ler a PNAD de fato\n",
    "    como uma base de tamanho fixo\"\"\"\n",
    "estrutura = pd.read_csv(\"PNAD_e_Dicionario_2014/PES2014.csv\", sep=\",\")"
   ]
  },
  {
   "cell_type": "code",
   "execution_count": 209,
   "metadata": {
    "collapsed": false,
    "scrolled": true
   },
   "outputs": [
    {
     "data": {
      "text/html": [
       "<div>\n",
       "<table border=\"1\" class=\"dataframe\">\n",
       "  <thead>\n",
       "    <tr style=\"text-align: right;\">\n",
       "      <th></th>\n",
       "      <th>Unnamed: 0</th>\n",
       "      <th>V0101</th>\n",
       "      <th>UF</th>\n",
       "      <th>V0102</th>\n",
       "      <th>V0103</th>\n",
       "      <th>V0301</th>\n",
       "      <th>V0302</th>\n",
       "      <th>V3031</th>\n",
       "      <th>V3032</th>\n",
       "      <th>V3033</th>\n",
       "      <th>...</th>\n",
       "      <th>V4741</th>\n",
       "      <th>V4742</th>\n",
       "      <th>V4743</th>\n",
       "      <th>V4745</th>\n",
       "      <th>V4746</th>\n",
       "      <th>V4747</th>\n",
       "      <th>V4748</th>\n",
       "      <th>V4749</th>\n",
       "      <th>V4750</th>\n",
       "      <th>V9993</th>\n",
       "    </tr>\n",
       "  </thead>\n",
       "  <tbody>\n",
       "    <tr>\n",
       "      <th>0</th>\n",
       "      <td>0</td>\n",
       "      <td>2014</td>\n",
       "      <td>11</td>\n",
       "      <td>15</td>\n",
       "      <td>1</td>\n",
       "      <td>1</td>\n",
       "      <td>2</td>\n",
       "      <td>19</td>\n",
       "      <td>8</td>\n",
       "      <td>1987</td>\n",
       "      <td>...</td>\n",
       "      <td>3.0</td>\n",
       "      <td>500.0</td>\n",
       "      <td>3.0</td>\n",
       "      <td>3</td>\n",
       "      <td>1.0</td>\n",
       "      <td>2.0</td>\n",
       "      <td>2.0</td>\n",
       "      <td>1.0</td>\n",
       "      <td>500.0</td>\n",
       "      <td>20160623</td>\n",
       "    </tr>\n",
       "    <tr>\n",
       "      <th>1</th>\n",
       "      <td>1</td>\n",
       "      <td>2014</td>\n",
       "      <td>11</td>\n",
       "      <td>15</td>\n",
       "      <td>1</td>\n",
       "      <td>2</td>\n",
       "      <td>4</td>\n",
       "      <td>19</td>\n",
       "      <td>1</td>\n",
       "      <td>1986</td>\n",
       "      <td>...</td>\n",
       "      <td>3.0</td>\n",
       "      <td>500.0</td>\n",
       "      <td>3.0</td>\n",
       "      <td>4</td>\n",
       "      <td>2.0</td>\n",
       "      <td>NaN</td>\n",
       "      <td>2.0</td>\n",
       "      <td>1.0</td>\n",
       "      <td>500.0</td>\n",
       "      <td>20160623</td>\n",
       "    </tr>\n",
       "    <tr>\n",
       "      <th>2</th>\n",
       "      <td>2</td>\n",
       "      <td>2014</td>\n",
       "      <td>11</td>\n",
       "      <td>15</td>\n",
       "      <td>1</td>\n",
       "      <td>3</td>\n",
       "      <td>2</td>\n",
       "      <td>14</td>\n",
       "      <td>5</td>\n",
       "      <td>2013</td>\n",
       "      <td>...</td>\n",
       "      <td>3.0</td>\n",
       "      <td>500.0</td>\n",
       "      <td>3.0</td>\n",
       "      <td>1</td>\n",
       "      <td>NaN</td>\n",
       "      <td>NaN</td>\n",
       "      <td>NaN</td>\n",
       "      <td>NaN</td>\n",
       "      <td>500.0</td>\n",
       "      <td>20160623</td>\n",
       "    </tr>\n",
       "    <tr>\n",
       "      <th>3</th>\n",
       "      <td>3</td>\n",
       "      <td>2014</td>\n",
       "      <td>11</td>\n",
       "      <td>15</td>\n",
       "      <td>2</td>\n",
       "      <td>1</td>\n",
       "      <td>2</td>\n",
       "      <td>8</td>\n",
       "      <td>4</td>\n",
       "      <td>1963</td>\n",
       "      <td>...</td>\n",
       "      <td>2.0</td>\n",
       "      <td>1150.0</td>\n",
       "      <td>4.0</td>\n",
       "      <td>2</td>\n",
       "      <td>1.0</td>\n",
       "      <td>2.0</td>\n",
       "      <td>2.0</td>\n",
       "      <td>1.0</td>\n",
       "      <td>1150.0</td>\n",
       "      <td>20160623</td>\n",
       "    </tr>\n",
       "    <tr>\n",
       "      <th>4</th>\n",
       "      <td>4</td>\n",
       "      <td>2014</td>\n",
       "      <td>11</td>\n",
       "      <td>15</td>\n",
       "      <td>2</td>\n",
       "      <td>2</td>\n",
       "      <td>4</td>\n",
       "      <td>6</td>\n",
       "      <td>11</td>\n",
       "      <td>1970</td>\n",
       "      <td>...</td>\n",
       "      <td>2.0</td>\n",
       "      <td>1150.0</td>\n",
       "      <td>4.0</td>\n",
       "      <td>3</td>\n",
       "      <td>1.0</td>\n",
       "      <td>2.0</td>\n",
       "      <td>2.0</td>\n",
       "      <td>1.0</td>\n",
       "      <td>1150.0</td>\n",
       "      <td>20160623</td>\n",
       "    </tr>\n",
       "  </tbody>\n",
       "</table>\n",
       "<p>5 rows × 342 columns</p>\n",
       "</div>"
      ],
      "text/plain": [
       "   Unnamed: 0  V0101  UF  V0102  V0103  V0301  V0302  V3031  V3032  V3033  \\\n",
       "0           0   2014  11     15      1      1      2     19      8   1987   \n",
       "1           1   2014  11     15      1      2      4     19      1   1986   \n",
       "2           2   2014  11     15      1      3      2     14      5   2013   \n",
       "3           3   2014  11     15      2      1      2      8      4   1963   \n",
       "4           4   2014  11     15      2      2      4      6     11   1970   \n",
       "\n",
       "     ...     V4741   V4742  V4743  V4745  V4746  V4747  V4748  V4749   V4750  \\\n",
       "0    ...       3.0   500.0    3.0      3    1.0    2.0    2.0    1.0   500.0   \n",
       "1    ...       3.0   500.0    3.0      4    2.0    NaN    2.0    1.0   500.0   \n",
       "2    ...       3.0   500.0    3.0      1    NaN    NaN    NaN    NaN   500.0   \n",
       "3    ...       2.0  1150.0    4.0      2    1.0    2.0    2.0    1.0  1150.0   \n",
       "4    ...       2.0  1150.0    4.0      3    1.0    2.0    2.0    1.0  1150.0   \n",
       "\n",
       "      V9993  \n",
       "0  20160623  \n",
       "1  20160623  \n",
       "2  20160623  \n",
       "3  20160623  \n",
       "4  20160623  \n",
       "\n",
       "[5 rows x 342 columns]"
      ]
     },
     "execution_count": 209,
     "metadata": {},
     "output_type": "execute_result"
    }
   ],
   "source": [
    "estrutura.head() "
   ]
  },
  {
   "cell_type": "code",
   "execution_count": 210,
   "metadata": {
    "collapsed": true
   },
   "outputs": [],
   "source": [
    "#Para facilitar as buscas\n",
    "pnad14 = pd.DataFrame()"
   ]
  },
  {
   "cell_type": "code",
   "execution_count": 211,
   "metadata": {
    "collapsed": false
   },
   "outputs": [],
   "source": [
    "#Pegando as váriaveis\n",
    "#Qualitativas:\n",
    "pnad14['regiao'] = estrutura.UF #Unidade Federal\n",
    "pnad14['sexo'] = estrutura.V0302 #Sexo\n",
    "pnad14['posicao_familiar'] = estrutura.V0402 #Posição referente na família (Pessoa de referência == líder da família)\n",
    "pnad14['estado_civil'] = estrutura.V4011 #Estado civil\n",
    "pnad14['aposentado'] = estrutura.V9122 #Aposentado\n",
    "\n",
    "#Quantitativas\n",
    "pnad14['renda'] = estrutura.V4750 #Renda mensal familiar per capta\n",
    "pnad14['idade'] = estrutura.V8005 #Idade\n",
    "pnad14['INSS'] = estrutura.V1252 #Renda inss"
   ]
  },
  {
   "cell_type": "code",
   "execution_count": 212,
   "metadata": {
    "collapsed": false
   },
   "outputs": [
    {
     "data": {
      "text/html": [
       "<div>\n",
       "<table border=\"1\" class=\"dataframe\">\n",
       "  <thead>\n",
       "    <tr style=\"text-align: right;\">\n",
       "      <th></th>\n",
       "      <th>regiao</th>\n",
       "      <th>sexo</th>\n",
       "      <th>posicao_familiar</th>\n",
       "      <th>estado_civil</th>\n",
       "      <th>aposentado</th>\n",
       "      <th>renda</th>\n",
       "      <th>idade</th>\n",
       "      <th>INSS</th>\n",
       "    </tr>\n",
       "  </thead>\n",
       "  <tbody>\n",
       "    <tr>\n",
       "      <th>0</th>\n",
       "      <td>11</td>\n",
       "      <td>2</td>\n",
       "      <td>1</td>\n",
       "      <td>0.0</td>\n",
       "      <td>4.0</td>\n",
       "      <td>500.0</td>\n",
       "      <td>27</td>\n",
       "      <td>NaN</td>\n",
       "    </tr>\n",
       "    <tr>\n",
       "      <th>1</th>\n",
       "      <td>11</td>\n",
       "      <td>4</td>\n",
       "      <td>2</td>\n",
       "      <td>0.0</td>\n",
       "      <td>4.0</td>\n",
       "      <td>500.0</td>\n",
       "      <td>28</td>\n",
       "      <td>NaN</td>\n",
       "    </tr>\n",
       "    <tr>\n",
       "      <th>2</th>\n",
       "      <td>11</td>\n",
       "      <td>2</td>\n",
       "      <td>3</td>\n",
       "      <td>NaN</td>\n",
       "      <td>NaN</td>\n",
       "      <td>500.0</td>\n",
       "      <td>1</td>\n",
       "      <td>NaN</td>\n",
       "    </tr>\n",
       "    <tr>\n",
       "      <th>3</th>\n",
       "      <td>11</td>\n",
       "      <td>2</td>\n",
       "      <td>1</td>\n",
       "      <td>0.0</td>\n",
       "      <td>4.0</td>\n",
       "      <td>1150.0</td>\n",
       "      <td>51</td>\n",
       "      <td>NaN</td>\n",
       "    </tr>\n",
       "    <tr>\n",
       "      <th>4</th>\n",
       "      <td>11</td>\n",
       "      <td>4</td>\n",
       "      <td>2</td>\n",
       "      <td>0.0</td>\n",
       "      <td>4.0</td>\n",
       "      <td>1150.0</td>\n",
       "      <td>43</td>\n",
       "      <td>NaN</td>\n",
       "    </tr>\n",
       "    <tr>\n",
       "      <th>5</th>\n",
       "      <td>11</td>\n",
       "      <td>4</td>\n",
       "      <td>1</td>\n",
       "      <td>7.0</td>\n",
       "      <td>2.0</td>\n",
       "      <td>724.0</td>\n",
       "      <td>77</td>\n",
       "      <td>724.0</td>\n",
       "    </tr>\n",
       "    <tr>\n",
       "      <th>6</th>\n",
       "      <td>11</td>\n",
       "      <td>4</td>\n",
       "      <td>1</td>\n",
       "      <td>NaN</td>\n",
       "      <td>4.0</td>\n",
       "      <td>1700.0</td>\n",
       "      <td>39</td>\n",
       "      <td>NaN</td>\n",
       "    </tr>\n",
       "    <tr>\n",
       "      <th>7</th>\n",
       "      <td>11</td>\n",
       "      <td>2</td>\n",
       "      <td>2</td>\n",
       "      <td>NaN</td>\n",
       "      <td>4.0</td>\n",
       "      <td>1700.0</td>\n",
       "      <td>60</td>\n",
       "      <td>NaN</td>\n",
       "    </tr>\n",
       "    <tr>\n",
       "      <th>8</th>\n",
       "      <td>11</td>\n",
       "      <td>4</td>\n",
       "      <td>3</td>\n",
       "      <td>0.0</td>\n",
       "      <td>4.0</td>\n",
       "      <td>1700.0</td>\n",
       "      <td>16</td>\n",
       "      <td>NaN</td>\n",
       "    </tr>\n",
       "    <tr>\n",
       "      <th>9</th>\n",
       "      <td>11</td>\n",
       "      <td>2</td>\n",
       "      <td>3</td>\n",
       "      <td>0.0</td>\n",
       "      <td>4.0</td>\n",
       "      <td>1700.0</td>\n",
       "      <td>15</td>\n",
       "      <td>NaN</td>\n",
       "    </tr>\n",
       "  </tbody>\n",
       "</table>\n",
       "</div>"
      ],
      "text/plain": [
       "   regiao  sexo  posicao_familiar  estado_civil  aposentado   renda  idade  \\\n",
       "0      11     2                 1           0.0         4.0   500.0     27   \n",
       "1      11     4                 2           0.0         4.0   500.0     28   \n",
       "2      11     2                 3           NaN         NaN   500.0      1   \n",
       "3      11     2                 1           0.0         4.0  1150.0     51   \n",
       "4      11     4                 2           0.0         4.0  1150.0     43   \n",
       "5      11     4                 1           7.0         2.0   724.0     77   \n",
       "6      11     4                 1           NaN         4.0  1700.0     39   \n",
       "7      11     2                 2           NaN         4.0  1700.0     60   \n",
       "8      11     4                 3           0.0         4.0  1700.0     16   \n",
       "9      11     2                 3           0.0         4.0  1700.0     15   \n",
       "\n",
       "    INSS  \n",
       "0    NaN  \n",
       "1    NaN  \n",
       "2    NaN  \n",
       "3    NaN  \n",
       "4    NaN  \n",
       "5  724.0  \n",
       "6    NaN  \n",
       "7    NaN  \n",
       "8    NaN  \n",
       "9    NaN  "
      ]
     },
     "execution_count": 212,
     "metadata": {},
     "output_type": "execute_result"
    }
   ],
   "source": [
    "pnad14.head(10)"
   ]
  },
  {
   "cell_type": "code",
   "execution_count": 213,
   "metadata": {
    "collapsed": true
   },
   "outputs": [],
   "source": [
    "pnad14.sexo = pnad14.sexo.astype('category')\n",
    "pnad14.posicao_familiar = pnad14.posicao_familiar.astype('category')\n",
    "pnad14.estado_civil = pnad14.estado_civil.astype('category')\n",
    "pnad14.aposentado = pnad14.aposentado.astype('category')"
   ]
  },
  {
   "cell_type": "code",
   "execution_count": 214,
   "metadata": {
    "collapsed": true
   },
   "outputs": [],
   "source": [
    "pnad14.sexo.cat.categories = ('Masculino','Feminino')\n",
    "pnad14.posicao_familiar.cat.categories = ('Chefe','Conjuge','Filho','Outro_parente','Agregado','Pensionista','Empregado_domestico','Parente_do_empregado')\n",
    "pnad14.estado_civil.cat.categories = ('Solteiro','Casado','Desquitado','Divorciado','Viuvo')\n",
    "pnad14.aposentado.cat.categories = ('Sim','Nao')"
   ]
  },
  {
   "cell_type": "code",
   "execution_count": 215,
   "metadata": {
    "collapsed": false
   },
   "outputs": [],
   "source": [
    "#11>= até <=17 --->>> Norte\n",
    "#21>= até <=29 --->>> Nordeste\n",
    "#31>= até <=35 --->>> Sudeste\n",
    "#41>= até <=43 --->>> Sul\n",
    "#50>= até <=53 --->>> Centro-oeste\n",
    "def unid_fed(uf):\n",
    "    if 11<=uf<=17:\n",
    "        return ('Norte')\n",
    "    elif 21<=uf<=29:\n",
    "        return ('Nordeste')\n",
    "    elif 31<=uf<=35:\n",
    "        return ('Sudeste')\n",
    "    elif 41<=uf<=43:\n",
    "        return ('Sul')\n",
    "    elif 50<=uf<=53:\n",
    "        return ('Centro-oeste')\n",
    "    else:\n",
    "        return ('NaN')\n",
    "\n",
    "pnad14.regiao = pnad14.regiao.map(unid_fed)\n",
    "pnad14.regiao = pnad14.regiao.astype('category')"
   ]
  },
  {
   "cell_type": "code",
   "execution_count": 216,
   "metadata": {
    "collapsed": false
   },
   "outputs": [
    {
     "data": {
      "text/html": [
       "<div>\n",
       "<table border=\"1\" class=\"dataframe\">\n",
       "  <thead>\n",
       "    <tr style=\"text-align: right;\">\n",
       "      <th></th>\n",
       "      <th>regiao</th>\n",
       "      <th>sexo</th>\n",
       "      <th>posicao_familiar</th>\n",
       "      <th>estado_civil</th>\n",
       "      <th>aposentado</th>\n",
       "      <th>renda</th>\n",
       "      <th>idade</th>\n",
       "      <th>INSS</th>\n",
       "    </tr>\n",
       "  </thead>\n",
       "  <tbody>\n",
       "    <tr>\n",
       "      <th>0</th>\n",
       "      <td>Norte</td>\n",
       "      <td>Masculino</td>\n",
       "      <td>Chefe</td>\n",
       "      <td>Solteiro</td>\n",
       "      <td>Nao</td>\n",
       "      <td>500.0</td>\n",
       "      <td>27</td>\n",
       "      <td>NaN</td>\n",
       "    </tr>\n",
       "    <tr>\n",
       "      <th>1</th>\n",
       "      <td>Norte</td>\n",
       "      <td>Feminino</td>\n",
       "      <td>Conjuge</td>\n",
       "      <td>Solteiro</td>\n",
       "      <td>Nao</td>\n",
       "      <td>500.0</td>\n",
       "      <td>28</td>\n",
       "      <td>NaN</td>\n",
       "    </tr>\n",
       "    <tr>\n",
       "      <th>2</th>\n",
       "      <td>Norte</td>\n",
       "      <td>Masculino</td>\n",
       "      <td>Filho</td>\n",
       "      <td>NaN</td>\n",
       "      <td>NaN</td>\n",
       "      <td>500.0</td>\n",
       "      <td>1</td>\n",
       "      <td>NaN</td>\n",
       "    </tr>\n",
       "    <tr>\n",
       "      <th>3</th>\n",
       "      <td>Norte</td>\n",
       "      <td>Masculino</td>\n",
       "      <td>Chefe</td>\n",
       "      <td>Solteiro</td>\n",
       "      <td>Nao</td>\n",
       "      <td>1150.0</td>\n",
       "      <td>51</td>\n",
       "      <td>NaN</td>\n",
       "    </tr>\n",
       "    <tr>\n",
       "      <th>4</th>\n",
       "      <td>Norte</td>\n",
       "      <td>Feminino</td>\n",
       "      <td>Conjuge</td>\n",
       "      <td>Solteiro</td>\n",
       "      <td>Nao</td>\n",
       "      <td>1150.0</td>\n",
       "      <td>43</td>\n",
       "      <td>NaN</td>\n",
       "    </tr>\n",
       "    <tr>\n",
       "      <th>5</th>\n",
       "      <td>Norte</td>\n",
       "      <td>Feminino</td>\n",
       "      <td>Chefe</td>\n",
       "      <td>Viuvo</td>\n",
       "      <td>Sim</td>\n",
       "      <td>724.0</td>\n",
       "      <td>77</td>\n",
       "      <td>724.0</td>\n",
       "    </tr>\n",
       "    <tr>\n",
       "      <th>6</th>\n",
       "      <td>Norte</td>\n",
       "      <td>Feminino</td>\n",
       "      <td>Chefe</td>\n",
       "      <td>NaN</td>\n",
       "      <td>Nao</td>\n",
       "      <td>1700.0</td>\n",
       "      <td>39</td>\n",
       "      <td>NaN</td>\n",
       "    </tr>\n",
       "    <tr>\n",
       "      <th>7</th>\n",
       "      <td>Norte</td>\n",
       "      <td>Masculino</td>\n",
       "      <td>Conjuge</td>\n",
       "      <td>NaN</td>\n",
       "      <td>Nao</td>\n",
       "      <td>1700.0</td>\n",
       "      <td>60</td>\n",
       "      <td>NaN</td>\n",
       "    </tr>\n",
       "    <tr>\n",
       "      <th>8</th>\n",
       "      <td>Norte</td>\n",
       "      <td>Feminino</td>\n",
       "      <td>Filho</td>\n",
       "      <td>Solteiro</td>\n",
       "      <td>Nao</td>\n",
       "      <td>1700.0</td>\n",
       "      <td>16</td>\n",
       "      <td>NaN</td>\n",
       "    </tr>\n",
       "    <tr>\n",
       "      <th>9</th>\n",
       "      <td>Norte</td>\n",
       "      <td>Masculino</td>\n",
       "      <td>Filho</td>\n",
       "      <td>Solteiro</td>\n",
       "      <td>Nao</td>\n",
       "      <td>1700.0</td>\n",
       "      <td>15</td>\n",
       "      <td>NaN</td>\n",
       "    </tr>\n",
       "  </tbody>\n",
       "</table>\n",
       "</div>"
      ],
      "text/plain": [
       "  regiao       sexo posicao_familiar estado_civil aposentado   renda  idade  \\\n",
       "0  Norte  Masculino            Chefe     Solteiro        Nao   500.0     27   \n",
       "1  Norte   Feminino          Conjuge     Solteiro        Nao   500.0     28   \n",
       "2  Norte  Masculino            Filho          NaN        NaN   500.0      1   \n",
       "3  Norte  Masculino            Chefe     Solteiro        Nao  1150.0     51   \n",
       "4  Norte   Feminino          Conjuge     Solteiro        Nao  1150.0     43   \n",
       "5  Norte   Feminino            Chefe        Viuvo        Sim   724.0     77   \n",
       "6  Norte   Feminino            Chefe          NaN        Nao  1700.0     39   \n",
       "7  Norte  Masculino          Conjuge          NaN        Nao  1700.0     60   \n",
       "8  Norte   Feminino            Filho     Solteiro        Nao  1700.0     16   \n",
       "9  Norte  Masculino            Filho     Solteiro        Nao  1700.0     15   \n",
       "\n",
       "    INSS  \n",
       "0    NaN  \n",
       "1    NaN  \n",
       "2    NaN  \n",
       "3    NaN  \n",
       "4    NaN  \n",
       "5  724.0  \n",
       "6    NaN  \n",
       "7    NaN  \n",
       "8    NaN  \n",
       "9    NaN  "
      ]
     },
     "execution_count": 216,
     "metadata": {},
     "output_type": "execute_result"
    }
   ],
   "source": [
    "pnad14.head(10)"
   ]
  },
  {
   "cell_type": "markdown",
   "metadata": {},
   "source": [
    "___\n",
    "# PNAD 2011"
   ]
  },
  {
   "cell_type": "code",
   "execution_count": 217,
   "metadata": {
    "collapsed": true
   },
   "outputs": [],
   "source": [
    "dados_11 = pd.read_csv(\"PNAD_e_Dicionario_2011/PES2011.csv\", sep=\",\")"
   ]
  },
  {
   "cell_type": "code",
   "execution_count": 218,
   "metadata": {
    "collapsed": false
   },
   "outputs": [
    {
     "data": {
      "text/html": [
       "<div>\n",
       "<table border=\"1\" class=\"dataframe\">\n",
       "  <thead>\n",
       "    <tr style=\"text-align: right;\">\n",
       "      <th></th>\n",
       "      <th>regiao</th>\n",
       "      <th>sexo</th>\n",
       "      <th>posicao_familiar</th>\n",
       "      <th>estado_civil</th>\n",
       "      <th>aposentado</th>\n",
       "      <th>renda</th>\n",
       "      <th>idade</th>\n",
       "      <th>INSS</th>\n",
       "    </tr>\n",
       "  </thead>\n",
       "  <tbody>\n",
       "    <tr>\n",
       "      <th>0</th>\n",
       "      <td>11</td>\n",
       "      <td>2</td>\n",
       "      <td>1</td>\n",
       "      <td>NaN</td>\n",
       "      <td>4.0</td>\n",
       "      <td>1.000000e+12</td>\n",
       "      <td>49</td>\n",
       "      <td>NaN</td>\n",
       "    </tr>\n",
       "    <tr>\n",
       "      <th>1</th>\n",
       "      <td>11</td>\n",
       "      <td>4</td>\n",
       "      <td>2</td>\n",
       "      <td>NaN</td>\n",
       "      <td>4.0</td>\n",
       "      <td>1.000000e+12</td>\n",
       "      <td>33</td>\n",
       "      <td>NaN</td>\n",
       "    </tr>\n",
       "    <tr>\n",
       "      <th>2</th>\n",
       "      <td>11</td>\n",
       "      <td>4</td>\n",
       "      <td>3</td>\n",
       "      <td>0.0</td>\n",
       "      <td>4.0</td>\n",
       "      <td>1.000000e+12</td>\n",
       "      <td>15</td>\n",
       "      <td>NaN</td>\n",
       "    </tr>\n",
       "    <tr>\n",
       "      <th>3</th>\n",
       "      <td>11</td>\n",
       "      <td>2</td>\n",
       "      <td>3</td>\n",
       "      <td>NaN</td>\n",
       "      <td>NaN</td>\n",
       "      <td>1.000000e+12</td>\n",
       "      <td>9</td>\n",
       "      <td>NaN</td>\n",
       "    </tr>\n",
       "    <tr>\n",
       "      <th>4</th>\n",
       "      <td>11</td>\n",
       "      <td>4</td>\n",
       "      <td>1</td>\n",
       "      <td>1.0</td>\n",
       "      <td>4.0</td>\n",
       "      <td>1.461000e+03</td>\n",
       "      <td>51</td>\n",
       "      <td>NaN</td>\n",
       "    </tr>\n",
       "    <tr>\n",
       "      <th>5</th>\n",
       "      <td>11</td>\n",
       "      <td>2</td>\n",
       "      <td>2</td>\n",
       "      <td>1.0</td>\n",
       "      <td>4.0</td>\n",
       "      <td>1.461000e+03</td>\n",
       "      <td>22</td>\n",
       "      <td>NaN</td>\n",
       "    </tr>\n",
       "    <tr>\n",
       "      <th>6</th>\n",
       "      <td>11</td>\n",
       "      <td>4</td>\n",
       "      <td>4</td>\n",
       "      <td>0.0</td>\n",
       "      <td>4.0</td>\n",
       "      <td>1.461000e+03</td>\n",
       "      <td>17</td>\n",
       "      <td>NaN</td>\n",
       "    </tr>\n",
       "    <tr>\n",
       "      <th>7</th>\n",
       "      <td>11</td>\n",
       "      <td>4</td>\n",
       "      <td>4</td>\n",
       "      <td>0.0</td>\n",
       "      <td>4.0</td>\n",
       "      <td>1.461000e+03</td>\n",
       "      <td>10</td>\n",
       "      <td>NaN</td>\n",
       "    </tr>\n",
       "    <tr>\n",
       "      <th>8</th>\n",
       "      <td>11</td>\n",
       "      <td>4</td>\n",
       "      <td>1</td>\n",
       "      <td>0.0</td>\n",
       "      <td>4.0</td>\n",
       "      <td>1.000000e+12</td>\n",
       "      <td>30</td>\n",
       "      <td>NaN</td>\n",
       "    </tr>\n",
       "    <tr>\n",
       "      <th>9</th>\n",
       "      <td>11</td>\n",
       "      <td>4</td>\n",
       "      <td>3</td>\n",
       "      <td>0.0</td>\n",
       "      <td>4.0</td>\n",
       "      <td>1.000000e+12</td>\n",
       "      <td>11</td>\n",
       "      <td>NaN</td>\n",
       "    </tr>\n",
       "  </tbody>\n",
       "</table>\n",
       "</div>"
      ],
      "text/plain": [
       "   regiao  sexo  posicao_familiar  estado_civil  aposentado         renda  \\\n",
       "0      11     2                 1           NaN         4.0  1.000000e+12   \n",
       "1      11     4                 2           NaN         4.0  1.000000e+12   \n",
       "2      11     4                 3           0.0         4.0  1.000000e+12   \n",
       "3      11     2                 3           NaN         NaN  1.000000e+12   \n",
       "4      11     4                 1           1.0         4.0  1.461000e+03   \n",
       "5      11     2                 2           1.0         4.0  1.461000e+03   \n",
       "6      11     4                 4           0.0         4.0  1.461000e+03   \n",
       "7      11     4                 4           0.0         4.0  1.461000e+03   \n",
       "8      11     4                 1           0.0         4.0  1.000000e+12   \n",
       "9      11     4                 3           0.0         4.0  1.000000e+12   \n",
       "\n",
       "   idade  INSS  \n",
       "0     49   NaN  \n",
       "1     33   NaN  \n",
       "2     15   NaN  \n",
       "3      9   NaN  \n",
       "4     51   NaN  \n",
       "5     22   NaN  \n",
       "6     17   NaN  \n",
       "7     10   NaN  \n",
       "8     30   NaN  \n",
       "9     11   NaN  "
      ]
     },
     "execution_count": 218,
     "metadata": {},
     "output_type": "execute_result"
    }
   ],
   "source": [
    "pnad11 = pd.DataFrame()\n",
    "\n",
    "#Pegando as váriaveis\n",
    "#Qualitativas:\n",
    "pnad11['regiao'] = dados_11.UF #Unidade Federal\n",
    "pnad11['sexo'] = dados_11.V0302 #Sexo\n",
    "pnad11['posicao_familiar'] = dados_11.V0402 #Posição referente na família (Pessoa de referência == líder da família)\n",
    "pnad11['estado_civil'] = dados_11.V4011 #Estado civil\n",
    "pnad11['aposentado'] = dados_11.V9122 #Aposentado\n",
    "\n",
    "#Quantitativas\n",
    "pnad11['renda'] = dados_11.V4750 #Renda mensal familiar per capta\n",
    "pnad11['idade'] = dados_11.V8005 #Idade\n",
    "pnad11['INSS'] = dados_11.V1252 #Renda INSS\n",
    "\n",
    "pnad11.head(10)"
   ]
  },
  {
   "cell_type": "code",
   "execution_count": 219,
   "metadata": {
    "collapsed": false
   },
   "outputs": [],
   "source": [
    "#Transformando os categoricos\n",
    "pnad11.sexo = pnad11.sexo.astype('category')\n",
    "pnad11.posicao_familiar = pnad11.posicao_familiar.astype('category')\n",
    "pnad11.estado_civil = pnad11.estado_civil.astype('category')\n",
    "pnad11.aposentado = pnad11.aposentado.astype('category')"
   ]
  },
  {
   "cell_type": "code",
   "execution_count": 220,
   "metadata": {
    "collapsed": false
   },
   "outputs": [],
   "source": [
    "#Dando valores\n",
    "pnad11.sexo.cat.categories = ('Masculino','Feminino')\n",
    "pnad11.posicao_familiar.cat.categories = ('Chefe','Conjuge','Filho','Outro_parente','Agregado','Pensionista','Empregado_domestico','Parente_do_empregado')\n",
    "pnad11.estado_civil.cat.categories = ('Solteiro','Casado','Desquitado','Divorciado','Viuvo')\n",
    "pnad11.aposentado.cat.categories = ('Sim','Nao')\n",
    "\n",
    "#11>= até <=17 --->>> Norte\n",
    "#21>= até <=29 --->>> Nordeste\n",
    "#31>= até <=35 --->>> Sudeste\n",
    "#41>= até <=43 --->>> Sul\n",
    "#50>= até <=53 --->>> Centro-oeste\n",
    "def unid_fed(uf):\n",
    "    if 11<=uf<=17:\n",
    "        return ('Norte')\n",
    "    elif 21<=uf<=29:\n",
    "        return ('Nordeste')\n",
    "    elif 31<=uf<=35:\n",
    "        return ('Sudeste')\n",
    "    elif 41<=uf<=43:\n",
    "        return ('Sul')\n",
    "    elif 50<=uf<=53:\n",
    "        return ('Centro-oeste')\n",
    "    else:\n",
    "        return ('NaN')\n",
    "\n",
    "pnad11.regiao = pnad11.regiao.map(unid_fed)\n",
    "pnad11.regiao = pnad11.regiao.astype('category')"
   ]
  },
  {
   "cell_type": "code",
   "execution_count": 221,
   "metadata": {
    "collapsed": false
   },
   "outputs": [
    {
     "data": {
      "text/html": [
       "<div>\n",
       "<table border=\"1\" class=\"dataframe\">\n",
       "  <thead>\n",
       "    <tr style=\"text-align: right;\">\n",
       "      <th></th>\n",
       "      <th>regiao</th>\n",
       "      <th>sexo</th>\n",
       "      <th>posicao_familiar</th>\n",
       "      <th>estado_civil</th>\n",
       "      <th>aposentado</th>\n",
       "      <th>renda</th>\n",
       "      <th>idade</th>\n",
       "      <th>INSS</th>\n",
       "    </tr>\n",
       "  </thead>\n",
       "  <tbody>\n",
       "    <tr>\n",
       "      <th>0</th>\n",
       "      <td>Norte</td>\n",
       "      <td>Masculino</td>\n",
       "      <td>Chefe</td>\n",
       "      <td>NaN</td>\n",
       "      <td>Nao</td>\n",
       "      <td>1.000000e+12</td>\n",
       "      <td>49</td>\n",
       "      <td>NaN</td>\n",
       "    </tr>\n",
       "    <tr>\n",
       "      <th>1</th>\n",
       "      <td>Norte</td>\n",
       "      <td>Feminino</td>\n",
       "      <td>Conjuge</td>\n",
       "      <td>NaN</td>\n",
       "      <td>Nao</td>\n",
       "      <td>1.000000e+12</td>\n",
       "      <td>33</td>\n",
       "      <td>NaN</td>\n",
       "    </tr>\n",
       "    <tr>\n",
       "      <th>2</th>\n",
       "      <td>Norte</td>\n",
       "      <td>Feminino</td>\n",
       "      <td>Filho</td>\n",
       "      <td>Solteiro</td>\n",
       "      <td>Nao</td>\n",
       "      <td>1.000000e+12</td>\n",
       "      <td>15</td>\n",
       "      <td>NaN</td>\n",
       "    </tr>\n",
       "    <tr>\n",
       "      <th>3</th>\n",
       "      <td>Norte</td>\n",
       "      <td>Masculino</td>\n",
       "      <td>Filho</td>\n",
       "      <td>NaN</td>\n",
       "      <td>NaN</td>\n",
       "      <td>1.000000e+12</td>\n",
       "      <td>9</td>\n",
       "      <td>NaN</td>\n",
       "    </tr>\n",
       "    <tr>\n",
       "      <th>4</th>\n",
       "      <td>Norte</td>\n",
       "      <td>Feminino</td>\n",
       "      <td>Chefe</td>\n",
       "      <td>Casado</td>\n",
       "      <td>Nao</td>\n",
       "      <td>1.461000e+03</td>\n",
       "      <td>51</td>\n",
       "      <td>NaN</td>\n",
       "    </tr>\n",
       "    <tr>\n",
       "      <th>5</th>\n",
       "      <td>Norte</td>\n",
       "      <td>Masculino</td>\n",
       "      <td>Conjuge</td>\n",
       "      <td>Casado</td>\n",
       "      <td>Nao</td>\n",
       "      <td>1.461000e+03</td>\n",
       "      <td>22</td>\n",
       "      <td>NaN</td>\n",
       "    </tr>\n",
       "    <tr>\n",
       "      <th>6</th>\n",
       "      <td>Norte</td>\n",
       "      <td>Feminino</td>\n",
       "      <td>Outro_parente</td>\n",
       "      <td>Solteiro</td>\n",
       "      <td>Nao</td>\n",
       "      <td>1.461000e+03</td>\n",
       "      <td>17</td>\n",
       "      <td>NaN</td>\n",
       "    </tr>\n",
       "    <tr>\n",
       "      <th>7</th>\n",
       "      <td>Norte</td>\n",
       "      <td>Feminino</td>\n",
       "      <td>Outro_parente</td>\n",
       "      <td>Solteiro</td>\n",
       "      <td>Nao</td>\n",
       "      <td>1.461000e+03</td>\n",
       "      <td>10</td>\n",
       "      <td>NaN</td>\n",
       "    </tr>\n",
       "    <tr>\n",
       "      <th>8</th>\n",
       "      <td>Norte</td>\n",
       "      <td>Feminino</td>\n",
       "      <td>Chefe</td>\n",
       "      <td>Solteiro</td>\n",
       "      <td>Nao</td>\n",
       "      <td>1.000000e+12</td>\n",
       "      <td>30</td>\n",
       "      <td>NaN</td>\n",
       "    </tr>\n",
       "    <tr>\n",
       "      <th>9</th>\n",
       "      <td>Norte</td>\n",
       "      <td>Feminino</td>\n",
       "      <td>Filho</td>\n",
       "      <td>Solteiro</td>\n",
       "      <td>Nao</td>\n",
       "      <td>1.000000e+12</td>\n",
       "      <td>11</td>\n",
       "      <td>NaN</td>\n",
       "    </tr>\n",
       "  </tbody>\n",
       "</table>\n",
       "</div>"
      ],
      "text/plain": [
       "  regiao       sexo posicao_familiar estado_civil aposentado         renda  \\\n",
       "0  Norte  Masculino            Chefe          NaN        Nao  1.000000e+12   \n",
       "1  Norte   Feminino          Conjuge          NaN        Nao  1.000000e+12   \n",
       "2  Norte   Feminino            Filho     Solteiro        Nao  1.000000e+12   \n",
       "3  Norte  Masculino            Filho          NaN        NaN  1.000000e+12   \n",
       "4  Norte   Feminino            Chefe       Casado        Nao  1.461000e+03   \n",
       "5  Norte  Masculino          Conjuge       Casado        Nao  1.461000e+03   \n",
       "6  Norte   Feminino    Outro_parente     Solteiro        Nao  1.461000e+03   \n",
       "7  Norte   Feminino    Outro_parente     Solteiro        Nao  1.461000e+03   \n",
       "8  Norte   Feminino            Chefe     Solteiro        Nao  1.000000e+12   \n",
       "9  Norte   Feminino            Filho     Solteiro        Nao  1.000000e+12   \n",
       "\n",
       "   idade  INSS  \n",
       "0     49   NaN  \n",
       "1     33   NaN  \n",
       "2     15   NaN  \n",
       "3      9   NaN  \n",
       "4     51   NaN  \n",
       "5     22   NaN  \n",
       "6     17   NaN  \n",
       "7     10   NaN  \n",
       "8     30   NaN  \n",
       "9     11   NaN  "
      ]
     },
     "execution_count": 221,
     "metadata": {},
     "output_type": "execute_result"
    }
   ],
   "source": [
    "#Imprimindo\n",
    "pnad11.head(10)"
   ]
  },
  {
   "cell_type": "markdown",
   "metadata": {},
   "source": [
    "___\n",
    "# Analisando as variáveis"
   ]
  },
  {
   "cell_type": "markdown",
   "metadata": {},
   "source": [
    "## Análise 1\n",
    "\n",
    "Analisando a posição familiar pelo sexo da pessoa, e comparando dois anos diferentes. Com isso, será possível ver qual a relação entre a quantidade de chefes de familias pelo sexo."
   ]
  },
  {
   "cell_type": "markdown",
   "metadata": {},
   "source": [
    "### Em 2014"
   ]
  },
  {
   "cell_type": "code",
   "execution_count": 222,
   "metadata": {
    "collapsed": false
   },
   "outputs": [],
   "source": [
    "regioes = pnad14.regiao\n",
    "sexos = pnad14.sexo\n",
    "posicoes_familiares = pnad14.posicao_familiar\n",
    "EC = pnad14.estado_civil\n",
    "aposentados = pnad14.aposentado\n",
    "rendas = pnad14.renda\n",
    "idades = pnad14.idade"
   ]
  },
  {
   "cell_type": "code",
   "execution_count": 223,
   "metadata": {
    "collapsed": false
   },
   "outputs": [
    {
     "data": {
      "text/html": [
       "<div>\n",
       "<table border=\"1\" class=\"dataframe\">\n",
       "  <thead>\n",
       "    <tr style=\"text-align: right;\">\n",
       "      <th>aposentado</th>\n",
       "      <th>Sim</th>\n",
       "      <th>Nao</th>\n",
       "    </tr>\n",
       "    <tr>\n",
       "      <th>posicao_familiar</th>\n",
       "      <th></th>\n",
       "      <th></th>\n",
       "    </tr>\n",
       "  </thead>\n",
       "  <tbody>\n",
       "    <tr>\n",
       "      <th>Chefe</th>\n",
       "      <td>8.085681</td>\n",
       "      <td>31.935040</td>\n",
       "    </tr>\n",
       "    <tr>\n",
       "      <th>Conjuge</th>\n",
       "      <td>3.062602</td>\n",
       "      <td>21.850713</td>\n",
       "    </tr>\n",
       "    <tr>\n",
       "      <th>Filho</th>\n",
       "      <td>0.210097</td>\n",
       "      <td>27.582026</td>\n",
       "    </tr>\n",
       "    <tr>\n",
       "      <th>Outro_parente</th>\n",
       "      <td>0.991785</td>\n",
       "      <td>5.646633</td>\n",
       "    </tr>\n",
       "    <tr>\n",
       "      <th>Agregado</th>\n",
       "      <td>0.035604</td>\n",
       "      <td>0.417307</td>\n",
       "    </tr>\n",
       "    <tr>\n",
       "      <th>Pensionista</th>\n",
       "      <td>0.004491</td>\n",
       "      <td>0.127020</td>\n",
       "    </tr>\n",
       "    <tr>\n",
       "      <th>Empregado_domestico</th>\n",
       "      <td>0.004811</td>\n",
       "      <td>0.044265</td>\n",
       "    </tr>\n",
       "    <tr>\n",
       "      <th>Parente_do_empregado</th>\n",
       "      <td>0.000000</td>\n",
       "      <td>0.001925</td>\n",
       "    </tr>\n",
       "  </tbody>\n",
       "</table>\n",
       "</div>"
      ],
      "text/plain": [
       "aposentado                 Sim        Nao\n",
       "posicao_familiar                         \n",
       "Chefe                 8.085681  31.935040\n",
       "Conjuge               3.062602  21.850713\n",
       "Filho                 0.210097  27.582026\n",
       "Outro_parente         0.991785   5.646633\n",
       "Agregado              0.035604   0.417307\n",
       "Pensionista           0.004491   0.127020\n",
       "Empregado_domestico   0.004811   0.044265\n",
       "Parente_do_empregado  0.000000   0.001925"
      ]
     },
     "execution_count": 223,
     "metadata": {},
     "output_type": "execute_result"
    }
   ],
   "source": [
    "#Tabela de aposentados ou não pela posicao familiar\n",
    "apos_pos_fam14 = pd.crosstab(posicoes_familiares,aposentados,normalize=True)\n",
    "soma = apos_pos_fam14.sum().sum()\n",
    "apos_pos_fam14*100/soma"
   ]
  },
  {
   "cell_type": "code",
   "execution_count": 224,
   "metadata": {
    "collapsed": false
   },
   "outputs": [
    {
     "data": {
      "text/html": [
       "<div>\n",
       "<table border=\"1\" class=\"dataframe\">\n",
       "  <thead>\n",
       "    <tr style=\"text-align: right;\">\n",
       "      <th>sexo</th>\n",
       "      <th>Masculino</th>\n",
       "      <th>Feminino</th>\n",
       "    </tr>\n",
       "    <tr>\n",
       "      <th>posicao_familiar</th>\n",
       "      <th></th>\n",
       "      <th></th>\n",
       "    </tr>\n",
       "  </thead>\n",
       "  <tbody>\n",
       "    <tr>\n",
       "      <th>Chefe</th>\n",
       "      <td>39.254199</td>\n",
       "      <td>25.978832</td>\n",
       "    </tr>\n",
       "    <tr>\n",
       "      <th>Conjuge</th>\n",
       "      <td>6.544523</td>\n",
       "      <td>18.163704</td>\n",
       "    </tr>\n",
       "    <tr>\n",
       "      <th>Filho</th>\n",
       "      <td>0.866910</td>\n",
       "      <td>0.828093</td>\n",
       "    </tr>\n",
       "    <tr>\n",
       "      <th>Outro_parente</th>\n",
       "      <td>2.401470</td>\n",
       "      <td>5.599979</td>\n",
       "    </tr>\n",
       "    <tr>\n",
       "      <th>Agregado</th>\n",
       "      <td>0.121626</td>\n",
       "      <td>0.165619</td>\n",
       "    </tr>\n",
       "    <tr>\n",
       "      <th>Pensionista</th>\n",
       "      <td>0.018115</td>\n",
       "      <td>0.018115</td>\n",
       "    </tr>\n",
       "    <tr>\n",
       "      <th>Empregado_domestico</th>\n",
       "      <td>0.000000</td>\n",
       "      <td>0.038817</td>\n",
       "    </tr>\n",
       "    <tr>\n",
       "      <th>Parente_do_empregado</th>\n",
       "      <td>0.000000</td>\n",
       "      <td>0.000000</td>\n",
       "    </tr>\n",
       "  </tbody>\n",
       "</table>\n",
       "</div>"
      ],
      "text/plain": [
       "sexo                  Masculino   Feminino\n",
       "posicao_familiar                          \n",
       "Chefe                 39.254199  25.978832\n",
       "Conjuge                6.544523  18.163704\n",
       "Filho                  0.866910   0.828093\n",
       "Outro_parente          2.401470   5.599979\n",
       "Agregado               0.121626   0.165619\n",
       "Pensionista            0.018115   0.018115\n",
       "Empregado_domestico    0.000000   0.038817\n",
       "Parente_do_empregado   0.000000   0.000000"
      ]
     },
     "execution_count": 224,
     "metadata": {},
     "output_type": "execute_result"
    }
   ],
   "source": [
    "#Tabela do sexo dos aposentados pela posicao familiar\n",
    "sexo_apos_pos_fam14 = pd.crosstab(pnad14.posicao_familiar,pnad14[aposentados=='Sim'].sexo,normalize=True)\n",
    "soma = sexo_apos_pos_fam14.sum().sum()\n",
    "sexo_apos_pos_fam14*100/soma"
   ]
  },
  {
   "cell_type": "markdown",
   "metadata": {},
   "source": [
    "### Em 2011"
   ]
  },
  {
   "cell_type": "code",
   "execution_count": 225,
   "metadata": {
    "collapsed": false
   },
   "outputs": [
    {
     "data": {
      "text/html": [
       "<div>\n",
       "<table border=\"1\" class=\"dataframe\">\n",
       "  <thead>\n",
       "    <tr style=\"text-align: right;\">\n",
       "      <th>aposentado</th>\n",
       "      <th>Sim</th>\n",
       "      <th>Nao</th>\n",
       "    </tr>\n",
       "    <tr>\n",
       "      <th>posicao_familiar</th>\n",
       "      <th></th>\n",
       "      <th></th>\n",
       "    </tr>\n",
       "  </thead>\n",
       "  <tbody>\n",
       "    <tr>\n",
       "      <th>Chefe</th>\n",
       "      <td>7.378285</td>\n",
       "      <td>31.150506</td>\n",
       "    </tr>\n",
       "    <tr>\n",
       "      <th>Conjuge</th>\n",
       "      <td>2.765140</td>\n",
       "      <td>22.033787</td>\n",
       "    </tr>\n",
       "    <tr>\n",
       "      <th>Filho</th>\n",
       "      <td>0.233863</td>\n",
       "      <td>29.123587</td>\n",
       "    </tr>\n",
       "    <tr>\n",
       "      <th>Outro_parente</th>\n",
       "      <td>0.978298</td>\n",
       "      <td>5.578033</td>\n",
       "    </tr>\n",
       "    <tr>\n",
       "      <th>Agregado</th>\n",
       "      <td>0.031400</td>\n",
       "      <td>0.468707</td>\n",
       "    </tr>\n",
       "    <tr>\n",
       "      <th>Pensionista</th>\n",
       "      <td>0.003925</td>\n",
       "      <td>0.135738</td>\n",
       "    </tr>\n",
       "    <tr>\n",
       "      <th>Empregado_domestico</th>\n",
       "      <td>0.007196</td>\n",
       "      <td>0.106955</td>\n",
       "    </tr>\n",
       "    <tr>\n",
       "      <th>Parente_do_empregado</th>\n",
       "      <td>0.000327</td>\n",
       "      <td>0.004252</td>\n",
       "    </tr>\n",
       "  </tbody>\n",
       "</table>\n",
       "</div>"
      ],
      "text/plain": [
       "aposentado                 Sim        Nao\n",
       "posicao_familiar                         \n",
       "Chefe                 7.378285  31.150506\n",
       "Conjuge               2.765140  22.033787\n",
       "Filho                 0.233863  29.123587\n",
       "Outro_parente         0.978298   5.578033\n",
       "Agregado              0.031400   0.468707\n",
       "Pensionista           0.003925   0.135738\n",
       "Empregado_domestico   0.007196   0.106955\n",
       "Parente_do_empregado  0.000327   0.004252"
      ]
     },
     "execution_count": 225,
     "metadata": {},
     "output_type": "execute_result"
    }
   ],
   "source": [
    "#Tabela de aposentados ou não pela posicao familiar\n",
    "apos_pos_fam11 = pd.crosstab(pnad11.posicao_familiar,pnad11.aposentado,normalize=True)\n",
    "soma = apos_pos_fam11.sum().sum()\n",
    "apos_pos_fam11*100/soma"
   ]
  },
  {
   "cell_type": "code",
   "execution_count": 226,
   "metadata": {
    "collapsed": false
   },
   "outputs": [
    {
     "data": {
      "text/html": [
       "<div>\n",
       "<table border=\"1\" class=\"dataframe\">\n",
       "  <thead>\n",
       "    <tr style=\"text-align: right;\">\n",
       "      <th>sexo</th>\n",
       "      <th>Masculino</th>\n",
       "      <th>Feminino</th>\n",
       "    </tr>\n",
       "    <tr>\n",
       "      <th>posicao_familiar</th>\n",
       "      <th></th>\n",
       "      <th></th>\n",
       "    </tr>\n",
       "  </thead>\n",
       "  <tbody>\n",
       "    <tr>\n",
       "      <th>Chefe</th>\n",
       "      <td>39.877758</td>\n",
       "      <td>24.852937</td>\n",
       "    </tr>\n",
       "    <tr>\n",
       "      <th>Conjuge</th>\n",
       "      <td>6.014520</td>\n",
       "      <td>18.244426</td>\n",
       "    </tr>\n",
       "    <tr>\n",
       "      <th>Filho</th>\n",
       "      <td>1.067462</td>\n",
       "      <td>0.984246</td>\n",
       "    </tr>\n",
       "    <tr>\n",
       "      <th>Outro_parente</th>\n",
       "      <td>2.714569</td>\n",
       "      <td>5.868174</td>\n",
       "    </tr>\n",
       "    <tr>\n",
       "      <th>Agregado</th>\n",
       "      <td>0.111911</td>\n",
       "      <td>0.163563</td>\n",
       "    </tr>\n",
       "    <tr>\n",
       "      <th>Pensionista</th>\n",
       "      <td>0.020087</td>\n",
       "      <td>0.014348</td>\n",
       "    </tr>\n",
       "    <tr>\n",
       "      <th>Empregado_domestico</th>\n",
       "      <td>0.002870</td>\n",
       "      <td>0.060260</td>\n",
       "    </tr>\n",
       "    <tr>\n",
       "      <th>Parente_do_empregado</th>\n",
       "      <td>0.000000</td>\n",
       "      <td>0.002870</td>\n",
       "    </tr>\n",
       "  </tbody>\n",
       "</table>\n",
       "</div>"
      ],
      "text/plain": [
       "sexo                  Masculino   Feminino\n",
       "posicao_familiar                          \n",
       "Chefe                 39.877758  24.852937\n",
       "Conjuge                6.014520  18.244426\n",
       "Filho                  1.067462   0.984246\n",
       "Outro_parente          2.714569   5.868174\n",
       "Agregado               0.111911   0.163563\n",
       "Pensionista            0.020087   0.014348\n",
       "Empregado_domestico    0.002870   0.060260\n",
       "Parente_do_empregado   0.000000   0.002870"
      ]
     },
     "execution_count": 226,
     "metadata": {},
     "output_type": "execute_result"
    }
   ],
   "source": [
    "#Tabela do sexo dos aposentados pela posicao familiar\n",
    "sexo_apos_pos_fam11 = pd.crosstab(pnad11.posicao_familiar,pnad11[(pnad11.aposentado=='Sim')].sexo,normalize=True)\n",
    "soma = sexo_apos_pos_fam11.sum().sum()\n",
    "sexo_apos_pos_fam11*100/soma"
   ]
  },
  {
   "cell_type": "markdown",
   "metadata": {},
   "source": [
    "### Juntando os anos"
   ]
  },
  {
   "cell_type": "code",
   "execution_count": 227,
   "metadata": {
    "collapsed": false
   },
   "outputs": [
    {
     "data": {
      "text/plain": [
       "<matplotlib.axes._subplots.AxesSubplot at 0x11380acc0>"
      ]
     },
     "execution_count": 227,
     "metadata": {},
     "output_type": "execute_result"
    },
    {
     "data": {
      "image/png": "[encoded data removed]",
      "text/plain": [
       "<matplotlib.figure.Figure at 0x113921470>"
      ]
     },
     "metadata": {},
     "output_type": "display_data"
    },
    {
     "data": {
      "image/png": "[encoded data removed]",
      "text/plain": [
       "<matplotlib.figure.Figure at 0x113921320>"
      ]
     },
     "metadata": {},
     "output_type": "display_data"
    }
   ],
   "source": [
    "sexo_apos_pos_fam11.plot(kind='bar', color=('blue', 'red','yellow','green','orange','salmon','black','#7352FF'), legend=True, title='Sexo dos aposentados pela posição familiar - 2011')\n",
    "sexo_apos_pos_fam14.plot(kind='bar', color=('blue', 'red','yellow','green','orange','salmon','black','#7352FF'), legend=True, title='Sexo dos aposentados pela posição familiar - 2014')"
   ]
  },
  {
   "cell_type": "code",
   "execution_count": 228,
   "metadata": {
    "collapsed": false
   },
   "outputs": [
    {
     "data": {
      "text/html": [
       "<div>\n",
       "<table border=\"1\" class=\"dataframe\">\n",
       "  <thead>\n",
       "    <tr style=\"text-align: right;\">\n",
       "      <th>sexo</th>\n",
       "      <th>Masculino</th>\n",
       "      <th>Feminino</th>\n",
       "    </tr>\n",
       "    <tr>\n",
       "      <th>posicao_familiar</th>\n",
       "      <th></th>\n",
       "      <th></th>\n",
       "    </tr>\n",
       "  </thead>\n",
       "  <tbody>\n",
       "    <tr>\n",
       "      <th>Chefe</th>\n",
       "      <td>20.242729</td>\n",
       "      <td>12.576932</td>\n",
       "    </tr>\n",
       "    <tr>\n",
       "      <th>Conjuge</th>\n",
       "      <td>4.074736</td>\n",
       "      <td>17.049529</td>\n",
       "    </tr>\n",
       "    <tr>\n",
       "      <th>Filho</th>\n",
       "      <td>20.378414</td>\n",
       "      <td>17.700373</td>\n",
       "    </tr>\n",
       "    <tr>\n",
       "      <th>Outro_parente</th>\n",
       "      <td>3.464013</td>\n",
       "      <td>3.818410</td>\n",
       "    </tr>\n",
       "    <tr>\n",
       "      <th>Agregado</th>\n",
       "      <td>0.235708</td>\n",
       "      <td>0.231529</td>\n",
       "    </tr>\n",
       "    <tr>\n",
       "      <th>Pensionista</th>\n",
       "      <td>0.070768</td>\n",
       "      <td>0.052101</td>\n",
       "    </tr>\n",
       "    <tr>\n",
       "      <th>Empregado_domestico</th>\n",
       "      <td>0.006687</td>\n",
       "      <td>0.091386</td>\n",
       "    </tr>\n",
       "    <tr>\n",
       "      <th>Parente_do_empregado</th>\n",
       "      <td>0.003343</td>\n",
       "      <td>0.003343</td>\n",
       "    </tr>\n",
       "  </tbody>\n",
       "</table>\n",
       "</div>"
      ],
      "text/plain": [
       "sexo                  Masculino   Feminino\n",
       "posicao_familiar                          \n",
       "Chefe                 20.242729  12.576932\n",
       "Conjuge                4.074736  17.049529\n",
       "Filho                 20.378414  17.700373\n",
       "Outro_parente          3.464013   3.818410\n",
       "Agregado               0.235708   0.231529\n",
       "Pensionista            0.070768   0.052101\n",
       "Empregado_domestico    0.006687   0.091386\n",
       "Parente_do_empregado   0.003343   0.003343"
      ]
     },
     "execution_count": 228,
     "metadata": {},
     "output_type": "execute_result"
    }
   ],
   "source": [
    "#Tabela do sexo pela posicao familiar\n",
    "sexo_pos_fam11 = pd.crosstab(pnad11.posicao_familiar,pnad11.sexo,normalize=True)\n",
    "soma = sexo_pos_fam11.sum().sum()\n",
    "sexo_pos_fam11*100/soma"
   ]
  },
  {
   "cell_type": "code",
   "execution_count": 229,
   "metadata": {
    "collapsed": false
   },
   "outputs": [
    {
     "data": {
      "text/html": [
       "<div>\n",
       "<table border=\"1\" class=\"dataframe\">\n",
       "  <thead>\n",
       "    <tr style=\"text-align: right;\">\n",
       "      <th>sexo</th>\n",
       "      <th>Masculino</th>\n",
       "      <th>Feminino</th>\n",
       "    </tr>\n",
       "    <tr>\n",
       "      <th>posicao_familiar</th>\n",
       "      <th></th>\n",
       "      <th></th>\n",
       "    </tr>\n",
       "  </thead>\n",
       "  <tbody>\n",
       "    <tr>\n",
       "      <th>Chefe</th>\n",
       "      <td>20.358109</td>\n",
       "      <td>14.048871</td>\n",
       "    </tr>\n",
       "    <tr>\n",
       "      <th>Conjuge</th>\n",
       "      <td>4.828377</td>\n",
       "      <td>16.590326</td>\n",
       "    </tr>\n",
       "    <tr>\n",
       "      <th>Filho</th>\n",
       "      <td>19.434571</td>\n",
       "      <td>16.747788</td>\n",
       "    </tr>\n",
       "    <tr>\n",
       "      <th>Outro_parente</th>\n",
       "      <td>3.560684</td>\n",
       "      <td>3.844446</td>\n",
       "    </tr>\n",
       "    <tr>\n",
       "      <th>Agregado</th>\n",
       "      <td>0.210133</td>\n",
       "      <td>0.217579</td>\n",
       "    </tr>\n",
       "    <tr>\n",
       "      <th>Pensionista</th>\n",
       "      <td>0.068666</td>\n",
       "      <td>0.046329</td>\n",
       "    </tr>\n",
       "    <tr>\n",
       "      <th>Empregado_domestico</th>\n",
       "      <td>0.003861</td>\n",
       "      <td>0.038331</td>\n",
       "    </tr>\n",
       "    <tr>\n",
       "      <th>Parente_do_empregado</th>\n",
       "      <td>0.000827</td>\n",
       "      <td>0.001103</td>\n",
       "    </tr>\n",
       "  </tbody>\n",
       "</table>\n",
       "</div>"
      ],
      "text/plain": [
       "sexo                  Masculino   Feminino\n",
       "posicao_familiar                          \n",
       "Chefe                 20.358109  14.048871\n",
       "Conjuge                4.828377  16.590326\n",
       "Filho                 19.434571  16.747788\n",
       "Outro_parente          3.560684   3.844446\n",
       "Agregado               0.210133   0.217579\n",
       "Pensionista            0.068666   0.046329\n",
       "Empregado_domestico    0.003861   0.038331\n",
       "Parente_do_empregado   0.000827   0.001103"
      ]
     },
     "execution_count": 229,
     "metadata": {},
     "output_type": "execute_result"
    }
   ],
   "source": [
    "#Tabela do sexo pela posicao familiar\n",
    "sexo_pos_fam14 = pd.crosstab(pnad14.posicao_familiar,pnad14.sexo,normalize=True)\n",
    "soma = sexo_pos_fam14.sum().sum()\n",
    "sexo_pos_fam14*100/soma"
   ]
  },
  {
   "cell_type": "code",
   "execution_count": 230,
   "metadata": {
    "collapsed": false
   },
   "outputs": [
    {
     "data": {
      "text/plain": [
       "<matplotlib.axes._subplots.AxesSubplot at 0x11b9bfef0>"
      ]
     },
     "execution_count": 230,
     "metadata": {},
     "output_type": "execute_result"
    },
    {
     "data": {
      "image/png": "[encoded data removed]",
      "text/plain": [
       "<matplotlib.figure.Figure at 0x127752b38>"
      ]
     },
     "metadata": {},
     "output_type": "display_data"
    },
    {
     "data": {
      "image/png": "[encoded data removed]",
      "text/plain": [
       "<matplotlib.figure.Figure at 0x127752cc0>"
      ]
     },
     "metadata": {},
     "output_type": "display_data"
    }
   ],
   "source": [
    "sexo_pos_fam11.plot(kind='bar', color=('blue', 'red','yellow','green','orange','salmon','black','#7352FF'), legend=True, title='Sexo pela posição familiar - 2011')\n",
    "sexo_pos_fam14.plot(kind='bar', color=('blue', 'red','yellow','green','orange','salmon','black','#7352FF'), legend=True, title='Sexo pela posição familiar - 2014')"
   ]
  },
  {
   "cell_type": "markdown",
   "metadata": {},
   "source": [
    "## Conclusão 1:\n",
    "\n",
    "Com esta análise, é possível observar que em ambos os anos quem lidera as famílias, dos aposentados, são os homens.\n",
    "\n",
    "Olhando de um contexto geral, os aposentados são apenas uma pequena parte da liderança de suas familias. Grande parte é liderada por pessoas não aposentadas, e mesmo assim, a grande parte esta preenchida por homens."
   ]
  },
  {
   "cell_type": "markdown",
   "metadata": {},
   "source": [
    "___\n",
    "## Análise 2"
   ]
  },
  {
   "cell_type": "markdown",
   "metadata": {},
   "source": [
    "Nesta analise será possível observar qual a tendência para o futuro, saber se as quantidades sobre a chefia das famílias entre os sexos tendem a se igualar com o tempo"
   ]
  },
  {
   "cell_type": "code",
   "execution_count": 231,
   "metadata": {
    "collapsed": false
   },
   "outputs": [
    {
     "data": {
      "text/plain": [
       "<matplotlib.axes._subplots.AxesSubplot at 0x1259b8d30>"
      ]
     },
     "execution_count": 231,
     "metadata": {},
     "output_type": "execute_result"
    },
    {
     "data": {
      "image/png": "[encoded data removed]",
      "text/plain": [
       "<matplotlib.figure.Figure at 0x1215c92b0>"
      ]
     },
     "metadata": {},
     "output_type": "display_data"
    }
   ],
   "source": [
    "chefes_sexo11 = pnad11[(pnad11.posicao_familiar=='Chefe')].sexo.value_counts(True)*100\n",
    "chefes_sexo11.plot(kind='pie', colors=('blue', 'red'), autopct=\"%0.2f\",legend=False, title='Chefes por sexo - 2011')"
   ]
  },
  {
   "cell_type": "code",
   "execution_count": 232,
   "metadata": {
    "collapsed": false
   },
   "outputs": [
    {
     "data": {
      "text/plain": [
       "<matplotlib.axes._subplots.AxesSubplot at 0x1261b4be0>"
      ]
     },
     "execution_count": 232,
     "metadata": {},
     "output_type": "execute_result"
    },
    {
     "data": {
      "image/png": "[encoded data removed]",
      "text/plain": [
       "<matplotlib.figure.Figure at 0x1261a1048>"
      ]
     },
     "metadata": {},
     "output_type": "display_data"
    }
   ],
   "source": [
    "chefes_sexo14 = pnad14[(pnad14.posicao_familiar=='Chefe')].sexo.value_counts(True)*100\n",
    "chefes_sexo14.plot(kind='pie', colors=('blue', 'red'), autopct=\"%0.2f\",legend=False, title='Chefes por sexo - 2014')"
   ]
  },
  {
   "cell_type": "markdown",
   "metadata": {},
   "source": [
    "## Conclusão 2:\n",
    "\n",
    "Com esta analise, é possível observar que a tendência ao longo do tempo foi de diminuir a diferença entre homens e mulheres na liderança de suas familias. Isso mostra uma possível mudança de pensamento ideologico nas pessoas."
   ]
  },
  {
   "cell_type": "markdown",
   "metadata": {},
   "source": [
    "____\n",
    "## Análise 3\n",
    "\n",
    "Analisando posição familiar com os diferentes estados civis e ver a relação de sexo. Com isso será possível observar se as mulheres que lideram suas famílias são casadas ou não, indicando assim que caso a maioria não seja casada, o motivo da liderança pode ser por falta de uma presença masculina."
   ]
  },
  {
   "cell_type": "code",
   "execution_count": 233,
   "metadata": {
    "collapsed": false
   },
   "outputs": [
    {
     "data": {
      "text/html": [
       "<div>\n",
       "<table border=\"1\" class=\"dataframe\">\n",
       "  <thead>\n",
       "    <tr style=\"text-align: right;\">\n",
       "      <th>estado_civil</th>\n",
       "      <th>Solteiro</th>\n",
       "      <th>Casado</th>\n",
       "      <th>Desquitado</th>\n",
       "      <th>Divorciado</th>\n",
       "      <th>Viuvo</th>\n",
       "    </tr>\n",
       "    <tr>\n",
       "      <th>posicao_familiar</th>\n",
       "      <th></th>\n",
       "      <th></th>\n",
       "      <th></th>\n",
       "      <th></th>\n",
       "      <th></th>\n",
       "    </tr>\n",
       "  </thead>\n",
       "  <tbody>\n",
       "    <tr>\n",
       "      <th>Chefe</th>\n",
       "      <td>18.873685</td>\n",
       "      <td>6.824607</td>\n",
       "      <td>4.930453</td>\n",
       "      <td>8.074183</td>\n",
       "      <td>31.369445</td>\n",
       "    </tr>\n",
       "    <tr>\n",
       "      <th>Conjuge</th>\n",
       "      <td>4.676015</td>\n",
       "      <td>2.176863</td>\n",
       "      <td>0.378831</td>\n",
       "      <td>0.887708</td>\n",
       "      <td>1.181726</td>\n",
       "    </tr>\n",
       "    <tr>\n",
       "      <th>Filho</th>\n",
       "      <td>3.256813</td>\n",
       "      <td>0.118738</td>\n",
       "      <td>0.152663</td>\n",
       "      <td>0.265747</td>\n",
       "      <td>0.180934</td>\n",
       "    </tr>\n",
       "    <tr>\n",
       "      <th>Outro_parente</th>\n",
       "      <td>4.953070</td>\n",
       "      <td>0.672849</td>\n",
       "      <td>0.542802</td>\n",
       "      <td>0.938595</td>\n",
       "      <td>8.820536</td>\n",
       "    </tr>\n",
       "    <tr>\n",
       "      <th>Agregado</th>\n",
       "      <td>0.254439</td>\n",
       "      <td>0.016963</td>\n",
       "      <td>0.011308</td>\n",
       "      <td>0.067850</td>\n",
       "      <td>0.180934</td>\n",
       "    </tr>\n",
       "    <tr>\n",
       "      <th>Pensionista</th>\n",
       "      <td>0.033925</td>\n",
       "      <td>0.011308</td>\n",
       "      <td>0.005654</td>\n",
       "      <td>0.000000</td>\n",
       "      <td>0.016963</td>\n",
       "    </tr>\n",
       "    <tr>\n",
       "      <th>Empregado_domestico</th>\n",
       "      <td>0.073504</td>\n",
       "      <td>0.016963</td>\n",
       "      <td>0.005654</td>\n",
       "      <td>0.005654</td>\n",
       "      <td>0.016963</td>\n",
       "    </tr>\n",
       "    <tr>\n",
       "      <th>Parente_do_empregado</th>\n",
       "      <td>0.000000</td>\n",
       "      <td>0.000000</td>\n",
       "      <td>0.000000</td>\n",
       "      <td>0.000000</td>\n",
       "      <td>0.005654</td>\n",
       "    </tr>\n",
       "  </tbody>\n",
       "</table>\n",
       "</div>"
      ],
      "text/plain": [
       "estado_civil           Solteiro    Casado  Desquitado  Divorciado      Viuvo\n",
       "posicao_familiar                                                            \n",
       "Chefe                 18.873685  6.824607    4.930453    8.074183  31.369445\n",
       "Conjuge                4.676015  2.176863    0.378831    0.887708   1.181726\n",
       "Filho                  3.256813  0.118738    0.152663    0.265747   0.180934\n",
       "Outro_parente          4.953070  0.672849    0.542802    0.938595   8.820536\n",
       "Agregado               0.254439  0.016963    0.011308    0.067850   0.180934\n",
       "Pensionista            0.033925  0.011308    0.005654    0.000000   0.016963\n",
       "Empregado_domestico    0.073504  0.016963    0.005654    0.005654   0.016963\n",
       "Parente_do_empregado   0.000000  0.000000    0.000000    0.000000   0.005654"
      ]
     },
     "execution_count": 233,
     "metadata": {},
     "output_type": "execute_result"
    }
   ],
   "source": [
    "#Posicao familiar pelo estado civil --- apenas dos aposentados\n",
    "pos_fam_ec11 = pd.crosstab(pnad11[pnad11.aposentado=='Sim'].posicao_familiar,pnad11.estado_civil,normalize=True)\n",
    "soma = pos_fam_ec11.sum().sum()\n",
    "pos_fam_ec11*100/soma"
   ]
  },
  {
   "cell_type": "code",
   "execution_count": 234,
   "metadata": {
    "collapsed": false
   },
   "outputs": [
    {
     "data": {
      "text/html": [
       "<div>\n",
       "<table border=\"1\" class=\"dataframe\">\n",
       "  <thead>\n",
       "    <tr style=\"text-align: right;\">\n",
       "      <th>estado_civil</th>\n",
       "      <th>Solteiro</th>\n",
       "      <th>Casado</th>\n",
       "      <th>Desquitado</th>\n",
       "      <th>Divorciado</th>\n",
       "      <th>Viuvo</th>\n",
       "    </tr>\n",
       "    <tr>\n",
       "      <th>posicao_familiar</th>\n",
       "      <th></th>\n",
       "      <th></th>\n",
       "      <th></th>\n",
       "      <th></th>\n",
       "      <th></th>\n",
       "    </tr>\n",
       "  </thead>\n",
       "  <tbody>\n",
       "    <tr>\n",
       "      <th>Chefe</th>\n",
       "      <td>20.161902</td>\n",
       "      <td>7.027574</td>\n",
       "      <td>3.475841</td>\n",
       "      <td>9.997470</td>\n",
       "      <td>31.323046</td>\n",
       "    </tr>\n",
       "    <tr>\n",
       "      <th>Conjuge</th>\n",
       "      <td>4.902606</td>\n",
       "      <td>1.760688</td>\n",
       "      <td>0.349102</td>\n",
       "      <td>1.143435</td>\n",
       "      <td>1.285100</td>\n",
       "    </tr>\n",
       "    <tr>\n",
       "      <th>Filho</th>\n",
       "      <td>2.428535</td>\n",
       "      <td>0.146724</td>\n",
       "      <td>0.126486</td>\n",
       "      <td>0.359221</td>\n",
       "      <td>0.187200</td>\n",
       "    </tr>\n",
       "    <tr>\n",
       "      <th>Outro_parente</th>\n",
       "      <td>4.295472</td>\n",
       "      <td>0.814571</td>\n",
       "      <td>0.409815</td>\n",
       "      <td>1.123198</td>\n",
       "      <td>7.993929</td>\n",
       "    </tr>\n",
       "    <tr>\n",
       "      <th>Agregado</th>\n",
       "      <td>0.222616</td>\n",
       "      <td>0.035416</td>\n",
       "      <td>0.040476</td>\n",
       "      <td>0.065773</td>\n",
       "      <td>0.182140</td>\n",
       "    </tr>\n",
       "    <tr>\n",
       "      <th>Pensionista</th>\n",
       "      <td>0.010119</td>\n",
       "      <td>0.000000</td>\n",
       "      <td>0.005059</td>\n",
       "      <td>0.030357</td>\n",
       "      <td>0.020238</td>\n",
       "    </tr>\n",
       "    <tr>\n",
       "      <th>Empregado_domestico</th>\n",
       "      <td>0.075892</td>\n",
       "      <td>0.000000</td>\n",
       "      <td>0.000000</td>\n",
       "      <td>0.000000</td>\n",
       "      <td>0.000000</td>\n",
       "    </tr>\n",
       "    <tr>\n",
       "      <th>Parente_do_empregado</th>\n",
       "      <td>0.000000</td>\n",
       "      <td>0.000000</td>\n",
       "      <td>0.000000</td>\n",
       "      <td>0.000000</td>\n",
       "      <td>0.000000</td>\n",
       "    </tr>\n",
       "  </tbody>\n",
       "</table>\n",
       "</div>"
      ],
      "text/plain": [
       "estado_civil           Solteiro    Casado  Desquitado  Divorciado      Viuvo\n",
       "posicao_familiar                                                            \n",
       "Chefe                 20.161902  7.027574    3.475841    9.997470  31.323046\n",
       "Conjuge                4.902606  1.760688    0.349102    1.143435   1.285100\n",
       "Filho                  2.428535  0.146724    0.126486    0.359221   0.187200\n",
       "Outro_parente          4.295472  0.814571    0.409815    1.123198   7.993929\n",
       "Agregado               0.222616  0.035416    0.040476    0.065773   0.182140\n",
       "Pensionista            0.010119  0.000000    0.005059    0.030357   0.020238\n",
       "Empregado_domestico    0.075892  0.000000    0.000000    0.000000   0.000000\n",
       "Parente_do_empregado   0.000000  0.000000    0.000000    0.000000   0.000000"
      ]
     },
     "execution_count": 234,
     "metadata": {},
     "output_type": "execute_result"
    }
   ],
   "source": [
    "pos_fam_ec14 = pd.crosstab(pnad14[pnad14.aposentado=='Sim'].posicao_familiar,pnad14.estado_civil,normalize=True)\n",
    "soma = pos_fam_ec14.sum().sum()\n",
    "pos_fam_ec14*100/soma"
   ]
  },
  {
   "cell_type": "code",
   "execution_count": 235,
   "metadata": {
    "collapsed": false
   },
   "outputs": [
    {
     "data": {
      "text/html": [
       "<div>\n",
       "<table border=\"1\" class=\"dataframe\">\n",
       "  <thead>\n",
       "    <tr style=\"text-align: right;\">\n",
       "      <th>estado_civil</th>\n",
       "      <th>Solteiro</th>\n",
       "      <th>Casado</th>\n",
       "      <th>Desquitado</th>\n",
       "      <th>Divorciado</th>\n",
       "      <th>Viuvo</th>\n",
       "    </tr>\n",
       "    <tr>\n",
       "      <th>sexo</th>\n",
       "      <th></th>\n",
       "      <th></th>\n",
       "      <th></th>\n",
       "      <th></th>\n",
       "      <th></th>\n",
       "    </tr>\n",
       "  </thead>\n",
       "  <tbody>\n",
       "    <tr>\n",
       "      <th>Masculino</th>\n",
       "      <td>12.329541</td>\n",
       "      <td>6.132494</td>\n",
       "      <td>3.13080</td>\n",
       "      <td>5.107722</td>\n",
       "      <td>12.192367</td>\n",
       "    </tr>\n",
       "    <tr>\n",
       "      <th>Feminino</th>\n",
       "      <td>14.605019</td>\n",
       "      <td>3.606875</td>\n",
       "      <td>3.90543</td>\n",
       "      <td>6.414912</td>\n",
       "      <td>32.574841</td>\n",
       "    </tr>\n",
       "  </tbody>\n",
       "</table>\n",
       "</div>"
      ],
      "text/plain": [
       "estado_civil   Solteiro    Casado  Desquitado  Divorciado      Viuvo\n",
       "sexo                                                                \n",
       "Masculino     12.329541  6.132494     3.13080    5.107722  12.192367\n",
       "Feminino      14.605019  3.606875     3.90543    6.414912  32.574841"
      ]
     },
     "execution_count": 235,
     "metadata": {},
     "output_type": "execute_result"
    }
   ],
   "source": [
    "#Quantos chefes de familias são mulheres casadas em ambos os anos\n",
    "chefes_sexo11 = pd.crosstab(pnad11[(pnad11.aposentado=='Sim')&(pnad11.posicao_familiar=='Chefe')].sexo,pnad11.estado_civil,normalize=True)\n",
    "soma = chefes_sexo11.sum().sum()\n",
    "chefes_sexo11*100/soma"
   ]
  },
  {
   "cell_type": "code",
   "execution_count": 236,
   "metadata": {
    "collapsed": false
   },
   "outputs": [
    {
     "data": {
      "text/html": [
       "<div>\n",
       "<table border=\"1\" class=\"dataframe\">\n",
       "  <thead>\n",
       "    <tr style=\"text-align: right;\">\n",
       "      <th>estado_civil</th>\n",
       "      <th>Solteiro</th>\n",
       "      <th>Casado</th>\n",
       "      <th>Desquitado</th>\n",
       "      <th>Divorciado</th>\n",
       "      <th>Viuvo</th>\n",
       "    </tr>\n",
       "    <tr>\n",
       "      <th>sexo</th>\n",
       "      <th></th>\n",
       "      <th></th>\n",
       "      <th></th>\n",
       "      <th></th>\n",
       "      <th></th>\n",
       "    </tr>\n",
       "  </thead>\n",
       "  <tbody>\n",
       "    <tr>\n",
       "      <th>Masculino</th>\n",
       "      <td>12.362946</td>\n",
       "      <td>5.594602</td>\n",
       "      <td>2.213944</td>\n",
       "      <td>6.325555</td>\n",
       "      <td>12.018555</td>\n",
       "    </tr>\n",
       "    <tr>\n",
       "      <th>Feminino</th>\n",
       "      <td>15.645207</td>\n",
       "      <td>4.167838</td>\n",
       "      <td>2.614563</td>\n",
       "      <td>7.562553</td>\n",
       "      <td>31.494237</td>\n",
       "    </tr>\n",
       "  </tbody>\n",
       "</table>\n",
       "</div>"
      ],
      "text/plain": [
       "estado_civil   Solteiro    Casado  Desquitado  Divorciado      Viuvo\n",
       "sexo                                                                \n",
       "Masculino     12.362946  5.594602    2.213944    6.325555  12.018555\n",
       "Feminino      15.645207  4.167838    2.614563    7.562553  31.494237"
      ]
     },
     "execution_count": 236,
     "metadata": {},
     "output_type": "execute_result"
    }
   ],
   "source": [
    "chefes_sexo14 = pd.crosstab(pnad14[(pnad14.aposentado=='Sim')&(pnad14.posicao_familiar=='Chefe')].sexo,pnad14.estado_civil,normalize=True)\n",
    "soma = chefes_sexo14.sum().sum()\n",
    "chefes_sexo14*100/soma"
   ]
  },
  {
   "cell_type": "code",
   "execution_count": 237,
   "metadata": {
    "collapsed": false
   },
   "outputs": [
    {
     "data": {
      "text/plain": [
       "<matplotlib.axes._subplots.AxesSubplot at 0x112f83a58>"
      ]
     },
     "execution_count": 237,
     "metadata": {},
     "output_type": "execute_result"
    },
    {
     "data": {
      "image/png": "[encoded data removed]",
      "text/plain": [
       "<matplotlib.figure.Figure at 0x11c6b3208>"
      ]
     },
     "metadata": {},
     "output_type": "display_data"
    },
    {
     "data": {
      "image/png": "[encoded data removed]",
      "text/plain": [
       "<matplotlib.figure.Figure at 0x11c6b3dd8>"
      ]
     },
     "metadata": {},
     "output_type": "display_data"
    }
   ],
   "source": [
    "chefes_sexo11.plot(kind='bar', color=('blue', 'red','yellow','green','orange'),legend=True, title='Chefes de famílias aposentados divididos por sexo por estado civil - 2011',stacked=True)\n",
    "chefes_sexo14.plot(kind='bar', color=('blue', 'red','yellow','green','orange'),legend=True, title='Chefes de famílias aposentados divididos por sexo por estado civil - 2014',stacked=True)"
   ]
  },
  {
   "cell_type": "markdown",
   "metadata": {},
   "source": [
    "## Conclusão 3:\n",
    "\n",
    "Com esta analise, foi possível comparar as diferenças entre os homens e as mulheres. É possível ver que das mulheres que são chefes de suas famílias, várias delas são por motivos de não terem um marido. E isso ocorre em ambos os anos analisados.\n",
    "\n",
    "Apesar de ser pequena a diferença (observada nas tabelas), quando há um casal, o chefe é normalmente o homem ao invés da mulher.\n",
    "\n",
    "Em ambos os gráficos resultantes, essa diferença se da pelo fato de que muitas das mulheres chefes são viuvas. E novamente, a diferença na quantidade de casados chefes aposentados entre homens e mulheres diminuiu."
   ]
  },
  {
   "cell_type": "markdown",
   "metadata": {},
   "source": [
    "____\n",
    "## Análise 4:\n",
    "\n",
    "Analisando a posição familiar pela unidade federal. Isso permite observar as tendencias de cada região do país. Observar onde há mudança e se há mudança de pensamento, já que o Brasil é um país com muitas diferenças nos pensamentos para as diferentes regiões."
   ]
  },
  {
   "cell_type": "code",
   "execution_count": 238,
   "metadata": {
    "collapsed": false
   },
   "outputs": [
    {
     "data": {
      "text/html": [
       "<div>\n",
       "<table border=\"1\" class=\"dataframe\">\n",
       "  <thead>\n",
       "    <tr style=\"text-align: right;\">\n",
       "      <th>regiao</th>\n",
       "      <th>Centro-oeste</th>\n",
       "      <th>Nordeste</th>\n",
       "      <th>Norte</th>\n",
       "      <th>Sudeste</th>\n",
       "      <th>Sul</th>\n",
       "    </tr>\n",
       "    <tr>\n",
       "      <th>sexo</th>\n",
       "      <th></th>\n",
       "      <th></th>\n",
       "      <th></th>\n",
       "      <th></th>\n",
       "      <th></th>\n",
       "    </tr>\n",
       "  </thead>\n",
       "  <tbody>\n",
       "    <tr>\n",
       "      <th>Masculino</th>\n",
       "      <td>6.868654</td>\n",
       "      <td>17.274780</td>\n",
       "      <td>8.869571</td>\n",
       "      <td>18.403851</td>\n",
       "      <td>10.261809</td>\n",
       "    </tr>\n",
       "    <tr>\n",
       "      <th>Feminino</th>\n",
       "      <td>3.903358</td>\n",
       "      <td>11.276274</td>\n",
       "      <td>5.591871</td>\n",
       "      <td>11.160820</td>\n",
       "      <td>6.389012</td>\n",
       "    </tr>\n",
       "  </tbody>\n",
       "</table>\n",
       "</div>"
      ],
      "text/plain": [
       "regiao     Centro-oeste   Nordeste     Norte    Sudeste        Sul\n",
       "sexo                                                              \n",
       "Masculino      6.868654  17.274780  8.869571  18.403851  10.261809\n",
       "Feminino       3.903358  11.276274  5.591871  11.160820   6.389012"
      ]
     },
     "execution_count": 238,
     "metadata": {},
     "output_type": "execute_result"
    }
   ],
   "source": [
    "#Tabela da posição familiar pelo sexo (apenas dos chefes de família) em 2011\n",
    "pos_uf11 = pd.crosstab(pnad11[(pnad11.posicao_familiar=='Chefe')].sexo,pnad11.regiao,normalize=True)\n",
    "soma = pos_uf11.sum().sum()\n",
    "pos_uf11*100/soma"
   ]
  },
  {
   "cell_type": "code",
   "execution_count": 239,
   "metadata": {
    "collapsed": false
   },
   "outputs": [
    {
     "data": {
      "text/html": [
       "<div>\n",
       "<table border=\"1\" class=\"dataframe\">\n",
       "  <thead>\n",
       "    <tr style=\"text-align: right;\">\n",
       "      <th>regiao</th>\n",
       "      <th>Centro-oeste</th>\n",
       "      <th>Nordeste</th>\n",
       "      <th>Norte</th>\n",
       "      <th>Sudeste</th>\n",
       "      <th>Sul</th>\n",
       "    </tr>\n",
       "    <tr>\n",
       "      <th>sexo</th>\n",
       "      <th></th>\n",
       "      <th></th>\n",
       "      <th></th>\n",
       "      <th></th>\n",
       "      <th></th>\n",
       "    </tr>\n",
       "  </thead>\n",
       "  <tbody>\n",
       "    <tr>\n",
       "      <th>Masculino</th>\n",
       "      <td>6.463945</td>\n",
       "      <td>15.729869</td>\n",
       "      <td>8.755380</td>\n",
       "      <td>18.390786</td>\n",
       "      <td>9.828563</td>\n",
       "    </tr>\n",
       "    <tr>\n",
       "      <th>Feminino</th>\n",
       "      <td>4.128429</td>\n",
       "      <td>12.324375</td>\n",
       "      <td>5.690516</td>\n",
       "      <td>12.057482</td>\n",
       "      <td>6.630653</td>\n",
       "    </tr>\n",
       "  </tbody>\n",
       "</table>\n",
       "</div>"
      ],
      "text/plain": [
       "regiao     Centro-oeste   Nordeste     Norte    Sudeste       Sul\n",
       "sexo                                                             \n",
       "Masculino      6.463945  15.729869  8.755380  18.390786  9.828563\n",
       "Feminino       4.128429  12.324375  5.690516  12.057482  6.630653"
      ]
     },
     "execution_count": 239,
     "metadata": {},
     "output_type": "execute_result"
    }
   ],
   "source": [
    "#Tabela da posição familiar pelo sexo (apenas dos chefes de família) em 2014\n",
    "pos_uf14 = pd.crosstab(pnad14[(pnad14.posicao_familiar=='Chefe')].sexo,pnad14.regiao,normalize=True)\n",
    "soma = pos_uf14.sum().sum()\n",
    "pos_uf14*100/soma"
   ]
  },
  {
   "cell_type": "code",
   "execution_count": 240,
   "metadata": {
    "collapsed": false
   },
   "outputs": [
    {
     "data": {
      "text/html": [
       "<div>\n",
       "<table border=\"1\" class=\"dataframe\">\n",
       "  <thead>\n",
       "    <tr style=\"text-align: right;\">\n",
       "      <th>regiao</th>\n",
       "      <th>Centro-oeste</th>\n",
       "      <th>Nordeste</th>\n",
       "      <th>Norte</th>\n",
       "      <th>Sudeste</th>\n",
       "      <th>Sul</th>\n",
       "    </tr>\n",
       "    <tr>\n",
       "      <th>sexo</th>\n",
       "      <th></th>\n",
       "      <th></th>\n",
       "      <th></th>\n",
       "      <th></th>\n",
       "      <th></th>\n",
       "    </tr>\n",
       "  </thead>\n",
       "  <tbody>\n",
       "    <tr>\n",
       "      <th>Masculino</th>\n",
       "      <td>5.062506</td>\n",
       "      <td>16.845465</td>\n",
       "      <td>5.771788</td>\n",
       "      <td>21.619824</td>\n",
       "      <td>12.306056</td>\n",
       "    </tr>\n",
       "    <tr>\n",
       "      <th>Feminino</th>\n",
       "      <td>3.058782</td>\n",
       "      <td>12.589769</td>\n",
       "      <td>3.714868</td>\n",
       "      <td>11.623371</td>\n",
       "      <td>7.407572</td>\n",
       "    </tr>\n",
       "  </tbody>\n",
       "</table>\n",
       "</div>"
      ],
      "text/plain": [
       "regiao     Centro-oeste   Nordeste     Norte    Sudeste        Sul\n",
       "sexo                                                              \n",
       "Masculino      5.062506  16.845465  5.771788  21.619824  12.306056\n",
       "Feminino       3.058782  12.589769  3.714868  11.623371   7.407572"
      ]
     },
     "execution_count": 240,
     "metadata": {},
     "output_type": "execute_result"
    }
   ],
   "source": [
    "#Tabela da posição familiar pelo sexo (apenas dos chefes de família e aposentados) em 2011\n",
    "pos_uf112 = pd.crosstab(pnad11[(pnad11.posicao_familiar=='Chefe')&(pnad11.aposentado=='Sim')].sexo,pnad11.regiao,normalize=True)\n",
    "soma = pos_uf112.sum().sum()\n",
    "pos_uf112*100/soma"
   ]
  },
  {
   "cell_type": "code",
   "execution_count": 241,
   "metadata": {
    "collapsed": false
   },
   "outputs": [
    {
     "data": {
      "text/html": [
       "<div>\n",
       "<table border=\"1\" class=\"dataframe\">\n",
       "  <thead>\n",
       "    <tr style=\"text-align: right;\">\n",
       "      <th>regiao</th>\n",
       "      <th>Centro-oeste</th>\n",
       "      <th>Nordeste</th>\n",
       "      <th>Norte</th>\n",
       "      <th>Sudeste</th>\n",
       "      <th>Sul</th>\n",
       "    </tr>\n",
       "    <tr>\n",
       "      <th>sexo</th>\n",
       "      <th></th>\n",
       "      <th></th>\n",
       "      <th></th>\n",
       "      <th></th>\n",
       "      <th></th>\n",
       "    </tr>\n",
       "  </thead>\n",
       "  <tbody>\n",
       "    <tr>\n",
       "      <th>Masculino</th>\n",
       "      <td>5.109489</td>\n",
       "      <td>15.324500</td>\n",
       "      <td>5.827515</td>\n",
       "      <td>21.354332</td>\n",
       "      <td>12.559505</td>\n",
       "    </tr>\n",
       "    <tr>\n",
       "      <th>Feminino</th>\n",
       "      <td>3.332275</td>\n",
       "      <td>12.595208</td>\n",
       "      <td>4.050301</td>\n",
       "      <td>12.182640</td>\n",
       "      <td>7.664234</td>\n",
       "    </tr>\n",
       "  </tbody>\n",
       "</table>\n",
       "</div>"
      ],
      "text/plain": [
       "regiao     Centro-oeste   Nordeste     Norte    Sudeste        Sul\n",
       "sexo                                                              \n",
       "Masculino      5.109489  15.324500  5.827515  21.354332  12.559505\n",
       "Feminino       3.332275  12.595208  4.050301  12.182640   7.664234"
      ]
     },
     "execution_count": 241,
     "metadata": {},
     "output_type": "execute_result"
    }
   ],
   "source": [
    "#Tabela da posição familiar pelo sexo (apenas dos chefes de família e aposentados) em 2014\n",
    "pos_uf142 = pd.crosstab(pnad14[(pnad14.posicao_familiar=='Chefe')&(pnad14.aposentado=='Sim')].sexo,pnad14.regiao,normalize=True)\n",
    "soma = pos_uf142.sum().sum()\n",
    "pos_uf142*100/soma"
   ]
  },
  {
   "cell_type": "code",
   "execution_count": 242,
   "metadata": {
    "collapsed": false
   },
   "outputs": [
    {
     "name": "stdout",
     "output_type": "stream",
     "text": [
      "Legenda:\n",
      "Azul = Centro-oeste\n",
      "Vermelho = Nordeste\n",
      "Laranja = Norte\n",
      "Verde = Sudeste\n",
      "Amarelo = Sul\n"
     ]
    },
    {
     "data": {
      "text/plain": [
       "<matplotlib.axes._subplots.AxesSubplot at 0x11b9d05f8>"
      ]
     },
     "execution_count": 242,
     "metadata": {},
     "output_type": "execute_result"
    },
    {
     "data": {
      "image/png": "[encoded data removed]",
      "text/plain": [
       "<matplotlib.figure.Figure at 0x114489e80>"
      ]
     },
     "metadata": {},
     "output_type": "display_data"
    },
    {
     "data": {
      "image/png": "[encoded data removed]",
      "text/plain": [
       "<matplotlib.figure.Figure at 0x115c66160>"
      ]
     },
     "metadata": {},
     "output_type": "display_data"
    },
    {
     "data": {
      "image/png": "[encoded data removed]",
      "text/plain": [
       "<matplotlib.figure.Figure at 0x11def27b8>"
      ]
     },
     "metadata": {},
     "output_type": "display_data"
    },
    {
     "data": {
      "image/png": "[encoded data removed]",
      "text/plain": [
       "<matplotlib.figure.Figure at 0x1215d92e8>"
      ]
     },
     "metadata": {},
     "output_type": "display_data"
    }
   ],
   "source": [
    "print('''Legenda:\n",
    "Azul = Centro-oeste\n",
    "Vermelho = Nordeste\n",
    "Laranja = Norte\n",
    "Verde = Sudeste\n",
    "Amarelo = Sul''')\n",
    "\n",
    "pos_uf11.plot(kind='bar', color=('blue', 'red','orange','green','yellow'),legend=False, title='Chefes por região - 2011',stacked=True)\n",
    "pos_uf14.plot(kind='bar', color=('blue', 'red','orange','green','yellow'),legend=False, title='Chefes  por região - 2014',stacked=True)\n",
    "pos_uf112.plot(kind='bar', color=('blue', 'red','orange','green','yellow'),legend=False, title='Chefes aposentados por região - 2011',stacked=True)\n",
    "pos_uf142.plot(kind='bar', color=('blue', 'red','orange','green','yellow'),legend=False, title='Chefes aposentados por região - 2014',stacked=True)"
   ]
  },
  {
   "cell_type": "markdown",
   "metadata": {},
   "source": [
    "## Conclusão 4:\n",
    "\n",
    "Com esta análise é possível observar que existem diferença na liderança das familias nas diferentes regiões do país. Tais dados fazem ser possível perceber as tendências ideológicas ao longo do tempo, porém pelos dados dos gráficos e das tabelas, é claro ver que não ouveram tantas diferenças entre as diferentes regiões, já que em todas ouve um crescimento na liderança pelas mulheres, apesar de mesmo assim os homens serem maioria."
   ]
  },
  {
   "cell_type": "markdown",
   "metadata": {},
   "source": [
    "____\n",
    "## Análise 5\n",
    "\n",
    "Nesta análise será feita a comparação das idades entre os chefes de familias, aposentados ou não, fazendo com que de para ver se a diferença nas idades influênciam ou não na hora de ser o chefe da família."
   ]
  },
  {
   "cell_type": "code",
   "execution_count": 243,
   "metadata": {
    "collapsed": false
   },
   "outputs": [
    {
     "data": {
      "image/png": "[encoded data removed]",
      "text/plain": [
       "<matplotlib.figure.Figure at 0x11c1e3828>"
      ]
     },
     "metadata": {},
     "output_type": "display_data"
    }
   ],
   "source": [
    "x = pnad11[(pnad11.posicao_familiar=='Chefe')].idade\n",
    "y = pnad14[(pnad14.posicao_familiar=='Chefe')].idade\n",
    "data_to_plot = [x,y]\n",
    "\n",
    "fig = plt.figure(1, figsize=(9, 6))\n",
    "ax = fig.add_subplot(111)\n",
    "bp = ax.boxplot(data_to_plot)\n",
    "plt.title('Idade dos chefes de familias')\n",
    "ax.set_xticklabels(['2011', '2014'])\n",
    "plt.grid(True)"
   ]
  },
  {
   "cell_type": "code",
   "execution_count": 244,
   "metadata": {
    "collapsed": false,
    "scrolled": true
   },
   "outputs": [
    {
     "data": {
      "image/png": "[encoded data removed]",
      "text/plain": [
       "<matplotlib.figure.Figure at 0x114603cf8>"
      ]
     },
     "metadata": {},
     "output_type": "display_data"
    }
   ],
   "source": [
    "x = pnad11[(pnad11.posicao_familiar=='Chefe')&(pnad11.aposentado=='Sim')].idade\n",
    "y = pnad14[(pnad14.posicao_familiar=='Chefe')&(pnad14.aposentado=='Sim')].idade\n",
    "data_to_plot = [x,y]\n",
    "\n",
    "fig = plt.figure(1, figsize=(9, 6))\n",
    "ax = fig.add_subplot(111)\n",
    "bp = ax.boxplot(data_to_plot)\n",
    "plt.title('Idade dos chefes de familias aposentados')\n",
    "ax.set_xticklabels(['2011', '2014'])\n",
    "plt.grid(True)"
   ]
  },
  {
   "cell_type": "code",
   "execution_count": 245,
   "metadata": {
    "collapsed": false
   },
   "outputs": [
    {
     "name": "stdout",
     "output_type": "stream",
     "text": [
      "A média das idades dos chefes em 2011 é:  46.78202995008319\n",
      "A média das idades dos chefes em 2014 é:  47.75018634436439\n",
      "\n",
      "A mediana das idades dos chefes em 2011 é:  45.0\n",
      "A mediana das idades dos chefes em 2014 é:  47.0\n",
      "\n",
      "A média das idades dos chefes aposentados em 2011 é:  67.36191151697845\n",
      "A média das idades dos chefes aposentados em 2014 é:  67.82886385274516\n",
      "\n",
      "A mediana das idades dos chefes aposentados em 2011 é:  67.0\n",
      "A mediana das idades dos chefes aposentados em 2014 é:  67.0\n"
     ]
    }
   ],
   "source": [
    "print('A média das idades dos chefes em 2011 é: ',pnad11[(pnad11.posicao_familiar=='Chefe')].idade.mean())\n",
    "print('A média das idades dos chefes em 2014 é: ',pnad14[(pnad14.posicao_familiar=='Chefe')].idade.mean())\n",
    "print()\n",
    "print('A mediana das idades dos chefes em 2011 é: ',pnad11[(pnad11.posicao_familiar=='Chefe')].idade.median())\n",
    "print('A mediana das idades dos chefes em 2014 é: ',pnad14[(pnad14.posicao_familiar=='Chefe')].idade.median())\n",
    "print()\n",
    "print('A média das idades dos chefes aposentados em 2011 é: ',pnad11[(pnad11.posicao_familiar=='Chefe')&(pnad11.aposentado=='Sim')].idade.mean())\n",
    "print('A média das idades dos chefes aposentados em 2014 é: ',pnad14[(pnad14.posicao_familiar=='Chefe')&(pnad14.aposentado=='Sim')].idade.mean())\n",
    "print()\n",
    "print('A mediana das idades dos chefes aposentados em 2011 é: ',pnad11[(pnad11.posicao_familiar=='Chefe')&(pnad11.aposentado=='Sim')].idade.median())\n",
    "print('A mediana das idades dos chefes aposentados em 2014 é: ',pnad14[(pnad14.posicao_familiar=='Chefe')&(pnad14.aposentado=='Sim')].idade.median())"
   ]
  },
  {
   "cell_type": "markdown",
   "metadata": {},
   "source": [
    "## Conclusão 5:\n",
    "\n",
    "Com esta análise é possível observar que a idade não influência se uma pessoa é chefe de familia ou não. Uma pessoa ter mais idade, ou seja, ser mais experiente, não significa muita coisa na liderança da familia. A liderença esta com pessoas mais jovens, pessoas com idades por volta de 50 anos de idade. Se olhar o boxplot de chefes, a idade média vai até os 60 anos, já se ohar o boxplot dos chefes aposentados, a média começa nos 60 anos. Indicando que os aposentados talvéz não tenham tanta relevância em suas famílias."
   ]
  },
  {
   "cell_type": "markdown",
   "metadata": {},
   "source": [
    "_____\n",
    "## Análise 6\n",
    "\n",
    "Nesta análise será feita a diferença das rendas entre os chefes de famílias homens e mulheres, e ver se existe relação com o dinheiro ou não."
   ]
  },
  {
   "cell_type": "code",
   "execution_count": 246,
   "metadata": {
    "collapsed": true
   },
   "outputs": [],
   "source": [
    "pnad14_renda = pnad14[(pnad14.renda!=999999999999)&(~pnad14.renda.isnull())]"
   ]
  },
  {
   "cell_type": "code",
   "execution_count": 247,
   "metadata": {
    "collapsed": false
   },
   "outputs": [
    {
     "data": {
      "text/plain": [
       "count    349613.000000\n",
       "mean       1017.840212\n",
       "std        1659.043953\n",
       "min           0.000000\n",
       "25%         346.000000\n",
       "50%         637.000000\n",
       "75%        1100.000000\n",
       "max      331200.000000\n",
       "Name: renda, dtype: float64"
      ]
     },
     "execution_count": 247,
     "metadata": {},
     "output_type": "execute_result"
    }
   ],
   "source": [
    "pnad14_renda.renda.describe()"
   ]
  },
  {
   "cell_type": "code",
   "execution_count": 248,
   "metadata": {
    "collapsed": false
   },
   "outputs": [
    {
     "name": "stdout",
     "output_type": "stream",
     "text": [
      "560.139941351\n"
     ]
    }
   ],
   "source": [
    "quantidade_classes = np.sqrt(349613)\n",
    "delta = 331200\n",
    "\n",
    "amplitude_sugerida = delta/quantidade_classes\n",
    "print(amplitude_sugerida)"
   ]
  },
  {
   "cell_type": "code",
   "execution_count": 249,
   "metadata": {
    "collapsed": true
   },
   "outputs": [],
   "source": [
    "#Caso não goste do resultado\n",
    "amplitude_sugerida = 550\n",
    "faixa = np.arange(0,15000,amplitude_sugerida)"
   ]
  },
  {
   "cell_type": "code",
   "execution_count": 250,
   "metadata": {
    "collapsed": false
   },
   "outputs": [
    {
     "data": {
      "text/plain": [
       "(0, 550]          151669\n",
       "(550, 1100]       106921\n",
       "(1100, 1650]       39372\n",
       "(1650, 2200]       17309\n",
       "(2200, 2750]        8789\n",
       "(2750, 3300]        5504\n",
       "(3300, 3850]        3785\n",
       "(3850, 4400]        2753\n",
       "(4950, 5500]        1853\n",
       "(4400, 4950]        1638\n",
       "(5500, 6050]        1149\n",
       "(6050, 6600]         795\n",
       "(6600, 7150]         747\n",
       "(7150, 7700]         505\n",
       "(7700, 8250]         434\n",
       "(8250, 8800]         358\n",
       "(9900, 10450]        342\n",
       "(8800, 9350]         280\n",
       "(10450, 11000]       217\n",
       "(9350, 9900]         176\n",
       "(11550, 12100]       152\n",
       "(12100, 12650]       119\n",
       "(12650, 13200]       113\n",
       "(11000, 11550]        92\n",
       "(13200, 13750]        69\n",
       "(13750, 14300]        67\n",
       "(14300, 14850]        36\n",
       "Name: renda, dtype: int64"
      ]
     },
     "execution_count": 250,
     "metadata": {},
     "output_type": "execute_result"
    }
   ],
   "source": [
    "varCat_renda = pd.cut(pnad14_renda.renda,faixa)\n",
    "varCat_renda.value_counts()"
   ]
  },
  {
   "cell_type": "code",
   "execution_count": 251,
   "metadata": {
    "collapsed": false
   },
   "outputs": [
    {
     "data": {
      "image/png": "[encoded data removed]",
      "text/plain": [
       "<matplotlib.figure.Figure at 0x115ce6dd8>"
      ]
     },
     "metadata": {},
     "output_type": "display_data"
    }
   ],
   "source": [
    "plot = pnad14_renda[pnad14_renda.aposentado=='Sim'].renda.plot.hist(bins=faixa, title='Renda Mensal dos aposentados - 2014', normed=1)"
   ]
  },
  {
   "cell_type": "code",
   "execution_count": 252,
   "metadata": {
    "collapsed": false
   },
   "outputs": [
    {
     "name": "stdout",
     "output_type": "stream",
     "text": [
      "2014\n",
      "\n",
      "A média das rendas mensais é:  1017.8402118914343\n",
      "A média das rendas mensais dos aposentados é:  1531.4806911119535\n",
      "\n",
      "A mediana das rendas mensais é:  637.0\n",
      "A mediana das rendas mensais dos aposentados é:  886.0\n"
     ]
    }
   ],
   "source": [
    "print('2014\\n')\n",
    "print('A média das rendas mensais é: ',pnad14_renda.renda.mean())\n",
    "print('A média das rendas mensais dos aposentados é: ',pnad14_renda[pnad14_renda.aposentado=='Sim'].renda.mean())\n",
    "print()\n",
    "print('A mediana das rendas mensais é: ',pnad14_renda.renda.median())\n",
    "print('A mediana das rendas mensais dos aposentados é: ',pnad14_renda[pnad14_renda.aposentado=='Sim'].renda.median())"
   ]
  },
  {
   "cell_type": "code",
   "execution_count": 253,
   "metadata": {
    "collapsed": false
   },
   "outputs": [
    {
     "data": {
      "image/png": "[encoded data removed]",
      "text/plain": [
       "<matplotlib.figure.Figure at 0x11c676278>"
      ]
     },
     "metadata": {},
     "output_type": "display_data"
    }
   ],
   "source": [
    "plot = pnad14_renda[(pnad14_renda.aposentado=='Sim')&(pnad14_renda.sexo=='Masculino')&(pnad14_renda.posicao_familiar=='Chefe')].renda.plot.hist(bins=faixa, title='Renda Mensal dos aposentados chefe de familia homens - 2014', normed=1)"
   ]
  },
  {
   "cell_type": "code",
   "execution_count": 254,
   "metadata": {
    "collapsed": false
   },
   "outputs": [
    {
     "data": {
      "image/png": "[encoded data removed]",
      "text/plain": [
       "<matplotlib.figure.Figure at 0x1146ea7b8>"
      ]
     },
     "metadata": {},
     "output_type": "display_data"
    }
   ],
   "source": [
    "plot = pnad14_renda[(pnad14_renda.aposentado=='Sim')&(pnad14_renda.sexo=='Feminino')&(pnad14_renda.posicao_familiar=='Chefe')].renda.plot.hist(bins=faixa, title='Renda Mensal dos aposentados chefe de familia mulheres - 2014', normed=1)"
   ]
  },
  {
   "cell_type": "code",
   "execution_count": 255,
   "metadata": {
    "collapsed": false
   },
   "outputs": [
    {
     "data": {
      "image/png": "[encoded data removed]",
      "text/plain": [
       "<matplotlib.figure.Figure at 0x1146ef2e8>"
      ]
     },
     "metadata": {},
     "output_type": "display_data"
    }
   ],
   "source": [
    "x = pnad14_renda[(pnad14_renda.aposentado=='Sim')&(pnad14_renda.posicao_familiar=='Chefe')].renda\n",
    "y = pnad14_renda[(pnad14_renda.aposentado=='Sim')&(pnad14_renda.posicao_familiar!='Chefe')].renda\n",
    "data_to_plot = [x,y]\n",
    "\n",
    "fig = plt.figure(1, figsize=(9, 6))\n",
    "ax = fig.add_subplot(111)\n",
    "bp = ax.boxplot(data_to_plot)\n",
    "plt.title('Renda dos aposentados chefes contra outros')\n",
    "ax.set_xticklabels(['Chefes', 'Não chefes'])\n",
    "plt.axis([0,10,0,3000])\n",
    "plt.grid(True)"
   ]
  },
  {
   "cell_type": "code",
   "execution_count": 256,
   "metadata": {
    "collapsed": false
   },
   "outputs": [
    {
     "name": "stdout",
     "output_type": "stream",
     "text": [
      "Covariância femenina: -600.985365886\n",
      "Covariância masculino: -525.615679512\n",
      "Covariância geral: -550.387336145\n"
     ]
    }
   ],
   "source": [
    "print('Covariância femenina:',np.cov(pnad14_renda[(pnad14_renda.aposentado=='Sim')&(pnad14_renda.sexo=='Feminino')&(pnad14_renda.posicao_familiar=='Chefe')].idade,pnad14_renda[(pnad14_renda.aposentado=='Sim')&(pnad14_renda.sexo=='Feminino')&(pnad14_renda.posicao_familiar=='Chefe')].renda)[0,1])\n",
    "print('Covariância masculino:',np.cov(pnad14_renda[(pnad14_renda.aposentado=='Sim')&(pnad14_renda.sexo=='Masculino')&(pnad14_renda.posicao_familiar=='Chefe')].idade,pnad14_renda[(pnad14_renda.aposentado=='Sim')&(pnad14_renda.sexo=='Masculino')&(pnad14_renda.posicao_familiar=='Chefe')].renda)[0,1])\n",
    "print('Covariância geral:',np.cov(pnad14_renda[(pnad14_renda.aposentado=='Sim')&(pnad14_renda.posicao_familiar=='Chefe')].idade,pnad14_renda[(pnad14_renda.aposentado=='Sim')&(pnad14_renda.posicao_familiar=='Chefe')].renda)[0,1])"
   ]
  },
  {
   "cell_type": "code",
   "execution_count": 257,
   "metadata": {
    "collapsed": false
   },
   "outputs": [
    {
     "name": "stdout",
     "output_type": "stream",
     "text": [
      "Correlação femenina: -0.0282377465479\n",
      "Correlação masculino: -0.0150696047174\n",
      "Correlação geral: -0.0181678791643\n"
     ]
    }
   ],
   "source": [
    "print('Correlação femenina:',np.corrcoef(pnad14_renda[(pnad14_renda.aposentado=='Sim')&(pnad14_renda.sexo=='Feminino')&(pnad14_renda.posicao_familiar=='Chefe')].idade,pnad14_renda[(pnad14_renda.aposentado=='Sim')&(pnad14_renda.sexo=='Feminino')&(pnad14_renda.posicao_familiar=='Chefe')].renda)[0,1])\n",
    "print('Correlação masculino:',np.corrcoef(pnad14_renda[(pnad14_renda.aposentado=='Sim')&(pnad14_renda.sexo=='Masculino')&(pnad14_renda.posicao_familiar=='Chefe')].idade,pnad14_renda[(pnad14_renda.aposentado=='Sim')&(pnad14_renda.sexo=='Masculino')&(pnad14_renda.posicao_familiar=='Chefe')].renda)[0,1])\n",
    "print('Correlação geral:',np.corrcoef(pnad14_renda[(pnad14_renda.aposentado=='Sim')&(pnad14_renda.posicao_familiar=='Chefe')].idade,pnad14_renda[(pnad14_renda.aposentado=='Sim')&(pnad14_renda.posicao_familiar=='Chefe')].renda)[0,1])"
   ]
  },
  {
   "cell_type": "code",
   "execution_count": 258,
   "metadata": {
    "collapsed": false
   },
   "outputs": [
    {
     "data": {
      "image/png": "[encoded data removed]",
      "text/plain": [
       "<matplotlib.figure.Figure at 0x1254b7470>"
      ]
     },
     "metadata": {},
     "output_type": "display_data"
    },
    {
     "data": {
      "image/png": "[encoded data removed]",
      "text/plain": [
       "<matplotlib.figure.Figure at 0x11d982c88>"
      ]
     },
     "metadata": {},
     "output_type": "display_data"
    }
   ],
   "source": [
    "plot = pnad14_renda[pnad14_renda.aposentado=='Sim'].renda.plot.hist(bins=faixa, title='Renda Mensal dos aposentados - 2014', normed=1)\n",
    "plt.show()\n",
    "plot = pnad14_renda[pnad14_renda.aposentado=='Nao'].renda.plot.hist(bins=faixa, title='Renda Mensal dos chefes não aposentados - 2014', normed=1)\n",
    "plt.show()"
   ]
  },
  {
   "cell_type": "markdown",
   "metadata": {},
   "source": [
    "## Conclusão 6:\n",
    "\n",
    "Não existe tanta diferença na renda dos chefes aposentados entre homens e mulheres, concluindo que esse não deve ser um fator influente.\n",
    "\n",
    "Na comparação de renda dos aposentados contra os não aposentados, também não se ve muitas diferenças nos valores, concluindo também que a renda pode não ser um valor influente na liderança da família."
   ]
  },
  {
   "cell_type": "markdown",
   "metadata": {},
   "source": [
    "## Análise 7\n",
    "\n",
    "Nesta análise será possível observar a relação que se tem com o dinheiro recebido pela aposentadoria de cada um com a posição familiar. Vendo assim se existe relação na liderança com o dinheiro."
   ]
  },
  {
   "cell_type": "code",
   "execution_count": 259,
   "metadata": {
    "collapsed": true
   },
   "outputs": [],
   "source": [
    "pnad14_inss = pnad14[(pnad14.INSS!=999999999999)&(~pnad14.INSS.isnull())]"
   ]
  },
  {
   "cell_type": "code",
   "execution_count": 260,
   "metadata": {
    "collapsed": false
   },
   "outputs": [
    {
     "data": {
      "text/plain": [
       "count    38020.000000\n",
       "mean      1368.243766\n",
       "std       1781.906239\n",
       "min        610.000000\n",
       "25%        724.000000\n",
       "50%        724.000000\n",
       "75%       1300.000000\n",
       "max      36000.000000\n",
       "Name: INSS, dtype: float64"
      ]
     },
     "execution_count": 260,
     "metadata": {},
     "output_type": "execute_result"
    }
   ],
   "source": [
    "pnad14_inss.INSS.describe()"
   ]
  },
  {
   "cell_type": "code",
   "execution_count": 261,
   "metadata": {
    "collapsed": false
   },
   "outputs": [
    {
     "name": "stdout",
     "output_type": "stream",
     "text": [
      "181.49911276\n"
     ]
    }
   ],
   "source": [
    "quantidade_classes = np.sqrt(38020)\n",
    "delta = 36000-610\n",
    "\n",
    "amplitude_sugerida = delta/quantidade_classes\n",
    "print(amplitude_sugerida)"
   ]
  },
  {
   "cell_type": "code",
   "execution_count": 262,
   "metadata": {
    "collapsed": true
   },
   "outputs": [],
   "source": [
    "#Caso não goste do resultado\n",
    "amplitude_sugerida = 500\n",
    "faixa = np.arange(0,20000,amplitude_sugerida)"
   ]
  },
  {
   "cell_type": "code",
   "execution_count": 263,
   "metadata": {
    "collapsed": false
   },
   "outputs": [
    {
     "data": {
      "text/plain": [
       "(0, 500]          138942\n",
       "(500, 1000]       108973\n",
       "(1000, 1500]       43937\n",
       "(1500, 2000]       19521\n",
       "(2000, 2500]        9791\n",
       "(2500, 3000]        6241\n",
       "(3000, 3500]        4080\n",
       "(3500, 4000]        3184\n",
       "(4000, 4500]        1983\n",
       "(4500, 5000]        1835\n",
       "(5500, 6000]        1131\n",
       "(5000, 5500]        1106\n",
       "(6000, 6500]         735\n",
       "(6500, 7000]         728\n",
       "(7000, 7500]         517\n",
       "(7500, 8000]         397\n",
       "(9500, 10000]        353\n",
       "(8500, 9000]         344\n",
       "(8000, 8500]         325\n",
       "(9000, 9500]         186\n",
       "(10000, 10500]       156\n",
       "(11500, 12000]       148\n",
       "(10500, 11000]       131\n",
       "(12500, 13000]       116\n",
       "(12000, 12500]       109\n",
       "(14500, 15000]        97\n",
       "(11000, 11500]        86\n",
       "(13500, 14000]        70\n",
       "(13000, 13500]        64\n",
       "(15500, 16000]        50\n",
       "(16500, 17000]        43\n",
       "(14000, 14500]        42\n",
       "(15000, 15500]        42\n",
       "(17000, 17500]        26\n",
       "(16000, 16500]        24\n",
       "(17500, 18000]        23\n",
       "(18500, 19000]        22\n",
       "(18000, 18500]        17\n",
       "(19000, 19500]        15\n",
       "Name: renda, dtype: int64"
      ]
     },
     "execution_count": 263,
     "metadata": {},
     "output_type": "execute_result"
    }
   ],
   "source": [
    "varCat_renda = pd.cut(pnad14_renda.renda,faixa)\n",
    "varCat_renda.value_counts()"
   ]
  },
  {
   "cell_type": "code",
   "execution_count": 264,
   "metadata": {
    "collapsed": false
   },
   "outputs": [
    {
     "data": {
      "image/png": "[encoded data removed]",
      "text/plain": [
       "<matplotlib.figure.Figure at 0x124722cf8>"
      ]
     },
     "metadata": {},
     "output_type": "display_data"
    }
   ],
   "source": [
    "#Gráfico da diferença entre as rendas de homens e mulheres aposentados chefes de familia\n",
    "x = pnad14_inss[(pnad14_inss.idade>55)&(pnad14_inss.sexo=='Feminino')&(pnad14_inss.aposentado=='Sim')&(pnad14_inss.posicao_familiar=='Chefe')].idade\n",
    "y = pnad14_inss[(pnad14_inss.idade>55)&(pnad14_inss.sexo=='Feminino')&(pnad14_inss.aposentado=='Sim')&(pnad14_inss.posicao_familiar=='Chefe')].INSS\n",
    "plt.plot(x,y,'ro',label='INSS das mulheres chefes')\n",
    "plt.plot(pnad14_inss[(pnad14_inss.idade>55)&(pnad14_inss.sexo=='Feminino')&(pnad14_inss.aposentado=='Sim')&(pnad14_inss.posicao_familiar!='Chefe')].idade,pnad14_inss[(pnad14_inss.idade>55)&(pnad14_inss.sexo=='Feminino')&(pnad14_inss.aposentado=='Sim')&(pnad14_inss.posicao_familiar!='Chefe')].INSS,'ko',label='INSS de mulheres não chefes')\n",
    "plt.title('Valor da renda pelo INSS dos aposentados por suas idades')\n",
    "plt.xlabel('Idade')\n",
    "plt.ylabel('Valor da renda')\n",
    "plt.grid(True)\n",
    "plt.legend(bbox_to_anchor=(1.05,1),loc=2, borderaxespad=0)\n",
    "plt.show()"
   ]
  },
  {
   "cell_type": "code",
   "execution_count": 265,
   "metadata": {
    "collapsed": false
   },
   "outputs": [
    {
     "data": {
      "image/png": "[encoded data removed]",
      "text/plain": [
       "<matplotlib.figure.Figure at 0x124742978>"
      ]
     },
     "metadata": {},
     "output_type": "display_data"
    }
   ],
   "source": [
    "#Gráfico da diferença entre as rendas de homens e mulheres aposentados chefes de familia\n",
    "x = pnad14_inss[(pnad14_inss.idade>55)&(pnad14_inss.sexo=='Masculino')&(pnad14_inss.aposentado=='Sim')&(pnad14_inss.posicao_familiar=='Chefe')].idade\n",
    "y = pnad14_inss[(pnad14_inss.idade>55)&(pnad14_inss.sexo=='Masculino')&(pnad14_inss.aposentado=='Sim')&(pnad14_inss.posicao_familiar=='Chefe')].INSS\n",
    "plt.plot(x,y,'ro',label='INSS de homens chefes')\n",
    "plt.plot(pnad14_inss[(pnad14_inss.idade>55)&(pnad14_inss.sexo=='Masculino')&(pnad14_inss.aposentado=='Sim')&(pnad14_inss.posicao_familiar!='Chefe')].idade,pnad14_inss[(pnad14_inss.idade>55)&(pnad14_inss.sexo=='Masculino')&(pnad14_inss.aposentado=='Sim')&(pnad14_inss.posicao_familiar!='Chefe')].INSS,'ko',label='INSS de homens não chefes')\n",
    "plt.title('Valor da renda pelo INSS dos aposentados por suas idades')\n",
    "plt.xlabel('Idade')\n",
    "plt.ylabel('Valor da renda')\n",
    "plt.grid(True)\n",
    "plt.legend(bbox_to_anchor=(1.05,1),loc=2, borderaxespad=0)\n",
    "plt.show()"
   ]
  },
  {
   "cell_type": "code",
   "execution_count": 266,
   "metadata": {
    "collapsed": false
   },
   "outputs": [
    {
     "name": "stdout",
     "output_type": "stream",
     "text": [
      "Coeficiente angular a:  -7.33095774683\n",
      "Coeficiente linear b:  1862.33122955\n"
     ]
    },
    {
     "data": {
      "image/png": "[encoded data removed]",
      "text/plain": [
       "<matplotlib.figure.Figure at 0x11f189438>"
      ]
     },
     "metadata": {},
     "output_type": "display_data"
    }
   ],
   "source": [
    "def scatter_and_line(dataframe, column1, column2):\n",
    "    \"\"\" Recebe um dataframe e o nome de suas duas colunas, e faz\n",
    "        o scatterplot dos dois e tenta achar a reta de tendência\n",
    "    \"\"\"\n",
    "    a = dataframe[column1].cov(dataframe[column2]) / dataframe[column1].var()\n",
    "    b = dataframe[column2].mean() - a * dataframe[column1].mean()\n",
    "\n",
    "    dataframe.plot.scatter(x=column1, y=column2, color='#50D4FF',title=\"Idade pela renda do INSS\")\n",
    "\n",
    "    import matplotlib.pyplot as plt\n",
    "    plt.plot((dataframe[column1].min(), dataframe[column1].max()), (a * dataframe[column1].min() + b, a * dataframe[column1].max() + b), color='k')\n",
    "    \n",
    "    print(\"Coeficiente angular a: \", a)\n",
    "    print(\"Coeficiente linear b: \", b)\n",
    "    \n",
    "    \n",
    "scatter_and_line(pnad14_inss, \"idade\", \"INSS\")"
   ]
  },
  {
   "cell_type": "markdown",
   "metadata": {},
   "source": [
    "## Conclusão 7:\n",
    "\n",
    "Com esses gráficos é possível dizer que quanto maior a idade de uma pessoa, menor será o valor recebido pelo INSS por ela. Se essa pessoa for do sexo feminino, seu valor será ainda menor que o dos homens na mesma idade. Além disso, é possível perceber que no gráfico dos homens, os que são chefes tendem a ganhar mais que os homens não chefes. No gráfico das mulheres esta relação não acontece com tanta frequência.\n",
    "\n",
    "Pela linha de tendências no último gráfico, é possível perceber que num geral (homens e mulheres) tendem a ganhar menos conforme a idade cresce."
   ]
  },
  {
   "cell_type": "markdown",
   "metadata": {
    "collapsed": false
   },
   "source": [
    "___\n",
    "# Conclusão "
   ]
  },
  {
   "cell_type": "markdown",
   "metadata": {
    "collapsed": true
   },
   "source": [
    "### Depois de analisar diversas váriaveis das PNAD2011 e PNAD2014 pode chegar algumas conclusões:\n",
    "\n",
    "- Os aposentados podem ter menos importância nas grandes decisões de sua familias, já que, visto por vários pontos, a maioria da liderança é dada por pessoas não aposentadas, por volta dos 40 anos de idade.\n",
    "- Dos aposentados, é possível ver que vários são do sexo masculino, muito provavelmente por fatores históricos. Porém com a análise dos dados ao longo dos anos, essa tendência vem diminuindo, apesar de ser bem lenta. Concluindo assim que as visões e ideologias da sociedade vem mudando, tendendo para uma igualdade entre os sexos.\n",
    "- Observando as rendas, a conclusão é que elas não influênciam nas diferentes lideranças, já que ambos aposentados e não aposentados, chefes de família tem as representações gráficas muito parecidas, ou seja, os valores de renda não importam muito.\n",
    "- Dos valores arrecadados pela aposentadoria (obtidos pelo INSS), dos homens, há influencia na quantidade que ganham quando comparados com os chefes e não chefes. Já nas mulheres não há essa influência.\n",
    "\n",
    "### Finalizando:\n",
    "\n",
    "Os aposentados são um grupo de pessoas que historicamente não são tão privilegiados, e o fato de não serem os chefes de suas famílias, em muitos casos, pode fazer com que esse fator seja agravado.\n",
    "\n",
    "Já entre os aposentados homens e mulheres, há diferença na liderança por motivos históricos e ideologicos, como visto nos gráficos de regiões e até do estado civil, que diz se uma pessoa é ou não comprometida com outra. Mas ao mesmo tempo, como visto no gráfico de pizza, essa tendência esta sofrendo mudanças, fazendo as diferenças entre os sexos serem cada vez menores."
   ]
  }
 ],
 "metadata": {
  "anaconda-cloud": {},
  "kernelspec": {
   "display_name": "Python [Root]",
   "language": "python",
   "name": "Python [Root]"
  },
  "language_info": {
   "codemirror_mode": {
    "name": "ipython",
    "version": 3
   },
   "file_extension": ".py",
   "mimetype": "text/x-python",
   "name": "python",
   "nbconvert_exporter": "python",
   "pygments_lexer": "ipython3",
   "version": "3.5.2"
  }
 },
 "nbformat": 4,
 "nbformat_minor": 0
}
