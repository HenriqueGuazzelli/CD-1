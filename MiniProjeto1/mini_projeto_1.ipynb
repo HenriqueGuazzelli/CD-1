{
 "cells": [
  {
   "cell_type": "markdown",
   "metadata": {},
   "source": [
    "# Mini Projeto 1\n",
    "\n",
    "## André Ejzenmesser\n",
    "____"
   ]
  },
  {
   "cell_type": "markdown",
   "metadata": {},
   "source": [
    "## Peso do coração dos gatos\n",
    "\n",
    "Neste trabalho, deve ser estudado uma váriavel quantitativa, e no caso, a váriavel escolhida é o peso do coração dos gatos"
   ]
  },
  {
   "cell_type": "code",
   "execution_count": 88,
   "metadata": {
    "collapsed": true
   },
   "outputs": [],
   "source": [
    "%matplotlib inline\n",
    "import pandas as pd\n",
    "import matplotlib.pyplot as plt\n",
    "import numpy as np\n",
    "import os\n",
    "from scipy import stats"
   ]
  },
  {
   "cell_type": "code",
   "execution_count": 89,
   "metadata": {
    "collapsed": false
   },
   "outputs": [
    {
     "name": "stdout",
     "output_type": "stream",
     "text": [
      "Esperamos trabalhar no diretório\n",
      "/Users/AndreEjz/Desktop/CD/MiniProjeto1\n"
     ]
    }
   ],
   "source": [
    "print('Esperamos trabalhar no diretório')\n",
    "print(os.getcwd())"
   ]
  },
  {
   "cell_type": "code",
   "execution_count": 90,
   "metadata": {
    "collapsed": false
   },
   "outputs": [],
   "source": [
    "#Importando a base de dados dos gatos\n",
    "importando = pd.read_csv(\"cats.csv\", sep=\",\")"
   ]
  },
  {
   "cell_type": "code",
   "execution_count": 91,
   "metadata": {
    "collapsed": false
   },
   "outputs": [],
   "source": [
    "gato = pd.DataFrame()"
   ]
  },
  {
   "cell_type": "markdown",
   "metadata": {},
   "source": [
    "___\n",
    "## Itens 1-4"
   ]
  },
  {
   "cell_type": "code",
   "execution_count": 92,
   "metadata": {
    "collapsed": false
   },
   "outputs": [
    {
     "data": {
      "text/html": [
       "<div>\n",
       "<table border=\"1\" class=\"dataframe\">\n",
       "  <thead>\n",
       "    <tr style=\"text-align: right;\">\n",
       "      <th></th>\n",
       "      <th>sexo</th>\n",
       "      <th>coracao</th>\n",
       "    </tr>\n",
       "  </thead>\n",
       "  <tbody>\n",
       "    <tr>\n",
       "      <th>0</th>\n",
       "      <td>F</td>\n",
       "      <td>7.0</td>\n",
       "    </tr>\n",
       "    <tr>\n",
       "      <th>1</th>\n",
       "      <td>F</td>\n",
       "      <td>7.4</td>\n",
       "    </tr>\n",
       "    <tr>\n",
       "      <th>2</th>\n",
       "      <td>F</td>\n",
       "      <td>9.5</td>\n",
       "    </tr>\n",
       "    <tr>\n",
       "      <th>3</th>\n",
       "      <td>F</td>\n",
       "      <td>7.2</td>\n",
       "    </tr>\n",
       "    <tr>\n",
       "      <th>4</th>\n",
       "      <td>F</td>\n",
       "      <td>7.3</td>\n",
       "    </tr>\n",
       "    <tr>\n",
       "      <th>5</th>\n",
       "      <td>F</td>\n",
       "      <td>7.6</td>\n",
       "    </tr>\n",
       "    <tr>\n",
       "      <th>6</th>\n",
       "      <td>F</td>\n",
       "      <td>8.1</td>\n",
       "    </tr>\n",
       "    <tr>\n",
       "      <th>7</th>\n",
       "      <td>F</td>\n",
       "      <td>8.2</td>\n",
       "    </tr>\n",
       "    <tr>\n",
       "      <th>8</th>\n",
       "      <td>F</td>\n",
       "      <td>8.3</td>\n",
       "    </tr>\n",
       "    <tr>\n",
       "      <th>9</th>\n",
       "      <td>F</td>\n",
       "      <td>8.5</td>\n",
       "    </tr>\n",
       "    <tr>\n",
       "      <th>10</th>\n",
       "      <td>F</td>\n",
       "      <td>8.7</td>\n",
       "    </tr>\n",
       "    <tr>\n",
       "      <th>11</th>\n",
       "      <td>F</td>\n",
       "      <td>9.8</td>\n",
       "    </tr>\n",
       "    <tr>\n",
       "      <th>12</th>\n",
       "      <td>F</td>\n",
       "      <td>7.1</td>\n",
       "    </tr>\n",
       "    <tr>\n",
       "      <th>13</th>\n",
       "      <td>F</td>\n",
       "      <td>8.7</td>\n",
       "    </tr>\n",
       "    <tr>\n",
       "      <th>14</th>\n",
       "      <td>F</td>\n",
       "      <td>9.1</td>\n",
       "    </tr>\n",
       "  </tbody>\n",
       "</table>\n",
       "</div>"
      ],
      "text/plain": [
       "   sexo  coracao\n",
       "0     F      7.0\n",
       "1     F      7.4\n",
       "2     F      9.5\n",
       "3     F      7.2\n",
       "4     F      7.3\n",
       "5     F      7.6\n",
       "6     F      8.1\n",
       "7     F      8.2\n",
       "8     F      8.3\n",
       "9     F      8.5\n",
       "10    F      8.7\n",
       "11    F      9.8\n",
       "12    F      7.1\n",
       "13    F      8.7\n",
       "14    F      9.1"
      ]
     },
     "execution_count": 92,
     "metadata": {},
     "output_type": "execute_result"
    }
   ],
   "source": [
    "gato['sexo'] = importando.Sex\n",
    "gato['coracao'] = importando.Hwt\n",
    "gato.head(15)"
   ]
  },
  {
   "cell_type": "code",
   "execution_count": 102,
   "metadata": {
    "collapsed": true
   },
   "outputs": [],
   "source": [
    "pesos = []\n",
    "for i in gato.coracao:\n",
    "    pesos.append(i)\n",
    "    \n",
    "pesos.sort()"
   ]
  },
  {
   "cell_type": "code",
   "execution_count": 93,
   "metadata": {
    "collapsed": false
   },
   "outputs": [
    {
     "data": {
      "text/html": [
       "<div>\n",
       "<table border=\"1\" class=\"dataframe\">\n",
       "  <thead>\n",
       "    <tr style=\"text-align: right;\">\n",
       "      <th></th>\n",
       "      <th>coracao</th>\n",
       "    </tr>\n",
       "  </thead>\n",
       "  <tbody>\n",
       "    <tr>\n",
       "      <th>count</th>\n",
       "      <td>144.000000</td>\n",
       "    </tr>\n",
       "    <tr>\n",
       "      <th>mean</th>\n",
       "      <td>10.630556</td>\n",
       "    </tr>\n",
       "    <tr>\n",
       "      <th>std</th>\n",
       "      <td>2.434636</td>\n",
       "    </tr>\n",
       "    <tr>\n",
       "      <th>min</th>\n",
       "      <td>6.300000</td>\n",
       "    </tr>\n",
       "    <tr>\n",
       "      <th>25%</th>\n",
       "      <td>8.950000</td>\n",
       "    </tr>\n",
       "    <tr>\n",
       "      <th>50%</th>\n",
       "      <td>10.100000</td>\n",
       "    </tr>\n",
       "    <tr>\n",
       "      <th>75%</th>\n",
       "      <td>12.125000</td>\n",
       "    </tr>\n",
       "    <tr>\n",
       "      <th>max</th>\n",
       "      <td>20.500000</td>\n",
       "    </tr>\n",
       "  </tbody>\n",
       "</table>\n",
       "</div>"
      ],
      "text/plain": [
       "          coracao\n",
       "count  144.000000\n",
       "mean    10.630556\n",
       "std      2.434636\n",
       "min      6.300000\n",
       "25%      8.950000\n",
       "50%     10.100000\n",
       "75%     12.125000\n",
       "max     20.500000"
      ]
     },
     "execution_count": 93,
     "metadata": {},
     "output_type": "execute_result"
    }
   ],
   "source": [
    "gato.describe()"
   ]
  },
  {
   "cell_type": "code",
   "execution_count": 94,
   "metadata": {
    "collapsed": false
   },
   "outputs": [
    {
     "name": "stdout",
     "output_type": "stream",
     "text": [
      "1.18333333333\n"
     ]
    }
   ],
   "source": [
    "delta_i = (gato.coracao.max()-gato.coracao.min())/np.sqrt(144)\n",
    "\n",
    "print(delta_i)"
   ]
  },
  {
   "cell_type": "code",
   "execution_count": 95,
   "metadata": {
    "collapsed": true
   },
   "outputs": [],
   "source": [
    "#Aredondando o valor do delta\n",
    "delta_i = 1.3"
   ]
  },
  {
   "cell_type": "code",
   "execution_count": 96,
   "metadata": {
    "collapsed": true
   },
   "outputs": [],
   "source": [
    "faixa = np.arange(6,22,delta_i)"
   ]
  },
  {
   "cell_type": "code",
   "execution_count": 97,
   "metadata": {
    "collapsed": false
   },
   "outputs": [
    {
     "data": {
      "text/plain": [
       "(9.9, 11.2]     32\n",
       "(8.6, 9.9]      32\n",
       "(11.2, 12.5]    22\n",
       "(7.3, 8.6]      19\n",
       "(12.5, 13.8]    14\n",
       "(6, 7.3]        10\n",
       "(13.8, 15.1]     9\n",
       "(15.1, 16.4]     3\n",
       "(16.4, 17.7]     2\n",
       "(20.3, 21.6]     1\n",
       "(19, 20.3]       0\n",
       "(17.7, 19]       0\n",
       "Name: coracao, dtype: int64"
      ]
     },
     "execution_count": 97,
     "metadata": {},
     "output_type": "execute_result"
    }
   ],
   "source": [
    "faixa_peso = pd.cut(gato.coracao,faixa)\n",
    "faixa_peso.value_counts()"
   ]
  },
  {
   "cell_type": "code",
   "execution_count": 122,
   "metadata": {
    "collapsed": false
   },
   "outputs": [],
   "source": [
    "pesos = pd.Series(data=sorted(gato.coracao))"
   ]
  },
  {
   "cell_type": "code",
   "execution_count": 120,
   "metadata": {
    "collapsed": false,
    "scrolled": true
   },
   "outputs": [
    {
     "ename": "TypeError",
     "evalue": "__init__() got an unexpected keyword argument 'kind'",
     "output_type": "error",
     "traceback": [
      "\u001b[0;31m---------------------------------------------------------------------------\u001b[0m",
      "\u001b[0;31mTypeError\u001b[0m                                 Traceback (most recent call last)",
      "\u001b[0;32m<ipython-input-120-22138e667bf2>\u001b[0m in \u001b[0;36m<module>\u001b[0;34m()\u001b[0m\n\u001b[0;32m----> 1\u001b[0;31m \u001b[0mpd\u001b[0m\u001b[0;34m.\u001b[0m\u001b[0mDataFrame\u001b[0m\u001b[0;34m.\u001b[0m\u001b[0mplot\u001b[0m\u001b[0;34m(\u001b[0m\u001b[0mkind\u001b[0m\u001b[0;34m=\u001b[0m\u001b[0;34m'hist'\u001b[0m\u001b[0;34m,\u001b[0m \u001b[0mdata\u001b[0m\u001b[0;34m=\u001b[0m\u001b[0mpesos\u001b[0m\u001b[0;34m,\u001b[0m \u001b[0mbins\u001b[0m\u001b[0;34m=\u001b[0m\u001b[0mfaixa\u001b[0m\u001b[0;34m,\u001b[0m \u001b[0mnormed\u001b[0m\u001b[0;34m=\u001b[0m\u001b[0;32mTrue\u001b[0m\u001b[0;34m,\u001b[0m \u001b[0mlegend\u001b[0m\u001b[0;34m=\u001b[0m\u001b[0;32mFalse\u001b[0m\u001b[0;34m)\u001b[0m\u001b[0;34m\u001b[0m\u001b[0m\n\u001b[0m",
      "\u001b[0;31mTypeError\u001b[0m: __init__() got an unexpected keyword argument 'kind'"
     ]
    }
   ],
   "source": [
    "pd.DataFrame.plot(kind='hist', data=pesos, bins=faixa, normed=True, legend=False)"
   ]
  },
  {
   "cell_type": "code",
   "execution_count": 100,
   "metadata": {
    "collapsed": false
   },
   "outputs": [
    {
     "data": {
      "image/png": "[encoded data removed]",
      "text/plain": [
       "<matplotlib.figure.Figure at 0x11e0514e0>"
      ]
     },
     "metadata": {},
     "output_type": "display_data"
    }
   ],
   "source": [
    "plot = gato.coracao.plot.hist(bins=faixa,title='Histograma - Peso do Coração de um gato',normed=True)"
   ]
  },
  {
   "cell_type": "markdown",
   "metadata": {},
   "source": [
    "## Item 4\n",
    "\n",
    "O histograma tem um comportamento de uma leve assimetria positiva pois,observando o histograma, é possível dizer que a mediana esta mais a direita que a média de todos os valores.\n",
    "\n",
    "### Distribuições Teóricas\n",
    "#### Primeira\n",
    "   A primeira distribuição que descreve o comportamento do histograma é a <font color='red'>NORMAL</font> pois apesar de ter um ponto que distorce um pouco a curva, todo o resto dos valores se comportam com valores bem parecido com o de uma normal.\n",
    "   <img src=\"normal.png\">\n",
    "#### Segunda\n",
    "   A segunda distribuição que descreve o comportamento do histograma é a <font color='red'>GAMA</font> pois seu comportamento também é bem parecido com a do histograma, porém ela no começo sobe até o valor máximo e depois desce e vai ganhando um comportamento tendendo a zero, e podendo se igualar a zero.\n",
    "   <img src=\"gama.png\">"
   ]
  },
  {
   "cell_type": "markdown",
   "metadata": {
    "collapsed": true
   },
   "source": [
    "___\n",
    "## Itens 5-11"
   ]
  },
  {
   "cell_type": "markdown",
   "metadata": {},
   "source": [
    "### Item 5"
   ]
  },
  {
   "cell_type": "markdown",
   "metadata": {},
   "source": [
    "Caso seja a função normal, os valores dos parâmetros serão algo próximo de 10 que é onde a média deve estar e o outro parâmetro será o desvio padrão calculado, elevado ao quadrado, resultando assim na variância.\n",
    "\n",
    "Caso seja a função gama, os valores dos parâmetros serão os de inclinação e o formato da função, para estimar eles, é necessário utilizar (suponde que os parametros sejam a e b) a*b=média\n",
    "\n",
    "Supondo que a = 1,1"
   ]
  },
  {
   "cell_type": "code",
   "execution_count": 104,
   "metadata": {
    "collapsed": false
   },
   "outputs": [
    {
     "name": "stdout",
     "output_type": "stream",
     "text": [
      "Média: 10.6305555556 \n",
      "Variância: 5.88628858025\n"
     ]
    }
   ],
   "source": [
    "#Função normal\n",
    "media = sum(pesos)/len(pesos)\n",
    "\n",
    "#Calculando a variância\n",
    "soma = 0\n",
    "for i in pesos:\n",
    "    soma+=(i-media)**2\n",
    "n = len(pesos)\n",
    "variancia = soma/n\n",
    "print('Média:',media,'\\nVariância:',variancia)"
   ]
  },
  {
   "cell_type": "code",
   "execution_count": 105,
   "metadata": {
    "collapsed": false
   },
   "outputs": [
    {
     "name": "stdout",
     "output_type": "stream",
     "text": [
      "9.66414141414\n"
     ]
    }
   ],
   "source": [
    "#Função gama\n",
    "# k para a gamma é escolhido entre 1 e 2 baseado na forma do histograma e no efeito que k tem na forma da gamma\n",
    "a = 1.1\n",
    "\n",
    "# Estimamos theta da distribuição gamma\n",
    "b = media/a\n",
    "\n",
    "print(b)"
   ]
  },
  {
   "cell_type": "markdown",
   "metadata": {},
   "source": [
    "___\n",
    "### Item 6"
   ]
  },
  {
   "cell_type": "markdown",
   "metadata": {},
   "source": [
    "#### Para a curva normal:"
   ]
  },
  {
   "cell_type": "code",
   "execution_count": 108,
   "metadata": {
    "collapsed": false
   },
   "outputs": [
    {
     "data": {
      "text/plain": [
       "(10.630555555555553, 2.4261674674776499)"
      ]
     },
     "execution_count": 108,
     "metadata": {},
     "output_type": "execute_result"
    }
   ],
   "source": [
    "param_normal = stats.norm.fit(pesos)\n",
    "param_normal"
   ]
  },
  {
   "cell_type": "markdown",
   "metadata": {},
   "source": [
    "#### Para a curva gama:"
   ]
  },
  {
   "cell_type": "code",
   "execution_count": 109,
   "metadata": {
    "collapsed": false
   },
   "outputs": [
    {
     "data": {
      "text/plain": [
       "(5.1257827238483387, 5.0996000722441401, 1.0790468867010226)"
      ]
     },
     "execution_count": 109,
     "metadata": {},
     "output_type": "execute_result"
    }
   ],
   "source": [
    "param_gama = stats.gamma.fit(pesos)\n",
    "param_gama"
   ]
  },
  {
   "cell_type": "markdown",
   "metadata": {},
   "source": [
    "___\n",
    "### Item 7\n",
    "\n",
    "Usando os valores obido no item 6"
   ]
  },
  {
   "cell_type": "code",
   "execution_count": 54,
   "metadata": {
    "collapsed": false
   },
   "outputs": [
    {
     "data": {
      "text/plain": [
       "<matplotlib.legend.Legend at 0x11dabdef0>"
      ]
     },
     "execution_count": 54,
     "metadata": {},
     "output_type": "execute_result"
    },
    {
     "data": {
      "image/png": "[encoded data removed]",
      "text/plain": [
       "<matplotlib.figure.Figure at 0x11d874dd8>"
      ]
     },
     "metadata": {},
     "output_type": "display_data"
    }
   ],
   "source": [
    "x = np.linspace(5, 25, 10000)\n",
    "\n",
    "gato.coracao.plot.hist(bins=faixa,title='Histograma - Peso do Coração de um gato',normed=True)\n",
    "normal = stats.norm.pdf(x, scale=param_normal[0])\n",
    "gamma = stats.gamma.pdf(x, scale=param_gama[2], loc=6, a=param_gama[1])\n",
    "\n",
    "\n",
    "plt.plot(x, gamma, '-', color='green', label=\"Gamma\") # Plota a gamma teórica\n",
    "plt.plot(x, normal, '-', color='red', label=\"Normal\") # Plota a normal teórica\n",
    "\n",
    "plt.legend()\n",
    "\n",
    "\n"
   ]
  },
  {
   "cell_type": "markdown",
   "metadata": {},
   "source": [
    "___\n",
    "### Item 8"
   ]
  },
  {
   "cell_type": "code",
   "execution_count": 110,
   "metadata": {
    "collapsed": false
   },
   "outputs": [
    {
     "data": {
      "image/png": "[encoded data removed]",
      "text/plain": [
       "<matplotlib.figure.Figure at 0x11e3dc588>"
      ]
     },
     "metadata": {},
     "output_type": "display_data"
    }
   ],
   "source": [
    "fra = [] # frequencia relativa acumulada\n",
    "for i in range(len(pesos)):\n",
    "    acc = (i - 0.5) / len(pesos)\n",
    "    if acc < 0:\n",
    "        acc = 0\n",
    "    fra.append(acc)\n",
    "\n",
    "# Convertemos fra em uma Series do Pandas\n",
    "fra = pd.Series(data=fra)\n",
    "\n",
    "# Gera os valores dos quantis teóricos para as distribuições analisadas\n",
    "q_norm = stats.expon.ppf(fra, scale=media) # quantis teóricos da exponencial\n",
    "q_gamma = stats.gamma.ppf(fra, scale=param_gama[2], loc=6, a=param_gama[1])\n",
    "\n",
    "\n",
    "fig = plt.figure(figsize=(12,8))\n",
    "\n",
    "plt.title(\"Q-Q plot: Dados x Normal x Gamma\")\n",
    "\n",
    "norm_plot, = plt.plot(pesos, q_norm, 'o', color=\"red\", label=\"Normal\")\n",
    "gamma_plot, = plt.plot(pesos, q_gamma, 'o', color=\"green\", label = \"Gamma\")\n",
    "\n",
    "plt.legend(handles=[norm_plot, gamma_plot])\n",
    "plt.plot((min(pesos), max(pesos)), (min(pesos), max(pesos)), '-')\n",
    "\n",
    "\n",
    "for i in range(len(gato.coracao)):\n",
    "    plt.plot((pesos[i], pesos[i]), (q_norm[i], pesos[i]), '-', color='red', alpha=0.3  )\n",
    "    plt.plot((pesos[i], pesos[i]), (q_gamma[i], pesos[i]), '-', color='green', alpha=0.3  )\n",
    "\n",
    "\n"
   ]
  },
  {
   "cell_type": "markdown",
   "metadata": {},
   "source": [
    "Esse gráfico mostra a diferença entre os quantis teóricos e os dados reais da distribuição analisada. Quanto mais distante o ponto estiver da reta real (reta azul no caso), mais distante estará a realidade do teórico."
   ]
  },
  {
   "cell_type": "markdown",
   "metadata": {},
   "source": [
    "##### Teste de aderência:"
   ]
  },
  {
   "cell_type": "code",
   "execution_count": 114,
   "metadata": {
    "collapsed": false
   },
   "outputs": [
    {
     "name": "stdout",
     "output_type": "stream",
     "text": [
      "Erro quadrático da normal: 7714.114\n",
      "Erro quadrático da gamma: 95.132\n",
      "\n",
      "Erro quadratico médio da normal: 53.5702328991\n",
      "Erro quadratico médio da gamma: 0.660637562026\n"
     ]
    }
   ],
   "source": [
    "#Erro quadrático:\n",
    "erro_quadratico_normal = sum((pesos - q_norm)**2)\n",
    "erro_quadratico_gamma = sum((pesos - q_gamma)**2)\n",
    "\n",
    "print(\"Erro quadrático da normal: {:4.3f}\".format(erro_quadratico_normal))\n",
    "print(\"Erro quadrático da gamma: {:4.3f}\\n\".format(erro_quadratico_gamma))\n",
    "\n",
    "#Erro quadrático médio:\n",
    "eqm_norm = erro_quadratico_normal/len(pesos)\n",
    "eqm_gamma = erro_quadratico_gamma/len(pesos)\n",
    "\n",
    "print(\"Erro quadratico médio da normal:\", eqm_norm)\n",
    "print(\"Erro quadratico médio da gamma:\", eqm_gamma)"
   ]
  },
  {
   "cell_type": "markdown",
   "metadata": {},
   "source": [
    "De acordo com os dados analisados, fica claro que a diferença entre os dados e valores teróricos é menor quando se trata da curva de gamma. Com isso, é possível concluir que a curva gamma tem um comportamento mais adequado que a curva normal, neste caso. Ou seja, gamma tem mais aderência que a normal.\n",
    "\n",
    "Para fazer a confirmação será usado também o método de soma de diferenças, visto a seguir:"
   ]
  },
  {
   "cell_type": "code",
   "execution_count": 116,
   "metadata": {
    "collapsed": false
   },
   "outputs": [
    {
     "name": "stdout",
     "output_type": "stream",
     "text": [
      "Soma de diferenças da normal : 814.971881497\n",
      "Soma de diferenças da gamma : 115.198642024\n"
     ]
    }
   ],
   "source": [
    "soma_diferenças_normal = sum(abs(pesos - q_norm))\n",
    "soma_diferenças_gamma = sum(abs(pesos - q_gamma))\n",
    "\n",
    "print(\"Soma de diferenças da normal :\", soma_diferenças_normal)\n",
    "print(\"Soma de diferenças da gamma :\", soma_diferenças_gamma)"
   ]
  },
  {
   "cell_type": "markdown",
   "metadata": {},
   "source": [
    "Com o novo teste, ainda é possível perceber que a curva de gamma continua tendo mais aderência que a curva da normal."
   ]
  },
  {
   "cell_type": "markdown",
   "metadata": {},
   "source": [
    "___\n",
    "### Item 9"
   ]
  },
  {
   "cell_type": "code",
   "execution_count": 117,
   "metadata": {
    "collapsed": false
   },
   "outputs": [
    {
     "data": {
      "image/png": "[encoded data removed]",
      "text/plain": [
       "<matplotlib.figure.Figure at 0x11ed89978>"
      ]
     },
     "metadata": {},
     "output_type": "display_data"
    }
   ],
   "source": [
    "# fra e FDA\n",
    "cdf_normal = stats.norm.cdf(pesos, scale=media) #FDA\n",
    "cdf_gamma = stats.gamma.cdf(pesos, scale=param_gama[2], loc=6, a=param_gama[1])\n",
    "\n",
    "\n",
    "fig = plt.figure(figsize=(12,8))\n",
    "\n",
    "plt.title(\"Cumulativa: Dados x Normal x Gamma\")\n",
    "\n",
    "dados_fra_plot, = plt.plot(pesos, fra, '-', color='black', label=\"F.R.A dos dados\")\n",
    "cdf_norm_plot,   = plt.plot(pesos, cdf_normal, '-', color='red', label = \"Cumulativa da normal\")\n",
    "cdf_gamma_plot, = plt.plot(pesos, cdf_gamma, '-', color='green', label = \"Cumulativa da distribuição Gamma\")\n",
    "\n",
    "plt.legend(handles=[dados_fra_plot, cdf_norm_plot, cdf_gamma_plot])\n",
    "\n",
    "\n",
    "for i in range(len(gato.coracao)):\n",
    "    plt.plot((pesos[i], pesos[i]), (fra[i], cdf_normal[i]), ':', color=\"red\", alpha=0.3)   \n",
    "    plt.plot((pesos[i], pesos[i]), (fra[i], cdf_gamma[i]), '--', color=\"green\", alpha=0.3)\n",
    "    "
   ]
  },
  {
   "cell_type": "markdown",
   "metadata": {},
   "source": [
    "___\n",
    "### Item 10"
   ]
  },
  {
   "cell_type": "code",
   "execution_count": 123,
   "metadata": {
    "collapsed": false
   },
   "outputs": [
    {
     "name": "stdout",
     "output_type": "stream",
     "text": [
      "Erro quadrático da CDF da Normal versus F.R.A 25.0283159922\n",
      "Erro quadrático da CDF da Gamma versus F.R.A 1.68614934351\n"
     ]
    }
   ],
   "source": [
    "# Erro quadrático nas CDFs\n",
    "erro_quad_cdf_normal = sum((fra - cdf_normal)**2)\n",
    "\n",
    "erro_quad_cdf_gamma = sum((fra - cdf_gamma)**2)\n",
    "\n",
    "print(\"Erro quadrático da CDF da Normal versus F.R.A\", erro_quad_cdf_normal)\n",
    "print(\"Erro quadrático da CDF da Gamma versus F.R.A\", erro_quad_cdf_gamma)"
   ]
  },
  {
   "cell_type": "markdown",
   "metadata": {},
   "source": [
    "Pelos dados observados, é possível concluir que como o erro quadrático é menor no caso gamma, ela então, é portanto a que oferece o melhor ajuste."
   ]
  },
  {
   "cell_type": "code",
   "execution_count": 127,
   "metadata": {
    "collapsed": false
   },
   "outputs": [
    {
     "name": "stdout",
     "output_type": "stream",
     "text": [
      "Teste K-S para a normal com μ= 10.63: 0.728\n",
      "Teste K-S para a gamma com scale=1.079, loc=6 e a=5.100: 0.185:\n"
     ]
    }
   ],
   "source": [
    "# Kolmogorov-Smirnov goodness-of-fit test\n",
    "ks_aderencia_norm = max(abs(fra-cdf_normal))\n",
    "ks_aderencia_gamma = max(abs(fra-cdf_gamma))\n",
    "\n",
    "\n",
    "print(\"Teste K-S para a normal com μ= {:4.2f}: {:4.3f}\\n\\\n",
    "Teste K-S para a gamma com scale={:4.3f}, loc=6 e a={:4.3f}: {:4.3f}:\".format(media, ks_aderencia_norm, param_gama[2], param_gama[1], ks_aderencia_gamma))"
   ]
  },
  {
   "cell_type": "markdown",
   "metadata": {},
   "source": []
  }
 ],
 "metadata": {
  "anaconda-cloud": {},
  "kernelspec": {
   "display_name": "Python [Root]",
   "language": "python",
   "name": "Python [Root]"
  },
  "language_info": {
   "codemirror_mode": {
    "name": "ipython",
    "version": 3
   },
   "file_extension": ".py",
   "mimetype": "text/x-python",
   "name": "python",
   "nbconvert_exporter": "python",
   "pygments_lexer": "ipython3",
   "version": "3.5.2"
  }
 },
 "nbformat": 4,
 "nbformat_minor": 0
}
