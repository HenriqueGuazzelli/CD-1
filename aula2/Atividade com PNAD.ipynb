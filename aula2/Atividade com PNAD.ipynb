{
 "cells": [
  {
   "cell_type": "markdown",
   "metadata": {},
   "source": [
    "___\n",
    "# Atividade: Variáveis qualitativas com a PNAD (ALUNOS)\n",
    "___\n",
    "\n",
    "## Aula 02\n",
    "\n",
    "\n",
    "**Link úteis:**\n",
    "1.\tLeitura prévia necessária: Magalhães e Lima (7ª. Edição): pág. 9 a 16 – destacando para variáveis qualitativas.\n",
    "2.\t10 Minutes to Pandas: http://pandas.pydata.org/pandas-docs/stable/10min.html\n",
    "3.\tEssential Basic Functionality: http://pandas.pydata.org/pandas-docs/stable/basics.html\n",
    "4.  Estude a aula `Aula02 Análise Exploratoria Variáveis Qualitativas-ALUNOS.ipynb`, o qual contém uma introdução ao Jupyter Notebook. A publicação dessa aula tem como objetivo auxiliá-lo, caso queira, no desenvolvimento dos seus próximos programas, como esta atividade.\n",
    "\n",
    "**Hoje:**\n",
    "1.\tAnalisar variáveis qualitativas de forma uni e bivariadas utilizando tabelas de frequências e gráficos de barras e de pizza (ou setor).\n",
    "2.  Trabalhar com a base de dados da PNAD 2013 - Pesquisa Nacional por Amostra de Domicílios\n",
    "\n",
    "**Próxima aula:**\n",
    "1.\tLeitura prévia necessária: Magalhães e Lima (7ª. Edição): pág. 9 a 17 – destacando para variáveis quantitativas; pág. 106 e 107 (Definição 4.1 e Exemplo 4.1).\n",
    "\n",
    "___\n"
   ]
  },
  {
   "cell_type": "markdown",
   "metadata": {},
   "source": [
    "___\n",
    "## <font color='blue'>PNAD 2013 – PESQUISA NACIONAL POR AMOSTRA DE DOMICÍLIOS</font>\n",
    "\n",
    "**Base de dados reduzida: ** `pes2013A.txt` (75 MB)\n",
    "[Acesse a base de dados aqui: https://dl.dropboxusercontent.com/u/65763596/Aula02/pes2013A.txt] \n",
    "\n",
    "**Dicionário das variáveis: ** `Dicionário de variáveis de pessoas - PNAD 2013.xlsx`\n",
    "[Acesse dicionário aqui: https://dl.dropboxusercontent.com/u/65763596/Aula02/Dicion%C3%A1rio%20de%20vari%C3%A1veis%20de%20pessoas%20-%20PNAD%202013.xls]\n",
    "\n",
    "\n",
    "Muitos especialistas na área de negócios dizem que empresários mais bem sucedidos são aqueles que fazem um planejamento antes de começar seu próprio negócio. Nessa visão, imagine que o Sr. Gold tenha como grande objetivo abrir uma nova faculdade e para isso deseja estudar o perfil do estudante que cursa ensino médio ou pré-vestibular e do que cursa ensino superior. \n",
    "\n",
    "Assuma que as variáveis de interesse a respeito dos estudantes sejam relativamente as mesmas de 2013 até o momento atual. Nesse caso, seja criativo para ajudar o Sr. Gold que deseja abrir seu negócio, mas não tem certeza sobre quais variáveis o interessam. \n",
    "\n",
    "Vocês podem ajudá-lo?!  \n",
    "\n",
    "As variáveis a seguir devem fazer parte da sua análise:\n",
    "\n",
    "* V0302: sexo\n",
    "* V0404: cor ou raça\n",
    "* V6002: rede de ensino\n",
    "* V4802: nível de ensino e grupos de séries do ensino fundamental que frequentavam (todos os estudantes)\n",
    "\n",
    "** Crie uma variável com região do indivíduo amostrado considerando a variável `UF` que define o estado e também trabalhe com essa nova variável em suas análises. ** \n",
    "\n",
    "** Escolha mais pelo menos DUAS variáveis qualitativas para completar sua análise!! **\n",
    "\n",
    "Faça uma análise exploratória apenas com as variáveis qualitativas com foco no objetivo do Sr. Gold.\n",
    "\n",
    "Sua análise deve conter pelo menos uma das seguintes visualizações:\n",
    "\n",
    "1. Gráfico de colunas (bar) e setor (pie) com as frequências relativas cadas categorias das variáveis qualitativas.\n",
    "2. Tabela cruzada entre pares de variaveis qualitativas. Montar o gráfico de colunas. Repetir o processo habilitando a opção \"stacked=True\".\n",
    "\n",
    "\n",
    "___\n",
    "\n",
    "\n",
    "<font color='red'>\n",
    "Crie um repositório chamado CD em seu Github\n",
    "</font>\n",
    "\n",
    "\n",
    "Neste repositório, salve seu trabalho numa pasta chamada aula2\n",
    "\n",
    "Por exemplo, se seu login for *pikachu* o projeto vai estar na pasta:\n",
    "\n",
    "https://github.com/<font color=red>pikachu/CD/aula2</font>\n",
    "\n",
    "\n",
    "\n",
    "## <font color='red'>Terça-feira (dia 16/08), no horário de atendimento da sua turma, deverá apresentar aos NINJAS!!</font>\n",
    "___"
   ]
  },
  {
   "cell_type": "code",
   "execution_count": 5,
   "metadata": {
    "collapsed": false
   },
   "outputs": [],
   "source": [
    "%matplotlib inline\n",
    "import pandas as pd\n",
    "import matplotlib.pyplot as plt\n",
    "import os"
   ]
  },
  {
   "cell_type": "code",
   "execution_count": 6,
   "metadata": {
    "collapsed": false
   },
   "outputs": [
    {
     "name": "stdout",
     "output_type": "stream",
     "text": [
      "Esperamos trabalhar no diretório\n",
      "/Users/AndreEjz/Documents/Insper/2º Semestre/Ciência dos Dados/Aula 1\n"
     ]
    }
   ],
   "source": [
    "print('Esperamos trabalhar no diretório')\n",
    "print(os.getcwd())"
   ]
  },
  {
   "cell_type": "code",
   "execution_count": 9,
   "metadata": {
    "collapsed": false
   },
   "outputs": [],
   "source": [
    "dados = pd.read_excel('PNAD2013.xlsx')\n",
    "\n",
    "#Criar uma base de dados menor pra facilitar\n",
    "D = pd.DataFrame()"
   ]
  },
  {
   "cell_type": "code",
   "execution_count": 255,
   "metadata": {
    "collapsed": false
   },
   "outputs": [
    {
     "data": {
      "text/html": [
       "<div>\n",
       "<table border=\"1\" class=\"dataframe\">\n",
       "  <thead>\n",
       "    <tr style=\"text-align: right;\">\n",
       "      <th></th>\n",
       "      <th>V0101</th>\n",
       "      <th>UF</th>\n",
       "      <th>V0102</th>\n",
       "      <th>V0103</th>\n",
       "      <th>V0301</th>\n",
       "      <th>V0302</th>\n",
       "      <th>V8005</th>\n",
       "      <th>V0404</th>\n",
       "      <th>V4011</th>\n",
       "      <th>V0412</th>\n",
       "      <th>...</th>\n",
       "      <th>V4706</th>\n",
       "      <th>V4707</th>\n",
       "      <th>V4809</th>\n",
       "      <th>V4810</th>\n",
       "      <th>V4711</th>\n",
       "      <th>V4718</th>\n",
       "      <th>V4720</th>\n",
       "      <th>V4742</th>\n",
       "      <th>V4750</th>\n",
       "      <th>V4729</th>\n",
       "    </tr>\n",
       "  </thead>\n",
       "  <tbody>\n",
       "    <tr>\n",
       "      <th>1</th>\n",
       "      <td>2013</td>\n",
       "      <td>11</td>\n",
       "      <td>15</td>\n",
       "      <td>3</td>\n",
       "      <td>1</td>\n",
       "      <td>4</td>\n",
       "      <td>42</td>\n",
       "      <td>2</td>\n",
       "      <td>5.0</td>\n",
       "      <td>2</td>\n",
       "      <td>...</td>\n",
       "      <td>NaN</td>\n",
       "      <td>NaN</td>\n",
       "      <td>NaN</td>\n",
       "      <td>NaN</td>\n",
       "      <td>NaN</td>\n",
       "      <td>NaN</td>\n",
       "      <td>350.0</td>\n",
       "      <td>350.0</td>\n",
       "      <td>350.0</td>\n",
       "      <td>244</td>\n",
       "    </tr>\n",
       "    <tr>\n",
       "      <th>2</th>\n",
       "      <td>2013</td>\n",
       "      <td>11</td>\n",
       "      <td>15</td>\n",
       "      <td>4</td>\n",
       "      <td>1</td>\n",
       "      <td>4</td>\n",
       "      <td>64</td>\n",
       "      <td>8</td>\n",
       "      <td>7.0</td>\n",
       "      <td>2</td>\n",
       "      <td>...</td>\n",
       "      <td>NaN</td>\n",
       "      <td>NaN</td>\n",
       "      <td>NaN</td>\n",
       "      <td>NaN</td>\n",
       "      <td>NaN</td>\n",
       "      <td>NaN</td>\n",
       "      <td>678.0</td>\n",
       "      <td>339.0</td>\n",
       "      <td>339.0</td>\n",
       "      <td>243</td>\n",
       "    </tr>\n",
       "    <tr>\n",
       "      <th>3</th>\n",
       "      <td>2013</td>\n",
       "      <td>11</td>\n",
       "      <td>15</td>\n",
       "      <td>4</td>\n",
       "      <td>2</td>\n",
       "      <td>4</td>\n",
       "      <td>13</td>\n",
       "      <td>4</td>\n",
       "      <td>0.0</td>\n",
       "      <td>2</td>\n",
       "      <td>...</td>\n",
       "      <td>NaN</td>\n",
       "      <td>NaN</td>\n",
       "      <td>NaN</td>\n",
       "      <td>NaN</td>\n",
       "      <td>NaN</td>\n",
       "      <td>NaN</td>\n",
       "      <td>0.0</td>\n",
       "      <td>339.0</td>\n",
       "      <td>339.0</td>\n",
       "      <td>243</td>\n",
       "    </tr>\n",
       "    <tr>\n",
       "      <th>4</th>\n",
       "      <td>2013</td>\n",
       "      <td>11</td>\n",
       "      <td>15</td>\n",
       "      <td>5</td>\n",
       "      <td>1</td>\n",
       "      <td>2</td>\n",
       "      <td>23</td>\n",
       "      <td>8</td>\n",
       "      <td>0.0</td>\n",
       "      <td>2</td>\n",
       "      <td>...</td>\n",
       "      <td>1.0</td>\n",
       "      <td>3.0</td>\n",
       "      <td>5.0</td>\n",
       "      <td>5.0</td>\n",
       "      <td>1.0</td>\n",
       "      <td>800.0</td>\n",
       "      <td>800.0</td>\n",
       "      <td>266.0</td>\n",
       "      <td>266.0</td>\n",
       "      <td>243</td>\n",
       "    </tr>\n",
       "    <tr>\n",
       "      <th>5</th>\n",
       "      <td>2013</td>\n",
       "      <td>11</td>\n",
       "      <td>15</td>\n",
       "      <td>5</td>\n",
       "      <td>2</td>\n",
       "      <td>4</td>\n",
       "      <td>19</td>\n",
       "      <td>8</td>\n",
       "      <td>0.0</td>\n",
       "      <td>2</td>\n",
       "      <td>...</td>\n",
       "      <td>NaN</td>\n",
       "      <td>NaN</td>\n",
       "      <td>NaN</td>\n",
       "      <td>NaN</td>\n",
       "      <td>NaN</td>\n",
       "      <td>NaN</td>\n",
       "      <td>0.0</td>\n",
       "      <td>266.0</td>\n",
       "      <td>266.0</td>\n",
       "      <td>243</td>\n",
       "    </tr>\n",
       "  </tbody>\n",
       "</table>\n",
       "<p>5 rows × 72 columns</p>\n",
       "</div>"
      ],
      "text/plain": [
       "   V0101  UF  V0102  V0103  V0301  V0302  V8005  V0404  V4011  V0412  ...    \\\n",
       "1   2013  11     15      3      1      4     42      2    5.0      2  ...     \n",
       "2   2013  11     15      4      1      4     64      8    7.0      2  ...     \n",
       "3   2013  11     15      4      2      4     13      4    0.0      2  ...     \n",
       "4   2013  11     15      5      1      2     23      8    0.0      2  ...     \n",
       "5   2013  11     15      5      2      4     19      8    0.0      2  ...     \n",
       "\n",
       "   V4706  V4707  V4809  V4810  V4711  V4718  V4720  V4742  V4750  V4729  \n",
       "1    NaN    NaN    NaN    NaN    NaN    NaN  350.0  350.0  350.0    244  \n",
       "2    NaN    NaN    NaN    NaN    NaN    NaN  678.0  339.0  339.0    243  \n",
       "3    NaN    NaN    NaN    NaN    NaN    NaN    0.0  339.0  339.0    243  \n",
       "4    1.0    3.0    5.0    5.0    1.0  800.0  800.0  266.0  266.0    243  \n",
       "5    NaN    NaN    NaN    NaN    NaN    NaN    0.0  266.0  266.0    243  \n",
       "\n",
       "[5 rows x 72 columns]"
      ]
     },
     "execution_count": 255,
     "metadata": {},
     "output_type": "execute_result"
    }
   ],
   "source": [
    "dados.head()"
   ]
  },
  {
   "cell_type": "code",
   "execution_count": 256,
   "metadata": {
    "collapsed": false
   },
   "outputs": [
    {
     "data": {
      "text/plain": [
       "(362555, 72)"
      ]
     },
     "execution_count": 256,
     "metadata": {},
     "output_type": "execute_result"
    }
   ],
   "source": [
    "dados.shape"
   ]
  },
  {
   "cell_type": "code",
   "execution_count": 257,
   "metadata": {
    "collapsed": true
   },
   "outputs": [],
   "source": [
    "D['V0302'] = dados.V0302 #Sexo\n",
    "D['V0404'] = dados.V0404 #Cor ou Raça\n",
    "D['V6002'] = dados.V6002 #Rede de ensino\n",
    "D['V4802'] = dados.V4802 #Nível de ensino\n",
    "D['UF'] = dados.UF #UF\n",
    "D['V0501'] = dados.V0501 #Nasceu no município de residencia - Váriavel extra\n",
    "D['V4011'] = dados.V4011 #Estado civil - Váriavel extra"
   ]
  },
  {
   "cell_type": "code",
   "execution_count": 258,
   "metadata": {
    "collapsed": true
   },
   "outputs": [],
   "source": [
    "D.V0302 = D.V0302.astype('category')\n",
    "D.V0404 = D.V0404.astype('category')\n",
    "D.V6002 = D.V6002.astype('category')\n",
    "D.V4802 = D.V4802.astype('category')\n",
    "D.UF = D.UF.astype('category')\n",
    "D.V0501 = D.V0501.astype('category')\n",
    "D.V4011 = D.V4011.astype('category')"
   ]
  },
  {
   "cell_type": "code",
   "execution_count": 259,
   "metadata": {
    "collapsed": false
   },
   "outputs": [
    {
     "data": {
      "text/plain": [
       "(362555, 9)"
      ]
     },
     "execution_count": 259,
     "metadata": {},
     "output_type": "execute_result"
    }
   ],
   "source": [
    "D.shape"
   ]
  },
  {
   "cell_type": "code",
   "execution_count": 260,
   "metadata": {
    "collapsed": false
   },
   "outputs": [
    {
     "data": {
      "text/html": [
       "<div>\n",
       "<table border=\"1\" class=\"dataframe\">\n",
       "  <thead>\n",
       "    <tr style=\"text-align: right;\">\n",
       "      <th></th>\n",
       "      <th>V0302</th>\n",
       "      <th>V0404</th>\n",
       "      <th>V6002</th>\n",
       "      <th>V4802</th>\n",
       "      <th>UF</th>\n",
       "      <th>V0501</th>\n",
       "      <th>V4011</th>\n",
       "      <th>V8005</th>\n",
       "      <th>V4750</th>\n",
       "    </tr>\n",
       "  </thead>\n",
       "  <tbody>\n",
       "    <tr>\n",
       "      <th>1</th>\n",
       "      <td>Feminino</td>\n",
       "      <td>Branca</td>\n",
       "      <td>NaN</td>\n",
       "      <td>NaN</td>\n",
       "      <td>11</td>\n",
       "      <td>Não nasceu</td>\n",
       "      <td>Divorciado(a)</td>\n",
       "      <td>42</td>\n",
       "      <td>350.0</td>\n",
       "    </tr>\n",
       "    <tr>\n",
       "      <th>2</th>\n",
       "      <td>Feminino</td>\n",
       "      <td>Parda</td>\n",
       "      <td>NaN</td>\n",
       "      <td>NaN</td>\n",
       "      <td>11</td>\n",
       "      <td>Não nasceu</td>\n",
       "      <td>Viúvo(a)</td>\n",
       "      <td>64</td>\n",
       "      <td>339.0</td>\n",
       "    </tr>\n",
       "    <tr>\n",
       "      <th>3</th>\n",
       "      <td>Feminino</td>\n",
       "      <td>Preta</td>\n",
       "      <td>Pública</td>\n",
       "      <td>8.0</td>\n",
       "      <td>11</td>\n",
       "      <td>Nasceu</td>\n",
       "      <td>Solteiro</td>\n",
       "      <td>13</td>\n",
       "      <td>339.0</td>\n",
       "    </tr>\n",
       "    <tr>\n",
       "      <th>4</th>\n",
       "      <td>Masculino</td>\n",
       "      <td>Parda</td>\n",
       "      <td>NaN</td>\n",
       "      <td>NaN</td>\n",
       "      <td>11</td>\n",
       "      <td>Não nasceu</td>\n",
       "      <td>Solteiro</td>\n",
       "      <td>23</td>\n",
       "      <td>266.0</td>\n",
       "    </tr>\n",
       "    <tr>\n",
       "      <th>5</th>\n",
       "      <td>Feminino</td>\n",
       "      <td>Parda</td>\n",
       "      <td>Privada</td>\n",
       "      <td>11.0</td>\n",
       "      <td>11</td>\n",
       "      <td>Nasceu</td>\n",
       "      <td>Solteiro</td>\n",
       "      <td>19</td>\n",
       "      <td>266.0</td>\n",
       "    </tr>\n",
       "  </tbody>\n",
       "</table>\n",
       "</div>"
      ],
      "text/plain": [
       "       V0302   V0404    V6002 V4802  UF       V0501          V4011  V8005  \\\n",
       "1   Feminino  Branca      NaN   NaN  11  Não nasceu  Divorciado(a)     42   \n",
       "2   Feminino   Parda      NaN   NaN  11  Não nasceu       Viúvo(a)     64   \n",
       "3   Feminino   Preta  Pública   8.0  11      Nasceu       Solteiro     13   \n",
       "4  Masculino   Parda      NaN   NaN  11  Não nasceu       Solteiro     23   \n",
       "5   Feminino   Parda  Privada  11.0  11      Nasceu       Solteiro     19   \n",
       "\n",
       "   V4750  \n",
       "1  350.0  \n",
       "2  339.0  \n",
       "3  339.0  \n",
       "4  266.0  \n",
       "5  266.0  "
      ]
     },
     "execution_count": 260,
     "metadata": {},
     "output_type": "execute_result"
    }
   ],
   "source": [
    "D.V0302.cat.categories = ('Masculino','Feminino')\n",
    "D.V0404.cat.categories = ('Indígena','Branca','Preta', 'Amarela', 'Parda' , 'Sem Declaração')\n",
    "D.V6002.cat.categories = ('Pública','Privada')\n",
    "D.V0501.cat.categories = ('Nasceu','Não nasceu')\n",
    "D.V4011.cat.categories = ('Solteiro','Casado(a)','Desquitado(a)','Divorciado(a)','Viúvo(a)')\n",
    "D.head()"
   ]
  },
  {
   "cell_type": "code",
   "execution_count": 261,
   "metadata": {
    "collapsed": false
   },
   "outputs": [
    {
     "data": {
      "text/html": [
       "<div>\n",
       "<table border=\"1\" class=\"dataframe\">\n",
       "  <thead>\n",
       "    <tr style=\"text-align: right;\">\n",
       "      <th></th>\n",
       "      <th>V0302</th>\n",
       "      <th>V0404</th>\n",
       "      <th>V6002</th>\n",
       "      <th>V4802</th>\n",
       "      <th>UF</th>\n",
       "      <th>V0501</th>\n",
       "      <th>V4011</th>\n",
       "      <th>V8005</th>\n",
       "      <th>V4750</th>\n",
       "    </tr>\n",
       "  </thead>\n",
       "  <tbody>\n",
       "    <tr>\n",
       "      <th>1</th>\n",
       "      <td>Feminino</td>\n",
       "      <td>Branca</td>\n",
       "      <td>NaN</td>\n",
       "      <td>Ensino superior</td>\n",
       "      <td>Norte</td>\n",
       "      <td>Não nasceu</td>\n",
       "      <td>Divorciado(a)</td>\n",
       "      <td>42</td>\n",
       "      <td>350.0</td>\n",
       "    </tr>\n",
       "    <tr>\n",
       "      <th>2</th>\n",
       "      <td>Feminino</td>\n",
       "      <td>Parda</td>\n",
       "      <td>NaN</td>\n",
       "      <td>Ensino superior</td>\n",
       "      <td>Norte</td>\n",
       "      <td>Não nasceu</td>\n",
       "      <td>Viúvo(a)</td>\n",
       "      <td>64</td>\n",
       "      <td>339.0</td>\n",
       "    </tr>\n",
       "    <tr>\n",
       "      <th>3</th>\n",
       "      <td>Feminino</td>\n",
       "      <td>Preta</td>\n",
       "      <td>Pública</td>\n",
       "      <td>Ensino fundamental</td>\n",
       "      <td>Norte</td>\n",
       "      <td>Nasceu</td>\n",
       "      <td>Solteiro</td>\n",
       "      <td>13</td>\n",
       "      <td>339.0</td>\n",
       "    </tr>\n",
       "    <tr>\n",
       "      <th>4</th>\n",
       "      <td>Masculino</td>\n",
       "      <td>Parda</td>\n",
       "      <td>NaN</td>\n",
       "      <td>Ensino superior</td>\n",
       "      <td>Norte</td>\n",
       "      <td>Não nasceu</td>\n",
       "      <td>Solteiro</td>\n",
       "      <td>23</td>\n",
       "      <td>266.0</td>\n",
       "    </tr>\n",
       "    <tr>\n",
       "      <th>5</th>\n",
       "      <td>Feminino</td>\n",
       "      <td>Parda</td>\n",
       "      <td>Privada</td>\n",
       "      <td>Ensino superior</td>\n",
       "      <td>Norte</td>\n",
       "      <td>Nasceu</td>\n",
       "      <td>Solteiro</td>\n",
       "      <td>19</td>\n",
       "      <td>266.0</td>\n",
       "    </tr>\n",
       "  </tbody>\n",
       "</table>\n",
       "</div>"
      ],
      "text/plain": [
       "       V0302   V0404    V6002               V4802     UF       V0501  \\\n",
       "1   Feminino  Branca      NaN     Ensino superior  Norte  Não nasceu   \n",
       "2   Feminino   Parda      NaN     Ensino superior  Norte  Não nasceu   \n",
       "3   Feminino   Preta  Pública  Ensino fundamental  Norte      Nasceu   \n",
       "4  Masculino   Parda      NaN     Ensino superior  Norte  Não nasceu   \n",
       "5   Feminino   Parda  Privada     Ensino superior  Norte      Nasceu   \n",
       "\n",
       "           V4011  V8005  V4750  \n",
       "1  Divorciado(a)     42  350.0  \n",
       "2       Viúvo(a)     64  339.0  \n",
       "3       Solteiro     13  339.0  \n",
       "4       Solteiro     23  266.0  \n",
       "5       Solteiro     19  266.0  "
      ]
     },
     "execution_count": 261,
     "metadata": {},
     "output_type": "execute_result"
    }
   ],
   "source": [
    "#11>= até <=17 --->>> Norte\n",
    "#21>= até <=29 --->>> Nordeste\n",
    "#31>= até <=35 --->>> Sudeste\n",
    "#41>= até <=43 --->>> Sul\n",
    "#50>= até <=53 --->>> Centro-oeste\n",
    "def regiao(uf):\n",
    "    if 11<=uf<=17:\n",
    "        return ('Norte')\n",
    "    elif 21<=uf<=29:\n",
    "        return ('Nordeste')\n",
    "    elif 31<=uf<=35:\n",
    "        return ('Sudeste')\n",
    "    elif 41<=uf<=43:\n",
    "        return ('Sul')\n",
    "    elif 50<=uf<=53:\n",
    "        return ('Centro-oeste')\n",
    "    else:\n",
    "        return ('NaN')\n",
    "\n",
    "D.UF = D.UF.map(regiao)\n",
    "\n",
    "def educ(ed):\n",
    "    if ed == 1:\n",
    "        return('Maternal')\n",
    "    elif ed == 2 or ed == 3:\n",
    "        return ('Alfabetização')\n",
    "    elif 4<=ed<=9:\n",
    "        return ('Ensino fundamental')\n",
    "    elif ed == 10:\n",
    "        return ('Ensino médio')\n",
    "    elif ed == 11:\n",
    "        return ('Ensino superior')\n",
    "\n",
    "D.V4802 = D.V4802.map(educ)\n",
    "    \n",
    "D.head()"
   ]
  },
  {
   "cell_type": "code",
   "execution_count": 262,
   "metadata": {
    "collapsed": false
   },
   "outputs": [
    {
     "data": {
      "text/plain": [
       "Feminino     51.427508\n",
       "Masculino    48.572492\n",
       "Name: V0302, dtype: float64"
      ]
     },
     "execution_count": 262,
     "metadata": {},
     "output_type": "execute_result"
    }
   ],
   "source": [
    "sexo = D.V0302.value_counts(True) * 100\n",
    "sexo"
   ]
  },
  {
   "cell_type": "code",
   "execution_count": 263,
   "metadata": {
    "collapsed": false
   },
   "outputs": [
    {
     "data": {
      "text/plain": [
       "Parda             48.004303\n",
       "Branca            42.812263\n",
       "Preta              8.310463\n",
       "Indígena           0.465585\n",
       "Amarela            0.405732\n",
       "Sem Declaração     0.001655\n",
       "Name: V0404, dtype: float64"
      ]
     },
     "execution_count": 263,
     "metadata": {},
     "output_type": "execute_result"
    }
   ],
   "source": [
    "cor = D.V0404.value_counts(True) * 100\n",
    "cor"
   ]
  },
  {
   "cell_type": "code",
   "execution_count": 264,
   "metadata": {
    "collapsed": false
   },
   "outputs": [
    {
     "data": {
      "text/plain": [
       "Pública    75.578802\n",
       "Privada    24.421198\n",
       "Name: V6002, dtype: float64"
      ]
     },
     "execution_count": 264,
     "metadata": {},
     "output_type": "execute_result"
    }
   ],
   "source": [
    "instituicao = D.V6002.value_counts(True) * 100\n",
    "instituicao"
   ]
  },
  {
   "cell_type": "code",
   "execution_count": 265,
   "metadata": {
    "collapsed": false
   },
   "outputs": [
    {
     "data": {
      "text/plain": [
       "Ensino superior       77.111059\n",
       "Ensino fundamental    15.937168\n",
       "Ensino médio           4.800099\n",
       "Maternal               1.735737\n",
       "Alfabetização          0.415937\n",
       "Name: V4802, dtype: float64"
      ]
     },
     "execution_count": 265,
     "metadata": {},
     "output_type": "execute_result"
    }
   ],
   "source": [
    "nivel_ensino = D.V4802.value_counts(True) * 100\n",
    "nivel_ensino"
   ]
  },
  {
   "cell_type": "code",
   "execution_count": 266,
   "metadata": {
    "collapsed": false
   },
   "outputs": [
    {
     "data": {
      "text/plain": [
       "Sudeste         28.996428\n",
       "Nordeste        28.849968\n",
       "Norte           16.324971\n",
       "Sul             15.477927\n",
       "Centro-oeste    10.350705\n",
       "Name: UF, dtype: float64"
      ]
     },
     "execution_count": 266,
     "metadata": {},
     "output_type": "execute_result"
    }
   ],
   "source": [
    "regiao_uf = D.UF.value_counts(True) * 100\n",
    "regiao_uf"
   ]
  },
  {
   "cell_type": "code",
   "execution_count": 267,
   "metadata": {
    "collapsed": false
   },
   "outputs": [
    {
     "data": {
      "text/plain": [
       "Solteiro         79.497856\n",
       "Viúvo(a)          7.613966\n",
       "Divorciado(a)     5.567888\n",
       "Casado(a)         5.243420\n",
       "Desquitado(a)     2.076870\n",
       "Name: V4011, dtype: float64"
      ]
     },
     "execution_count": 267,
     "metadata": {},
     "output_type": "execute_result"
    }
   ],
   "source": [
    "EC = D.V4011.value_counts(True) * 100\n",
    "EC"
   ]
  },
  {
   "cell_type": "code",
   "execution_count": 268,
   "metadata": {
    "collapsed": false
   },
   "outputs": [
    {
     "data": {
      "text/plain": [
       "Nasceu        60.315814\n",
       "Não nasceu    39.684186\n",
       "Name: V0501, dtype: float64"
      ]
     },
     "execution_count": 268,
     "metadata": {},
     "output_type": "execute_result"
    }
   ],
   "source": [
    "nascimento = D.V0501.value_counts(True) * 100\n",
    "nascimento"
   ]
  },
  {
   "cell_type": "code",
   "execution_count": 269,
   "metadata": {
    "collapsed": false
   },
   "outputs": [
    {
     "data": {
      "text/html": [
       "<div>\n",
       "<table border=\"1\" class=\"dataframe\">\n",
       "  <thead>\n",
       "    <tr style=\"text-align: right;\">\n",
       "      <th>V4802</th>\n",
       "      <th>Alfabetização</th>\n",
       "      <th>Ensino fundamental</th>\n",
       "      <th>Ensino médio</th>\n",
       "      <th>Ensino superior</th>\n",
       "      <th>Maternal</th>\n",
       "    </tr>\n",
       "    <tr>\n",
       "      <th>V0404</th>\n",
       "      <th></th>\n",
       "      <th></th>\n",
       "      <th></th>\n",
       "      <th></th>\n",
       "      <th></th>\n",
       "    </tr>\n",
       "  </thead>\n",
       "  <tbody>\n",
       "    <tr>\n",
       "      <th>Indígena</th>\n",
       "      <td>0.000014</td>\n",
       "      <td>0.001169</td>\n",
       "      <td>0.000190</td>\n",
       "      <td>0.003208</td>\n",
       "      <td>0.000074</td>\n",
       "    </tr>\n",
       "    <tr>\n",
       "      <th>Branca</th>\n",
       "      <td>0.001374</td>\n",
       "      <td>0.058408</td>\n",
       "      <td>0.019227</td>\n",
       "      <td>0.341970</td>\n",
       "      <td>0.007144</td>\n",
       "    </tr>\n",
       "    <tr>\n",
       "      <th>Preta</th>\n",
       "      <td>0.000370</td>\n",
       "      <td>0.011157</td>\n",
       "      <td>0.003602</td>\n",
       "      <td>0.066969</td>\n",
       "      <td>0.001007</td>\n",
       "    </tr>\n",
       "    <tr>\n",
       "      <th>Amarela</th>\n",
       "      <td>0.000019</td>\n",
       "      <td>0.000422</td>\n",
       "      <td>0.000196</td>\n",
       "      <td>0.003384</td>\n",
       "      <td>0.000036</td>\n",
       "    </tr>\n",
       "    <tr>\n",
       "      <th>Parda</th>\n",
       "      <td>0.002383</td>\n",
       "      <td>0.088216</td>\n",
       "      <td>0.024785</td>\n",
       "      <td>0.355563</td>\n",
       "      <td>0.009097</td>\n",
       "    </tr>\n",
       "    <tr>\n",
       "      <th>Sem Declaração</th>\n",
       "      <td>0.000000</td>\n",
       "      <td>0.000000</td>\n",
       "      <td>0.000000</td>\n",
       "      <td>0.000017</td>\n",
       "      <td>0.000000</td>\n",
       "    </tr>\n",
       "  </tbody>\n",
       "</table>\n",
       "</div>"
      ],
      "text/plain": [
       "V4802           Alfabetização  Ensino fundamental  Ensino médio  \\\n",
       "V0404                                                             \n",
       "Indígena             0.000014            0.001169      0.000190   \n",
       "Branca               0.001374            0.058408      0.019227   \n",
       "Preta                0.000370            0.011157      0.003602   \n",
       "Amarela              0.000019            0.000422      0.000196   \n",
       "Parda                0.002383            0.088216      0.024785   \n",
       "Sem Declaração       0.000000            0.000000      0.000000   \n",
       "\n",
       "V4802           Ensino superior  Maternal  \n",
       "V0404                                      \n",
       "Indígena               0.003208  0.000074  \n",
       "Branca                 0.341970  0.007144  \n",
       "Preta                  0.066969  0.001007  \n",
       "Amarela                0.003384  0.000036  \n",
       "Parda                  0.355563  0.009097  \n",
       "Sem Declaração         0.000017  0.000000  "
      ]
     },
     "execution_count": 269,
     "metadata": {},
     "output_type": "execute_result"
    }
   ],
   "source": [
    "#Tabela nível de ensino pela cor/raça.\n",
    "ct = pd.crosstab(D.V0404,D.V4802,normalize=True)\n",
    "ct"
   ]
  },
  {
   "cell_type": "code",
   "execution_count": 270,
   "metadata": {
    "collapsed": false
   },
   "outputs": [],
   "source": [
    "soma = ct.sum().sum()"
   ]
  },
  {
   "cell_type": "code",
   "execution_count": 271,
   "metadata": {
    "collapsed": false
   },
   "outputs": [
    {
     "data": {
      "text/html": [
       "<div>\n",
       "<table border=\"1\" class=\"dataframe\">\n",
       "  <thead>\n",
       "    <tr style=\"text-align: right;\">\n",
       "      <th>V4802</th>\n",
       "      <th>Alfabetização</th>\n",
       "      <th>Ensino fundamental</th>\n",
       "      <th>Ensino médio</th>\n",
       "      <th>Ensino superior</th>\n",
       "      <th>Maternal</th>\n",
       "    </tr>\n",
       "    <tr>\n",
       "      <th>V0404</th>\n",
       "      <th></th>\n",
       "      <th></th>\n",
       "      <th></th>\n",
       "      <th></th>\n",
       "      <th></th>\n",
       "    </tr>\n",
       "  </thead>\n",
       "  <tbody>\n",
       "    <tr>\n",
       "      <th>Indígena</th>\n",
       "      <td>0.001379</td>\n",
       "      <td>0.116948</td>\n",
       "      <td>0.019032</td>\n",
       "      <td>0.320779</td>\n",
       "      <td>0.007447</td>\n",
       "    </tr>\n",
       "    <tr>\n",
       "      <th>Branca</th>\n",
       "      <td>0.137358</td>\n",
       "      <td>5.840769</td>\n",
       "      <td>1.922743</td>\n",
       "      <td>34.197018</td>\n",
       "      <td>0.714374</td>\n",
       "    </tr>\n",
       "    <tr>\n",
       "      <th>Preta</th>\n",
       "      <td>0.036960</td>\n",
       "      <td>1.115693</td>\n",
       "      <td>0.360221</td>\n",
       "      <td>6.696915</td>\n",
       "      <td>0.100674</td>\n",
       "    </tr>\n",
       "    <tr>\n",
       "      <th>Amarela</th>\n",
       "      <td>0.001931</td>\n",
       "      <td>0.042200</td>\n",
       "      <td>0.019583</td>\n",
       "      <td>0.338431</td>\n",
       "      <td>0.003586</td>\n",
       "    </tr>\n",
       "    <tr>\n",
       "      <th>Parda</th>\n",
       "      <td>0.238309</td>\n",
       "      <td>8.821558</td>\n",
       "      <td>2.478521</td>\n",
       "      <td>35.556260</td>\n",
       "      <td>0.909655</td>\n",
       "    </tr>\n",
       "    <tr>\n",
       "      <th>Sem Declaração</th>\n",
       "      <td>0.000000</td>\n",
       "      <td>0.000000</td>\n",
       "      <td>0.000000</td>\n",
       "      <td>0.001655</td>\n",
       "      <td>0.000000</td>\n",
       "    </tr>\n",
       "  </tbody>\n",
       "</table>\n",
       "</div>"
      ],
      "text/plain": [
       "V4802           Alfabetização  Ensino fundamental  Ensino médio  \\\n",
       "V0404                                                             \n",
       "Indígena             0.001379            0.116948      0.019032   \n",
       "Branca               0.137358            5.840769      1.922743   \n",
       "Preta                0.036960            1.115693      0.360221   \n",
       "Amarela              0.001931            0.042200      0.019583   \n",
       "Parda                0.238309            8.821558      2.478521   \n",
       "Sem Declaração       0.000000            0.000000      0.000000   \n",
       "\n",
       "V4802           Ensino superior  Maternal  \n",
       "V0404                                      \n",
       "Indígena               0.320779  0.007447  \n",
       "Branca                34.197018  0.714374  \n",
       "Preta                  6.696915  0.100674  \n",
       "Amarela                0.338431  0.003586  \n",
       "Parda                 35.556260  0.909655  \n",
       "Sem Declaração         0.001655  0.000000  "
      ]
     },
     "execution_count": 271,
     "metadata": {},
     "output_type": "execute_result"
    }
   ],
   "source": [
    "#Tabela em porcentagem\n",
    "ct*100/soma"
   ]
  },
  {
   "cell_type": "code",
   "execution_count": 272,
   "metadata": {
    "collapsed": true
   },
   "outputs": [],
   "source": [
    "%matplotlib inline\n",
    "import matplotlib.pyplot as plt\n",
    "import matplotlib\n",
    "matplotlib.style.use('ggplot')"
   ]
  },
  {
   "cell_type": "code",
   "execution_count": 273,
   "metadata": {
    "collapsed": false
   },
   "outputs": [
    {
     "data": {
      "text/plain": [
       "<matplotlib.axes._subplots.AxesSubplot at 0x1311c24e0>"
      ]
     },
     "execution_count": 273,
     "metadata": {},
     "output_type": "execute_result"
    },
    {
     "data": {
      "image/png": "[encoded data removed]",
      "text/plain": [
       "<matplotlib.figure.Figure at 0x132067668>"
      ]
     },
     "metadata": {},
     "output_type": "display_data"
    }
   ],
   "source": [
    "cor.plot(kind='bar', color=('blue', 'red','yellow','green','orange','salmon'), legend=False, title='Cor/Raça')"
   ]
  },
  {
   "cell_type": "code",
   "execution_count": 274,
   "metadata": {
    "collapsed": false
   },
   "outputs": [
    {
     "data": {
      "text/plain": [
       "<matplotlib.axes._subplots.AxesSubplot at 0x11587d710>"
      ]
     },
     "execution_count": 274,
     "metadata": {},
     "output_type": "execute_result"
    },
    {
     "data": {
      "image/png": "[encoded data removed]",
      "text/plain": [
       "<matplotlib.figure.Figure at 0x13d23a400>"
      ]
     },
     "metadata": {},
     "output_type": "display_data"
    }
   ],
   "source": [
    "sexo.plot(kind='pie', colors=('blue', 'red'), autopct=\"%0.2f\",legend=False, title='Sexo')"
   ]
  },
  {
   "cell_type": "code",
   "execution_count": 275,
   "metadata": {
    "collapsed": false
   },
   "outputs": [
    {
     "data": {
      "text/plain": [
       "<matplotlib.axes._subplots.AxesSubplot at 0x153280128>"
      ]
     },
     "execution_count": 275,
     "metadata": {},
     "output_type": "execute_result"
    },
    {
     "data": {
      "image/png": "[encoded data removed]",
      "text/plain": [
       "<matplotlib.figure.Figure at 0x1530f06a0>"
      ]
     },
     "metadata": {},
     "output_type": "display_data"
    }
   ],
   "source": [
    "instituicao.plot(kind='pie', colors=('blue', 'red'), autopct=\"%0.2f\",legend=False, title='Instituição')"
   ]
  },
  {
   "cell_type": "code",
   "execution_count": 276,
   "metadata": {
    "collapsed": false
   },
   "outputs": [
    {
     "data": {
      "text/plain": [
       "<matplotlib.axes._subplots.AxesSubplot at 0x1323d0320>"
      ]
     },
     "execution_count": 276,
     "metadata": {},
     "output_type": "execute_result"
    },
    {
     "data": {
      "image/png": "[encoded data removed]",
      "text/plain": [
       "<matplotlib.figure.Figure at 0x1323d6860>"
      ]
     },
     "metadata": {},
     "output_type": "display_data"
    }
   ],
   "source": [
    "nivel_ensino.plot(kind='bar', color=('blue', 'red','yellow','green','orange'), legend=False, title='Nível de Ensino')"
   ]
  },
  {
   "cell_type": "code",
   "execution_count": 277,
   "metadata": {
    "collapsed": false
   },
   "outputs": [
    {
     "data": {
      "text/plain": [
       "<matplotlib.axes._subplots.AxesSubplot at 0x1318cb710>"
      ]
     },
     "execution_count": 277,
     "metadata": {},
     "output_type": "execute_result"
    },
    {
     "data": {
      "image/png": "[encoded data removed]",
      "text/plain": [
       "<matplotlib.figure.Figure at 0x114bf0a90>"
      ]
     },
     "metadata": {},
     "output_type": "display_data"
    }
   ],
   "source": [
    "regiao_uf.plot(kind='pie', colors=('blue', 'red','yellow','green','orange'), autopct=\"%0.2f\",legend=False, title='Região')"
   ]
  },
  {
   "cell_type": "code",
   "execution_count": 278,
   "metadata": {
    "collapsed": false
   },
   "outputs": [
    {
     "data": {
      "text/plain": [
       "<matplotlib.axes._subplots.AxesSubplot at 0x13282c6a0>"
      ]
     },
     "execution_count": 278,
     "metadata": {},
     "output_type": "execute_result"
    },
    {
     "data": {
      "image/png": "[encoded data removed]",
      "text/plain": [
       "<matplotlib.figure.Figure at 0x1532b3e10>"
      ]
     },
     "metadata": {},
     "output_type": "display_data"
    }
   ],
   "source": [
    "EC.plot(kind='pie', colors=('blue', 'red','yellow','green','orange'), autopct=\"%0.2f\",legend=False, title='Estado Civil')"
   ]
  },
  {
   "cell_type": "code",
   "execution_count": 279,
   "metadata": {
    "collapsed": false
   },
   "outputs": [
    {
     "data": {
      "text/plain": [
       "<matplotlib.axes._subplots.AxesSubplot at 0x11f099320>"
      ]
     },
     "execution_count": 279,
     "metadata": {},
     "output_type": "execute_result"
    },
    {
     "data": {
      "image/png": "[encoded data removed]",
      "text/plain": [
       "<matplotlib.figure.Figure at 0x11f08ff98>"
      ]
     },
     "metadata": {},
     "output_type": "display_data"
    }
   ],
   "source": [
    "nascimento.plot(kind='pie', colors=('blue', 'red'), autopct=\"%0.2f\",legend=False, title='Nascido ou não onde mora')"
   ]
  },
  {
   "cell_type": "code",
   "execution_count": 280,
   "metadata": {
    "collapsed": false
   },
   "outputs": [
    {
     "data": {
      "text/plain": [
       "<matplotlib.axes._subplots.AxesSubplot at 0x13f60b898>"
      ]
     },
     "execution_count": 280,
     "metadata": {},
     "output_type": "execute_result"
    },
    {
     "data": {
      "image/png": "[encoded data removed]",
      "text/plain": [
       "<matplotlib.figure.Figure at 0x12f07f358>"
      ]
     },
     "metadata": {},
     "output_type": "display_data"
    }
   ],
   "source": [
    "ct.plot(kind='bar', color=('yellow', 'salmon','red','blue','green'))"
   ]
  },
  {
   "cell_type": "code",
   "execution_count": 281,
   "metadata": {
    "collapsed": false
   },
   "outputs": [
    {
     "data": {
      "text/plain": [
       "<matplotlib.axes._subplots.AxesSubplot at 0x1157c7470>"
      ]
     },
     "execution_count": 281,
     "metadata": {},
     "output_type": "execute_result"
    },
    {
     "data": {
      "image/png": "[encoded data removed]",
      "text/plain": [
       "<matplotlib.figure.Figure at 0x131858668>"
      ]
     },
     "metadata": {},
     "output_type": "display_data"
    }
   ],
   "source": [
    "ct1 = pd.crosstab(D.V4802,D.V0404,normalize=True)\n",
    "ct1*100/ct1.sum().sum()\n",
    "ct1.plot(kind='bar', color=('yellow', 'salmon','red','blue','green','orange'),stacked=True)"
   ]
  },
  {
   "cell_type": "code",
   "execution_count": 282,
   "metadata": {
    "collapsed": false
   },
   "outputs": [],
   "source": [
    "#Tabela UF pelo lugar de nascimento.\n",
    "ct = pd.crosstab(D.UF,D.V0501,normalize=True)"
   ]
  },
  {
   "cell_type": "code",
   "execution_count": 283,
   "metadata": {
    "collapsed": true
   },
   "outputs": [],
   "source": [
    "soma = ct.sum().sum()"
   ]
  },
  {
   "cell_type": "code",
   "execution_count": 284,
   "metadata": {
    "collapsed": false
   },
   "outputs": [
    {
     "data": {
      "text/html": [
       "<div>\n",
       "<table border=\"1\" class=\"dataframe\">\n",
       "  <thead>\n",
       "    <tr style=\"text-align: right;\">\n",
       "      <th>V0501</th>\n",
       "      <th>Nasceu</th>\n",
       "      <th>Não nasceu</th>\n",
       "    </tr>\n",
       "    <tr>\n",
       "      <th>UF</th>\n",
       "      <th></th>\n",
       "      <th></th>\n",
       "    </tr>\n",
       "  </thead>\n",
       "  <tbody>\n",
       "    <tr>\n",
       "      <th>Centro-oeste</th>\n",
       "      <td>4.950421</td>\n",
       "      <td>5.400284</td>\n",
       "    </tr>\n",
       "    <tr>\n",
       "      <th>Nordeste</th>\n",
       "      <td>19.624333</td>\n",
       "      <td>9.225635</td>\n",
       "    </tr>\n",
       "    <tr>\n",
       "      <th>Norte</th>\n",
       "      <td>9.697287</td>\n",
       "      <td>6.627684</td>\n",
       "    </tr>\n",
       "    <tr>\n",
       "      <th>Sudeste</th>\n",
       "      <td>17.487829</td>\n",
       "      <td>11.508599</td>\n",
       "    </tr>\n",
       "    <tr>\n",
       "      <th>Sul</th>\n",
       "      <td>8.555943</td>\n",
       "      <td>6.921984</td>\n",
       "    </tr>\n",
       "  </tbody>\n",
       "</table>\n",
       "</div>"
      ],
      "text/plain": [
       "V0501            Nasceu  Não nasceu\n",
       "UF                                 \n",
       "Centro-oeste   4.950421    5.400284\n",
       "Nordeste      19.624333    9.225635\n",
       "Norte          9.697287    6.627684\n",
       "Sudeste       17.487829   11.508599\n",
       "Sul            8.555943    6.921984"
      ]
     },
     "execution_count": 284,
     "metadata": {},
     "output_type": "execute_result"
    }
   ],
   "source": [
    "ct*100/soma"
   ]
  },
  {
   "cell_type": "code",
   "execution_count": 285,
   "metadata": {
    "collapsed": false
   },
   "outputs": [
    {
     "data": {
      "text/plain": [
       "<matplotlib.axes._subplots.AxesSubplot at 0x132d79978>"
      ]
     },
     "execution_count": 285,
     "metadata": {},
     "output_type": "execute_result"
    },
    {
     "data": {
      "image/png": "[encoded data removed]",
      "text/plain": [
       "<matplotlib.figure.Figure at 0x12ee5e9e8>"
      ]
     },
     "metadata": {},
     "output_type": "display_data"
    }
   ],
   "source": [
    "ct.plot(kind='bar', color=('yellow', 'salmon'))"
   ]
  },
  {
   "cell_type": "markdown",
   "metadata": {},
   "source": [
    "# Váriaveis Quantitativas"
   ]
  },
  {
   "cell_type": "code",
   "execution_count": 286,
   "metadata": {
    "collapsed": false
   },
   "outputs": [],
   "source": [
    "#Idade da pessoa - V8005 - Variável quantitativa\n",
    "D['V8005'] = dados.V8005"
   ]
  },
  {
   "cell_type": "code",
   "execution_count": 287,
   "metadata": {
    "collapsed": false
   },
   "outputs": [
    {
     "data": {
      "text/html": [
       "<div>\n",
       "<table border=\"1\" class=\"dataframe\">\n",
       "  <thead>\n",
       "    <tr style=\"text-align: right;\">\n",
       "      <th></th>\n",
       "      <th>V0302</th>\n",
       "      <th>V0404</th>\n",
       "      <th>V6002</th>\n",
       "      <th>V4802</th>\n",
       "      <th>UF</th>\n",
       "      <th>V0501</th>\n",
       "      <th>V4011</th>\n",
       "      <th>V8005</th>\n",
       "      <th>V4750</th>\n",
       "    </tr>\n",
       "  </thead>\n",
       "  <tbody>\n",
       "    <tr>\n",
       "      <th>1</th>\n",
       "      <td>Feminino</td>\n",
       "      <td>Branca</td>\n",
       "      <td>NaN</td>\n",
       "      <td>Ensino superior</td>\n",
       "      <td>Norte</td>\n",
       "      <td>Não nasceu</td>\n",
       "      <td>Divorciado(a)</td>\n",
       "      <td>42</td>\n",
       "      <td>350.0</td>\n",
       "    </tr>\n",
       "    <tr>\n",
       "      <th>2</th>\n",
       "      <td>Feminino</td>\n",
       "      <td>Parda</td>\n",
       "      <td>NaN</td>\n",
       "      <td>Ensino superior</td>\n",
       "      <td>Norte</td>\n",
       "      <td>Não nasceu</td>\n",
       "      <td>Viúvo(a)</td>\n",
       "      <td>64</td>\n",
       "      <td>339.0</td>\n",
       "    </tr>\n",
       "    <tr>\n",
       "      <th>3</th>\n",
       "      <td>Feminino</td>\n",
       "      <td>Preta</td>\n",
       "      <td>Pública</td>\n",
       "      <td>Ensino fundamental</td>\n",
       "      <td>Norte</td>\n",
       "      <td>Nasceu</td>\n",
       "      <td>Solteiro</td>\n",
       "      <td>13</td>\n",
       "      <td>339.0</td>\n",
       "    </tr>\n",
       "    <tr>\n",
       "      <th>4</th>\n",
       "      <td>Masculino</td>\n",
       "      <td>Parda</td>\n",
       "      <td>NaN</td>\n",
       "      <td>Ensino superior</td>\n",
       "      <td>Norte</td>\n",
       "      <td>Não nasceu</td>\n",
       "      <td>Solteiro</td>\n",
       "      <td>23</td>\n",
       "      <td>266.0</td>\n",
       "    </tr>\n",
       "    <tr>\n",
       "      <th>5</th>\n",
       "      <td>Feminino</td>\n",
       "      <td>Parda</td>\n",
       "      <td>Privada</td>\n",
       "      <td>Ensino superior</td>\n",
       "      <td>Norte</td>\n",
       "      <td>Nasceu</td>\n",
       "      <td>Solteiro</td>\n",
       "      <td>19</td>\n",
       "      <td>266.0</td>\n",
       "    </tr>\n",
       "  </tbody>\n",
       "</table>\n",
       "</div>"
      ],
      "text/plain": [
       "       V0302   V0404    V6002               V4802     UF       V0501  \\\n",
       "1   Feminino  Branca      NaN     Ensino superior  Norte  Não nasceu   \n",
       "2   Feminino   Parda      NaN     Ensino superior  Norte  Não nasceu   \n",
       "3   Feminino   Preta  Pública  Ensino fundamental  Norte      Nasceu   \n",
       "4  Masculino   Parda      NaN     Ensino superior  Norte  Não nasceu   \n",
       "5   Feminino   Parda  Privada     Ensino superior  Norte      Nasceu   \n",
       "\n",
       "           V4011  V8005  V4750  \n",
       "1  Divorciado(a)     42  350.0  \n",
       "2       Viúvo(a)     64  339.0  \n",
       "3       Solteiro     13  339.0  \n",
       "4       Solteiro     23  266.0  \n",
       "5       Solteiro     19  266.0  "
      ]
     },
     "execution_count": 287,
     "metadata": {},
     "output_type": "execute_result"
    }
   ],
   "source": [
    "D.head()"
   ]
  },
  {
   "cell_type": "code",
   "execution_count": 288,
   "metadata": {
    "collapsed": false
   },
   "outputs": [
    {
     "name": "stderr",
     "output_type": "stream",
     "text": [
      "/Users/AndreEjz/anaconda/lib/python3.5/site-packages/numpy/lib/function_base.py:3834: RuntimeWarning: Invalid value encountered in percentile\n",
      "  RuntimeWarning)\n"
     ]
    },
    {
     "data": {
      "text/html": [
       "<div>\n",
       "<table border=\"1\" class=\"dataframe\">\n",
       "  <thead>\n",
       "    <tr style=\"text-align: right;\">\n",
       "      <th></th>\n",
       "      <th>V8005</th>\n",
       "      <th>V4750</th>\n",
       "    </tr>\n",
       "  </thead>\n",
       "  <tbody>\n",
       "    <tr>\n",
       "      <th>count</th>\n",
       "      <td>362555.000000</td>\n",
       "      <td>3.618360e+05</td>\n",
       "    </tr>\n",
       "    <tr>\n",
       "      <th>mean</th>\n",
       "      <td>33.049813</td>\n",
       "      <td>4.899181e+10</td>\n",
       "    </tr>\n",
       "    <tr>\n",
       "      <th>std</th>\n",
       "      <td>20.870874</td>\n",
       "      <td>2.158512e+11</td>\n",
       "    </tr>\n",
       "    <tr>\n",
       "      <th>min</th>\n",
       "      <td>0.000000</td>\n",
       "      <td>0.000000e+00</td>\n",
       "    </tr>\n",
       "    <tr>\n",
       "      <th>25%</th>\n",
       "      <td>16.000000</td>\n",
       "      <td>NaN</td>\n",
       "    </tr>\n",
       "    <tr>\n",
       "      <th>50%</th>\n",
       "      <td>31.000000</td>\n",
       "      <td>NaN</td>\n",
       "    </tr>\n",
       "    <tr>\n",
       "      <th>75%</th>\n",
       "      <td>48.000000</td>\n",
       "      <td>NaN</td>\n",
       "    </tr>\n",
       "    <tr>\n",
       "      <th>max</th>\n",
       "      <td>109.000000</td>\n",
       "      <td>1.000000e+12</td>\n",
       "    </tr>\n",
       "  </tbody>\n",
       "</table>\n",
       "</div>"
      ],
      "text/plain": [
       "               V8005         V4750\n",
       "count  362555.000000  3.618360e+05\n",
       "mean       33.049813  4.899181e+10\n",
       "std        20.870874  2.158512e+11\n",
       "min         0.000000  0.000000e+00\n",
       "25%        16.000000           NaN\n",
       "50%        31.000000           NaN\n",
       "75%        48.000000           NaN\n",
       "max       109.000000  1.000000e+12"
      ]
     },
     "execution_count": 288,
     "metadata": {},
     "output_type": "execute_result"
    }
   ],
   "source": [
    "D.describe()"
   ]
  },
  {
   "cell_type": "code",
   "execution_count": 289,
   "metadata": {
    "collapsed": true
   },
   "outputs": [],
   "source": [
    "import numpy as np"
   ]
  },
  {
   "cell_type": "code",
   "execution_count": 290,
   "metadata": {
    "collapsed": false
   },
   "outputs": [
    {
     "name": "stdout",
     "output_type": "stream",
     "text": [
      "0.18102541364\n"
     ]
    }
   ],
   "source": [
    "quantidade_classes = np.sqrt(362555)\n",
    "delta = 109\n",
    "\n",
    "amplitude_sugerida = delta/quantidade_classes\n",
    "print(amplitude_sugerida)"
   ]
  },
  {
   "cell_type": "code",
   "execution_count": 291,
   "metadata": {
    "collapsed": false
   },
   "outputs": [],
   "source": [
    "amplitude_sugerida = 10\n",
    "faixa = np.arange(0,110,amplitude_sugerida)"
   ]
  },
  {
   "cell_type": "code",
   "execution_count": 292,
   "metadata": {
    "collapsed": false
   },
   "outputs": [
    {
     "data": {
      "text/plain": [
       "(10, 20]     63033\n",
       "(20, 30]     57799\n",
       "(30, 40]     56519\n",
       "(0, 10]      52862\n",
       "(40, 50]     47981\n",
       "(50, 60]     37869\n",
       "(60, 70]     23828\n",
       "(70, 80]     12750\n",
       "(80, 90]      4542\n",
       "(90, 100]      692\n",
       "Name: V8005, dtype: int64"
      ]
     },
     "execution_count": 292,
     "metadata": {},
     "output_type": "execute_result"
    }
   ],
   "source": [
    "varCat_idade = pd.cut(D.V8005,faixa)\n",
    "varCat_idade.value_counts()"
   ]
  },
  {
   "cell_type": "code",
   "execution_count": 293,
   "metadata": {
    "collapsed": false
   },
   "outputs": [
    {
     "data": {
      "image/png": "[encoded data removed]",
      "text/plain": [
       "<matplotlib.figure.Figure at 0x129ccf978>"
      ]
     },
     "metadata": {},
     "output_type": "display_data"
    }
   ],
   "source": [
    "plot = D.V8005.plot.hist(bins=faixa, title='Idades', normed=1)"
   ]
  },
  {
   "cell_type": "code",
   "execution_count": 294,
   "metadata": {
    "collapsed": false
   },
   "outputs": [
    {
     "name": "stdout",
     "output_type": "stream",
     "text": [
      "A média das idades são:  33.04981313180069\n",
      "A mediana das idades é:  31.0\n"
     ]
    }
   ],
   "source": [
    "print('A média das idades são: ',D.V8005.mean())\n",
    "print('A mediana das idades é: ',D.V8005.median())"
   ]
  },
  {
   "cell_type": "code",
   "execution_count": 295,
   "metadata": {
    "collapsed": false
   },
   "outputs": [
    {
     "data": {
      "text/plain": [
       "<matplotlib.axes._subplots.AxesSubplot at 0x115205c88>"
      ]
     },
     "execution_count": 295,
     "metadata": {},
     "output_type": "execute_result"
    },
    {
     "data": {
      "image/png": "[encoded data removed]",
      "text/plain": [
       "<matplotlib.figure.Figure at 0x115206c18>"
      ]
     },
     "metadata": {},
     "output_type": "display_data"
    }
   ],
   "source": [
    "D.V8005.plot(kind='box', title='Idades')"
   ]
  },
  {
   "cell_type": "code",
   "execution_count": 296,
   "metadata": {
    "collapsed": false
   },
   "outputs": [],
   "source": [
    "norte = D[D.UF=='Norte'].V8005\n",
    "sul = D[D.UF=='Sul'].V8005\n",
    "sudeste = D[D.UF=='Sudeste'].V8005\n",
    "centro_oeste = D[D.UF=='Centro-oeste'].V8005\n",
    "nordeste = D[D.UF=='Nordeste'].V8005"
   ]
  },
  {
   "cell_type": "code",
   "execution_count": 297,
   "metadata": {
    "collapsed": false
   },
   "outputs": [
    {
     "data": {
      "text/plain": [
       "<matplotlib.text.Text at 0x113229fd0>"
      ]
     },
     "execution_count": 297,
     "metadata": {},
     "output_type": "execute_result"
    },
    {
     "data": {
      "image/png": "[encoded data removed]",
      "text/plain": [
       "<matplotlib.figure.Figure at 0x1152160b8>"
      ]
     },
     "metadata": {},
     "output_type": "display_data"
    }
   ],
   "source": [
    "norte.plot(kind='box', title='Norte')\n",
    "plt.xlabel('Idade')"
   ]
  },
  {
   "cell_type": "code",
   "execution_count": 298,
   "metadata": {
    "collapsed": false
   },
   "outputs": [
    {
     "data": {
      "text/plain": [
       "<matplotlib.text.Text at 0x132d5c978>"
      ]
     },
     "execution_count": 298,
     "metadata": {},
     "output_type": "execute_result"
    },
    {
     "data": {
      "image/png": "[encoded data removed]",
      "text/plain": [
       "<matplotlib.figure.Figure at 0x1152a3630>"
      ]
     },
     "metadata": {},
     "output_type": "display_data"
    }
   ],
   "source": [
    "sul.plot(kind='box', title='Sul')\n",
    "plt.xlabel('Idade')"
   ]
  },
  {
   "cell_type": "code",
   "execution_count": 299,
   "metadata": {
    "collapsed": false
   },
   "outputs": [
    {
     "data": {
      "text/plain": [
       "<matplotlib.text.Text at 0x1152a3b00>"
      ]
     },
     "execution_count": 299,
     "metadata": {},
     "output_type": "execute_result"
    },
    {
     "data": {
      "image/png": "[encoded data removed]",
      "text/plain": [
       "<matplotlib.figure.Figure at 0x1336f6e10>"
      ]
     },
     "metadata": {},
     "output_type": "display_data"
    }
   ],
   "source": [
    "centro_oeste.plot(kind='box', title='Centro-oeste')\n",
    "plt.xlabel('Idade')"
   ]
  },
  {
   "cell_type": "code",
   "execution_count": 300,
   "metadata": {
    "collapsed": false
   },
   "outputs": [
    {
     "data": {
      "text/plain": [
       "<matplotlib.text.Text at 0x140e7f6d8>"
      ]
     },
     "execution_count": 300,
     "metadata": {},
     "output_type": "execute_result"
    },
    {
     "data": {
      "image/png": "[encoded data removed]",
      "text/plain": [
       "<matplotlib.figure.Figure at 0x140e5f8d0>"
      ]
     },
     "metadata": {},
     "output_type": "display_data"
    }
   ],
   "source": [
    "nordeste.plot(kind='box', title='Nordeste')\n",
    "plt.xlabel('Idade')"
   ]
  },
  {
   "cell_type": "code",
   "execution_count": 301,
   "metadata": {
    "collapsed": false
   },
   "outputs": [
    {
     "data": {
      "text/plain": [
       "<matplotlib.text.Text at 0x112fff898>"
      ]
     },
     "execution_count": 301,
     "metadata": {},
     "output_type": "execute_result"
    },
    {
     "data": {
      "image/png": "[encoded data removed]",
      "text/plain": [
       "<matplotlib.figure.Figure at 0x131ed56d8>"
      ]
     },
     "metadata": {},
     "output_type": "display_data"
    }
   ],
   "source": [
    "sudeste.plot(kind='box', title='Sudeste')\n",
    "plt.xlabel('Idade')"
   ]
  },
  {
   "cell_type": "code",
   "execution_count": 302,
   "metadata": {
    "collapsed": false
   },
   "outputs": [
    {
     "data": {
      "image/png": "[encoded data removed]",
      "text/plain": [
       "<matplotlib.figure.Figure at 0x113030a20>"
      ]
     },
     "metadata": {},
     "output_type": "display_data"
    }
   ],
   "source": [
    "plot = norte.plot.hist(bins=faixa, title='Idades no Norte', color='b', normed=1)"
   ]
  },
  {
   "cell_type": "code",
   "execution_count": 303,
   "metadata": {
    "collapsed": false
   },
   "outputs": [
    {
     "data": {
      "image/png": "[encoded data removed]",
      "text/plain": [
       "<matplotlib.figure.Figure at 0x112ffada0>"
      ]
     },
     "metadata": {},
     "output_type": "display_data"
    }
   ],
   "source": [
    "plot = sul.plot.hist(bins=faixa, title='Idades no Sul', normed=1)"
   ]
  },
  {
   "cell_type": "code",
   "execution_count": 304,
   "metadata": {
    "collapsed": false
   },
   "outputs": [
    {
     "data": {
      "image/png": "[encoded data removed]",
      "text/plain": [
       "<matplotlib.figure.Figure at 0x13fb0e0b8>"
      ]
     },
     "metadata": {},
     "output_type": "display_data"
    }
   ],
   "source": [
    "plot = nordeste.plot.hist(bins=faixa, title='Idades no Nordeste', normed=1, color='green')"
   ]
  },
  {
   "cell_type": "code",
   "execution_count": 305,
   "metadata": {
    "collapsed": false
   },
   "outputs": [
    {
     "data": {
      "image/png": "[encoded data removed]",
      "text/plain": [
       "<matplotlib.figure.Figure at 0x140ea7d30>"
      ]
     },
     "metadata": {},
     "output_type": "display_data"
    }
   ],
   "source": [
    "plot = centro_oeste.plot.hist(bins=faixa, title='Idades no Centro-oeste', normed=1, color='y')"
   ]
  },
  {
   "cell_type": "code",
   "execution_count": 306,
   "metadata": {
    "collapsed": false
   },
   "outputs": [
    {
     "data": {
      "image/png": "[encoded data removed]",
      "text/plain": [
       "<matplotlib.figure.Figure at 0x1335d2a20>"
      ]
     },
     "metadata": {},
     "output_type": "display_data"
    }
   ],
   "source": [
    "plot = sudeste.plot.hist(bins=faixa, title='Idades no Sudeste', normed=1, color='black')"
   ]
  },
  {
   "cell_type": "code",
   "execution_count": 307,
   "metadata": {
    "collapsed": true
   },
   "outputs": [],
   "source": [
    "#Rendimento mensal familiar per capta - V4750 - Variável quantitativa\n",
    "D['V4750'] = dados.V4750"
   ]
  },
  {
   "cell_type": "code",
   "execution_count": 323,
   "metadata": {
    "collapsed": false
   },
   "outputs": [],
   "source": [
    "D.V4750 = D[D.V4750!=999999999999].V4750"
   ]
  },
  {
   "cell_type": "code",
   "execution_count": 324,
   "metadata": {
    "collapsed": false
   },
   "outputs": [
    {
     "data": {
      "text/html": [
       "<div>\n",
       "<table border=\"1\" class=\"dataframe\">\n",
       "  <thead>\n",
       "    <tr style=\"text-align: right;\">\n",
       "      <th></th>\n",
       "      <th>V0302</th>\n",
       "      <th>V0404</th>\n",
       "      <th>V6002</th>\n",
       "      <th>V4802</th>\n",
       "      <th>UF</th>\n",
       "      <th>V0501</th>\n",
       "      <th>V4011</th>\n",
       "      <th>V8005</th>\n",
       "      <th>V4750</th>\n",
       "    </tr>\n",
       "  </thead>\n",
       "  <tbody>\n",
       "    <tr>\n",
       "      <th>1</th>\n",
       "      <td>Feminino</td>\n",
       "      <td>Branca</td>\n",
       "      <td>NaN</td>\n",
       "      <td>Ensino superior</td>\n",
       "      <td>Norte</td>\n",
       "      <td>Não nasceu</td>\n",
       "      <td>Divorciado(a)</td>\n",
       "      <td>42</td>\n",
       "      <td>350.0</td>\n",
       "    </tr>\n",
       "    <tr>\n",
       "      <th>2</th>\n",
       "      <td>Feminino</td>\n",
       "      <td>Parda</td>\n",
       "      <td>NaN</td>\n",
       "      <td>Ensino superior</td>\n",
       "      <td>Norte</td>\n",
       "      <td>Não nasceu</td>\n",
       "      <td>Viúvo(a)</td>\n",
       "      <td>64</td>\n",
       "      <td>339.0</td>\n",
       "    </tr>\n",
       "    <tr>\n",
       "      <th>3</th>\n",
       "      <td>Feminino</td>\n",
       "      <td>Preta</td>\n",
       "      <td>Pública</td>\n",
       "      <td>Ensino fundamental</td>\n",
       "      <td>Norte</td>\n",
       "      <td>Nasceu</td>\n",
       "      <td>Solteiro</td>\n",
       "      <td>13</td>\n",
       "      <td>339.0</td>\n",
       "    </tr>\n",
       "    <tr>\n",
       "      <th>4</th>\n",
       "      <td>Masculino</td>\n",
       "      <td>Parda</td>\n",
       "      <td>NaN</td>\n",
       "      <td>Ensino superior</td>\n",
       "      <td>Norte</td>\n",
       "      <td>Não nasceu</td>\n",
       "      <td>Solteiro</td>\n",
       "      <td>23</td>\n",
       "      <td>266.0</td>\n",
       "    </tr>\n",
       "    <tr>\n",
       "      <th>5</th>\n",
       "      <td>Feminino</td>\n",
       "      <td>Parda</td>\n",
       "      <td>Privada</td>\n",
       "      <td>Ensino superior</td>\n",
       "      <td>Norte</td>\n",
       "      <td>Nasceu</td>\n",
       "      <td>Solteiro</td>\n",
       "      <td>19</td>\n",
       "      <td>266.0</td>\n",
       "    </tr>\n",
       "  </tbody>\n",
       "</table>\n",
       "</div>"
      ],
      "text/plain": [
       "       V0302   V0404    V6002               V4802     UF       V0501  \\\n",
       "1   Feminino  Branca      NaN     Ensino superior  Norte  Não nasceu   \n",
       "2   Feminino   Parda      NaN     Ensino superior  Norte  Não nasceu   \n",
       "3   Feminino   Preta  Pública  Ensino fundamental  Norte      Nasceu   \n",
       "4  Masculino   Parda      NaN     Ensino superior  Norte  Não nasceu   \n",
       "5   Feminino   Parda  Privada     Ensino superior  Norte      Nasceu   \n",
       "\n",
       "           V4011  V8005  V4750  \n",
       "1  Divorciado(a)     42  350.0  \n",
       "2       Viúvo(a)     64  339.0  \n",
       "3       Solteiro     13  339.0  \n",
       "4       Solteiro     23  266.0  \n",
       "5       Solteiro     19  266.0  "
      ]
     },
     "execution_count": 324,
     "metadata": {},
     "output_type": "execute_result"
    }
   ],
   "source": [
    "D.head()"
   ]
  },
  {
   "cell_type": "code",
   "execution_count": 325,
   "metadata": {
    "collapsed": false
   },
   "outputs": [
    {
     "name": "stderr",
     "output_type": "stream",
     "text": [
      "/Users/AndreEjz/anaconda/lib/python3.5/site-packages/numpy/lib/function_base.py:3834: RuntimeWarning: Invalid value encountered in percentile\n",
      "  RuntimeWarning)\n"
     ]
    },
    {
     "data": {
      "text/html": [
       "<div>\n",
       "<table border=\"1\" class=\"dataframe\">\n",
       "  <thead>\n",
       "    <tr style=\"text-align: right;\">\n",
       "      <th></th>\n",
       "      <th>V8005</th>\n",
       "      <th>V4750</th>\n",
       "    </tr>\n",
       "  </thead>\n",
       "  <tbody>\n",
       "    <tr>\n",
       "      <th>count</th>\n",
       "      <td>362555.000000</td>\n",
       "      <td>344109.000000</td>\n",
       "    </tr>\n",
       "    <tr>\n",
       "      <th>mean</th>\n",
       "      <td>33.049813</td>\n",
       "      <td>923.229221</td>\n",
       "    </tr>\n",
       "    <tr>\n",
       "      <th>std</th>\n",
       "      <td>20.870874</td>\n",
       "      <td>1483.892457</td>\n",
       "    </tr>\n",
       "    <tr>\n",
       "      <th>min</th>\n",
       "      <td>0.000000</td>\n",
       "      <td>0.000000</td>\n",
       "    </tr>\n",
       "    <tr>\n",
       "      <th>25%</th>\n",
       "      <td>16.000000</td>\n",
       "      <td>NaN</td>\n",
       "    </tr>\n",
       "    <tr>\n",
       "      <th>50%</th>\n",
       "      <td>31.000000</td>\n",
       "      <td>NaN</td>\n",
       "    </tr>\n",
       "    <tr>\n",
       "      <th>75%</th>\n",
       "      <td>48.000000</td>\n",
       "      <td>NaN</td>\n",
       "    </tr>\n",
       "    <tr>\n",
       "      <th>max</th>\n",
       "      <td>109.000000</td>\n",
       "      <td>82000.000000</td>\n",
       "    </tr>\n",
       "  </tbody>\n",
       "</table>\n",
       "</div>"
      ],
      "text/plain": [
       "               V8005          V4750\n",
       "count  362555.000000  344109.000000\n",
       "mean       33.049813     923.229221\n",
       "std        20.870874    1483.892457\n",
       "min         0.000000       0.000000\n",
       "25%        16.000000            NaN\n",
       "50%        31.000000            NaN\n",
       "75%        48.000000            NaN\n",
       "max       109.000000   82000.000000"
      ]
     },
     "execution_count": 325,
     "metadata": {},
     "output_type": "execute_result"
    }
   ],
   "source": [
    "D.describe()"
   ]
  },
  {
   "cell_type": "code",
   "execution_count": 326,
   "metadata": {
    "collapsed": false
   },
   "outputs": [
    {
     "name": "stdout",
     "output_type": "stream",
     "text": [
      "136.184256133\n"
     ]
    }
   ],
   "source": [
    "quantidade_classes = np.sqrt(362555)\n",
    "delta = 82000\n",
    "\n",
    "amplitude_sugerida = delta/quantidade_classes\n",
    "print(amplitude_sugerida)"
   ]
  },
  {
   "cell_type": "code",
   "execution_count": 329,
   "metadata": {
    "collapsed": false
   },
   "outputs": [],
   "source": [
    "#Caso não goste do resultado\n",
    "amplitude_sugerida = 500\n",
    "faixa = np.arange(0,15000,amplitude_sugerida)"
   ]
  },
  {
   "cell_type": "code",
   "execution_count": 330,
   "metadata": {
    "collapsed": false
   },
   "outputs": [
    {
     "data": {
      "text/plain": [
       "(0, 500]          150506\n",
       "(500, 1000]       103003\n",
       "(1000, 1500]       37845\n",
       "(1500, 2000]       16398\n",
       "(2000, 2500]        8383\n",
       "(2500, 3000]        5546\n",
       "(3000, 3500]        3376\n",
       "(3500, 4000]        2664\n",
       "(4000, 4500]        1629\n",
       "(4500, 5000]        1606\n",
       "(5000, 5500]         931\n",
       "(5500, 6000]         849\n",
       "(6500, 7000]         620\n",
       "(6000, 6500]         570\n",
       "(7500, 8000]         432\n",
       "(7000, 7500]         390\n",
       "(9500, 10000]        317\n",
       "(8000, 8500]         307\n",
       "(8500, 9000]         258\n",
       "(9000, 9500]         193\n",
       "(10000, 10500]       169\n",
       "(10500, 11000]       118\n",
       "(11500, 12000]       117\n",
       "(11000, 11500]       113\n",
       "(12000, 12500]        95\n",
       "(13000, 13500]        84\n",
       "(12500, 13000]        79\n",
       "(13500, 14000]        75\n",
       "(14000, 14500]        33\n",
       "Name: V4750, dtype: int64"
      ]
     },
     "execution_count": 330,
     "metadata": {},
     "output_type": "execute_result"
    }
   ],
   "source": [
    "varCat_idade = pd.cut(D.V4750,faixa)\n",
    "varCat_idade.value_counts()"
   ]
  },
  {
   "cell_type": "code",
   "execution_count": 331,
   "metadata": {
    "collapsed": false
   },
   "outputs": [
    {
     "data": {
      "image/png": "[encoded data removed]",
      "text/plain": [
       "<matplotlib.figure.Figure at 0x132518b70>"
      ]
     },
     "metadata": {},
     "output_type": "display_data"
    }
   ],
   "source": [
    "plot = D.V4750.plot.hist(bins=faixa, title='Renda Mensal', normed=1)"
   ]
  },
  {
   "cell_type": "code",
   "execution_count": 332,
   "metadata": {
    "collapsed": false
   },
   "outputs": [
    {
     "name": "stdout",
     "output_type": "stream",
     "text": [
      "A média das rendas mensais são:  923.2292209735868\n",
      "A mediana das rendas mensais é:  563.0\n"
     ]
    }
   ],
   "source": [
    "print('A média das rendas mensais são: ',D.V4750.mean())\n",
    "print('A mediana das rendas mensais é: ',D.V4750.median())"
   ]
  },
  {
   "cell_type": "code",
   "execution_count": 344,
   "metadata": {
    "collapsed": false
   },
   "outputs": [
    {
     "data": {
      "text/plain": [
       "[-4, 7.5, 0, 2100]"
      ]
     },
     "execution_count": 344,
     "metadata": {},
     "output_type": "execute_result"
    },
    {
     "data": {
      "image/png": "[encoded data removed]",
      "text/plain": [
       "<matplotlib.figure.Figure at 0x1130afcc0>"
      ]
     },
     "metadata": {},
     "output_type": "display_data"
    }
   ],
   "source": [
    "D.V4750.plot(kind='box', title='Renda Mensal')\n",
    "plt.axis([-4,7.5,0,2100])"
   ]
  },
  {
   "cell_type": "code",
   "execution_count": 334,
   "metadata": {
    "collapsed": false
   },
   "outputs": [],
   "source": [
    "norte = D[D.UF=='Norte'].V4750\n",
    "sul = D[D.UF=='Sul'].V4750\n",
    "sudeste = D[D.UF=='Sudeste'].V4750\n",
    "centro_oeste = D[D.UF=='Centro-oeste'].V4750\n",
    "nordeste = D[D.UF=='Nordeste'].V4750"
   ]
  },
  {
   "cell_type": "code",
   "execution_count": 335,
   "metadata": {
    "collapsed": false
   },
   "outputs": [
    {
     "data": {
      "image/png": "[encoded data removed]",
      "text/plain": [
       "<matplotlib.figure.Figure at 0x1339386a0>"
      ]
     },
     "metadata": {},
     "output_type": "display_data"
    }
   ],
   "source": [
    "plot = norte.plot.hist(bins=faixa, title='Renda Mensal - Norte', color='b', normed=1)"
   ]
  },
  {
   "cell_type": "code",
   "execution_count": 336,
   "metadata": {
    "collapsed": false
   },
   "outputs": [
    {
     "data": {
      "image/png": "[encoded data removed]",
      "text/plain": [
       "<matplotlib.figure.Figure at 0x15143a710>"
      ]
     },
     "metadata": {},
     "output_type": "display_data"
    }
   ],
   "source": [
    "plot = nordeste.plot.hist(bins=faixa, title='Renda Mensal - Nordeste', color='r', normed=1)"
   ]
  },
  {
   "cell_type": "code",
   "execution_count": 337,
   "metadata": {
    "collapsed": false
   },
   "outputs": [
    {
     "data": {
      "image/png": "[encoded data removed]",
      "text/plain": [
       "<matplotlib.figure.Figure at 0x13f97b4e0>"
      ]
     },
     "metadata": {},
     "output_type": "display_data"
    }
   ],
   "source": [
    "plot = sul.plot.hist(bins=faixa, title='Renda Mensal - Sul', color='g', normed=1)"
   ]
  },
  {
   "cell_type": "code",
   "execution_count": 338,
   "metadata": {
    "collapsed": false
   },
   "outputs": [
    {
     "data": {
      "image/png": "[encoded data removed]",
      "text/plain": [
       "<matplotlib.figure.Figure at 0x14a639da0>"
      ]
     },
     "metadata": {},
     "output_type": "display_data"
    }
   ],
   "source": [
    "plot = sudeste.plot.hist(bins=faixa, title='Renda Mensal - Sudeste', color='y', normed=1)"
   ]
  },
  {
   "cell_type": "code",
   "execution_count": 339,
   "metadata": {
    "collapsed": false
   },
   "outputs": [
    {
     "data": {
      "image/png": "[encoded data removed]",
      "text/plain": [
       "<matplotlib.figure.Figure at 0x1326572e8>"
      ]
     },
     "metadata": {},
     "output_type": "display_data"
    }
   ],
   "source": [
    "plot = centro_oeste.plot.hist(bins=faixa, title='Renda Mensal - Centro-oeste', color='salmon', normed=1)"
   ]
  },
  {
   "cell_type": "markdown",
   "metadata": {},
   "source": [
    "### As váriaveis escolhidas foram:\n",
    "\n",
    "Sexo\n",
    "\n",
    "Cor/Raça\n",
    "\n",
    "Rede de Ensino\n",
    "\n",
    "Nível de Ensino\n",
    "\n",
    "UF\n",
    "\n",
    "Nasceu no municipio de residência\n",
    "\n",
    "Estado Civil\n",
    "\n",
    "Idade\n",
    "\n",
    "Renda Mensal"
   ]
  },
  {
   "cell_type": "markdown",
   "metadata": {},
   "source": [
    "### Motivos\n",
    "\n",
    "Tais váriaveis forma escolhidas por diversos motivos. Dentre eles esta o fato de que por exemplo, saber qual a rede de ensino e o nivel de ensino das pessoas faz com que o Sr Gold saiba qual o nível de ensino que sua universidade poderá ter.\n",
    "\n",
    "Saber se uma pessoa nasceu ou não no município de residência faz com que ele tenha que se planejar para talvez fazer lugares para as pessoas morarem caso isso aconteça em grande quantidade.\n",
    "\n",
    "Saber se uma pessoa é casada ou não faz com que o Sr Gold saiba qual vai ser o comprometimento da pessoa com a faculdae, considerando que uma pessoa deva trabalhar para sustentar sua família, podendo vir a deixar os estudos como segunda opção.\n",
    "\n",
    "Saber a idade faz com  que ele saiba onde será o melhor lugar para instalar sua universidade, considerando que normalmente quem vai para a faculdade tem entre 18 e 30 anos. Assim pode verificar qual o melhor lugar em relação a isso.\n",
    "\n",
    "Sabendo a renda mensal familiar por capta, o Sr Gold pode ter uma noção de quanto poderá cobrar a mensalidade em sua universidade, e também saberá quanto dinheiro poderá investir."
   ]
  },
  {
   "cell_type": "markdown",
   "metadata": {},
   "source": [
    "### Conclusão\n",
    "\n",
    "Com todas as váriaveis analisadas, a conclusão chegada é que a universidade do Sr Gold deveria ser construida no Sudeste pois assim seu investimento poderá ter mais chances de dar certo, além de ter a chance de virar uma das melhores universidades."
   ]
  }
 ],
 "metadata": {
  "anaconda-cloud": {},
  "kernelspec": {
   "display_name": "Python [Root]",
   "language": "python",
   "name": "Python [Root]"
  },
  "language_info": {
   "codemirror_mode": {
    "name": "ipython",
    "version": 3
   },
   "file_extension": ".py",
   "mimetype": "text/x-python",
   "name": "python",
   "nbconvert_exporter": "python",
   "pygments_lexer": "ipython3",
   "version": "3.5.2"
  }
 },
 "nbformat": 4,
 "nbformat_minor": 0
}
