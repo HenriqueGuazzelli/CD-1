{
 "cells": [
  {
   "cell_type": "markdown",
   "metadata": {},
   "source": [
    "___\n",
    "# Atividade: Variáveis qualitativas com a PNAD (ALUNOS)\n",
    "___\n",
    "\n",
    "## Aula 02\n",
    "\n",
    "\n",
    "**Link úteis:**\n",
    "1.\tLeitura prévia necessária: Magalhães e Lima (7ª. Edição): pág. 9 a 16 – destacando para variáveis qualitativas.\n",
    "2.\t10 Minutes to Pandas: http://pandas.pydata.org/pandas-docs/stable/10min.html\n",
    "3.\tEssential Basic Functionality: http://pandas.pydata.org/pandas-docs/stable/basics.html\n",
    "4.  Estude a aula `Aula02 Análise Exploratoria Variáveis Qualitativas-ALUNOS.ipynb`, o qual contém uma introdução ao Jupyter Notebook. A publicação dessa aula tem como objetivo auxiliá-lo, caso queira, no desenvolvimento dos seus próximos programas, como esta atividade.\n",
    "\n",
    "**Hoje:**\n",
    "1.\tAnalisar variáveis qualitativas de forma uni e bivariadas utilizando tabelas de frequências e gráficos de barras e de pizza (ou setor).\n",
    "2.  Trabalhar com a base de dados da PNAD 2013 - Pesquisa Nacional por Amostra de Domicílios\n",
    "\n",
    "**Próxima aula:**\n",
    "1.\tLeitura prévia necessária: Magalhães e Lima (7ª. Edição): pág. 9 a 17 – destacando para variáveis quantitativas; pág. 106 e 107 (Definição 4.1 e Exemplo 4.1).\n",
    "\n",
    "___\n"
   ]
  },
  {
   "cell_type": "markdown",
   "metadata": {},
   "source": [
    "___\n",
    "## <font color='blue'>PNAD 2013 – PESQUISA NACIONAL POR AMOSTRA DE DOMICÍLIOS</font>\n",
    "\n",
    "**Base de dados reduzida: ** `pes2013A.txt` (75 MB)\n",
    "[Acesse a base de dados aqui: https://dl.dropboxusercontent.com/u/65763596/Aula02/pes2013A.txt] \n",
    "\n",
    "**Dicionário das variáveis: ** `Dicionário de variáveis de pessoas - PNAD 2013.xlsx`\n",
    "[Acesse dicionário aqui: https://dl.dropboxusercontent.com/u/65763596/Aula02/Dicion%C3%A1rio%20de%20vari%C3%A1veis%20de%20pessoas%20-%20PNAD%202013.xls]\n",
    "\n",
    "\n",
    "Muitos especialistas na área de negócios dizem que empresários mais bem sucedidos são aqueles que fazem um planejamento antes de começar seu próprio negócio. Nessa visão, imagine que o Sr. Gold tenha como grande objetivo abrir uma nova faculdade e para isso deseja estudar o perfil do estudante que cursa ensino médio ou pré-vestibular e do que cursa ensino superior. \n",
    "\n",
    "Assuma que as variáveis de interesse a respeito dos estudantes sejam relativamente as mesmas de 2013 até o momento atual. Nesse caso, seja criativo para ajudar o Sr. Gold que deseja abrir seu negócio, mas não tem certeza sobre quais variáveis o interessam. \n",
    "\n",
    "Vocês podem ajudá-lo?!  \n",
    "\n",
    "As variáveis a seguir devem fazer parte da sua análise:\n",
    "\n",
    "* V0302: sexo\n",
    "* V0404: cor ou raça\n",
    "* V6002: rede de ensino\n",
    "* V4802: nível de ensino e grupos de séries do ensino fundamental que frequentavam (todos os estudantes)\n",
    "\n",
    "** Crie uma variável com região do indivíduo amostrado considerando a variável `UF` que define o estado e também trabalhe com essa nova variável em suas análises. ** \n",
    "\n",
    "** Escolha mais pelo menos DUAS variáveis qualitativas para completar sua análise!! **\n",
    "\n",
    "Faça uma análise exploratória apenas com as variáveis qualitativas com foco no objetivo do Sr. Gold.\n",
    "\n",
    "Sua análise deve conter pelo menos uma das seguintes visualizações:\n",
    "\n",
    "1. Gráfico de colunas (bar) e setor (pie) com as frequências relativas cadas categorias das variáveis qualitativas.\n",
    "2. Tabela cruzada entre pares de variaveis qualitativas. Montar o gráfico de colunas. Repetir o processo habilitando a opção \"stacked=True\".\n",
    "\n",
    "\n",
    "___\n",
    "\n",
    "\n",
    "<font color='red'>\n",
    "Crie um repositório chamado CD em seu Github\n",
    "</font>\n",
    "\n",
    "\n",
    "Neste repositório, salve seu trabalho numa pasta chamada aula2\n",
    "\n",
    "Por exemplo, se seu login for *pikachu* o projeto vai estar na pasta:\n",
    "\n",
    "https://github.com/<font color=red>pikachu/CD/aula2</font>\n",
    "\n",
    "\n",
    "\n",
    "## <font color='red'>Terça-feira (dia 16/08), no horário de atendimento da sua turma, deverá apresentar aos NINJAS!!</font>\n",
    "___"
   ]
  },
  {
   "cell_type": "code",
   "execution_count": 1,
   "metadata": {
    "collapsed": false
   },
   "outputs": [],
   "source": [
    "%matplotlib inline\n",
    "import pandas as pd\n",
    "import matplotlib.pyplot as plt\n",
    "import os"
   ]
  },
  {
   "cell_type": "code",
   "execution_count": 2,
   "metadata": {
    "collapsed": false
   },
   "outputs": [
    {
     "name": "stdout",
     "output_type": "stream",
     "text": [
      "Esperamos trabalhar no diretório\n",
      "/Users/AndreEjz/Desktop\n"
     ]
    }
   ],
   "source": [
    "print('Esperamos trabalhar no diretório')\n",
    "print(os.getcwd())"
   ]
  },
  {
   "cell_type": "code",
   "execution_count": 3,
   "metadata": {
    "collapsed": false
   },
   "outputs": [],
   "source": [
    "dados = pd.read_excel('PNAD2013.xlsx')\n",
    "\n",
    "#Criar uma base de dados menor pra facilitar\n",
    "D = pd.DataFrame()"
   ]
  },
  {
   "cell_type": "code",
   "execution_count": 4,
   "metadata": {
    "collapsed": false
   },
   "outputs": [
    {
     "data": {
      "text/html": [
       "<div>\n",
       "<table border=\"1\" class=\"dataframe\">\n",
       "  <thead>\n",
       "    <tr style=\"text-align: right;\">\n",
       "      <th></th>\n",
       "      <th>V0101</th>\n",
       "      <th>UF</th>\n",
       "      <th>V0102</th>\n",
       "      <th>V0103</th>\n",
       "      <th>V0301</th>\n",
       "      <th>V0302</th>\n",
       "      <th>V8005</th>\n",
       "      <th>V0404</th>\n",
       "      <th>V4011</th>\n",
       "      <th>V0412</th>\n",
       "      <th>...</th>\n",
       "      <th>V4706</th>\n",
       "      <th>V4707</th>\n",
       "      <th>V4809</th>\n",
       "      <th>V4810</th>\n",
       "      <th>V4711</th>\n",
       "      <th>V4718</th>\n",
       "      <th>V4720</th>\n",
       "      <th>V4742</th>\n",
       "      <th>V4750</th>\n",
       "      <th>V4729</th>\n",
       "    </tr>\n",
       "  </thead>\n",
       "  <tbody>\n",
       "    <tr>\n",
       "      <th>1</th>\n",
       "      <td>2013</td>\n",
       "      <td>11</td>\n",
       "      <td>15</td>\n",
       "      <td>3</td>\n",
       "      <td>1</td>\n",
       "      <td>4</td>\n",
       "      <td>42</td>\n",
       "      <td>2</td>\n",
       "      <td>5.0</td>\n",
       "      <td>2</td>\n",
       "      <td>...</td>\n",
       "      <td>NaN</td>\n",
       "      <td>NaN</td>\n",
       "      <td>NaN</td>\n",
       "      <td>NaN</td>\n",
       "      <td>NaN</td>\n",
       "      <td>NaN</td>\n",
       "      <td>350.0</td>\n",
       "      <td>350.0</td>\n",
       "      <td>350.0</td>\n",
       "      <td>244</td>\n",
       "    </tr>\n",
       "    <tr>\n",
       "      <th>2</th>\n",
       "      <td>2013</td>\n",
       "      <td>11</td>\n",
       "      <td>15</td>\n",
       "      <td>4</td>\n",
       "      <td>1</td>\n",
       "      <td>4</td>\n",
       "      <td>64</td>\n",
       "      <td>8</td>\n",
       "      <td>7.0</td>\n",
       "      <td>2</td>\n",
       "      <td>...</td>\n",
       "      <td>NaN</td>\n",
       "      <td>NaN</td>\n",
       "      <td>NaN</td>\n",
       "      <td>NaN</td>\n",
       "      <td>NaN</td>\n",
       "      <td>NaN</td>\n",
       "      <td>678.0</td>\n",
       "      <td>339.0</td>\n",
       "      <td>339.0</td>\n",
       "      <td>243</td>\n",
       "    </tr>\n",
       "    <tr>\n",
       "      <th>3</th>\n",
       "      <td>2013</td>\n",
       "      <td>11</td>\n",
       "      <td>15</td>\n",
       "      <td>4</td>\n",
       "      <td>2</td>\n",
       "      <td>4</td>\n",
       "      <td>13</td>\n",
       "      <td>4</td>\n",
       "      <td>0.0</td>\n",
       "      <td>2</td>\n",
       "      <td>...</td>\n",
       "      <td>NaN</td>\n",
       "      <td>NaN</td>\n",
       "      <td>NaN</td>\n",
       "      <td>NaN</td>\n",
       "      <td>NaN</td>\n",
       "      <td>NaN</td>\n",
       "      <td>0.0</td>\n",
       "      <td>339.0</td>\n",
       "      <td>339.0</td>\n",
       "      <td>243</td>\n",
       "    </tr>\n",
       "    <tr>\n",
       "      <th>4</th>\n",
       "      <td>2013</td>\n",
       "      <td>11</td>\n",
       "      <td>15</td>\n",
       "      <td>5</td>\n",
       "      <td>1</td>\n",
       "      <td>2</td>\n",
       "      <td>23</td>\n",
       "      <td>8</td>\n",
       "      <td>0.0</td>\n",
       "      <td>2</td>\n",
       "      <td>...</td>\n",
       "      <td>1.0</td>\n",
       "      <td>3.0</td>\n",
       "      <td>5.0</td>\n",
       "      <td>5.0</td>\n",
       "      <td>1.0</td>\n",
       "      <td>800.0</td>\n",
       "      <td>800.0</td>\n",
       "      <td>266.0</td>\n",
       "      <td>266.0</td>\n",
       "      <td>243</td>\n",
       "    </tr>\n",
       "    <tr>\n",
       "      <th>5</th>\n",
       "      <td>2013</td>\n",
       "      <td>11</td>\n",
       "      <td>15</td>\n",
       "      <td>5</td>\n",
       "      <td>2</td>\n",
       "      <td>4</td>\n",
       "      <td>19</td>\n",
       "      <td>8</td>\n",
       "      <td>0.0</td>\n",
       "      <td>2</td>\n",
       "      <td>...</td>\n",
       "      <td>NaN</td>\n",
       "      <td>NaN</td>\n",
       "      <td>NaN</td>\n",
       "      <td>NaN</td>\n",
       "      <td>NaN</td>\n",
       "      <td>NaN</td>\n",
       "      <td>0.0</td>\n",
       "      <td>266.0</td>\n",
       "      <td>266.0</td>\n",
       "      <td>243</td>\n",
       "    </tr>\n",
       "  </tbody>\n",
       "</table>\n",
       "<p>5 rows × 72 columns</p>\n",
       "</div>"
      ],
      "text/plain": [
       "   V0101  UF  V0102  V0103  V0301  V0302  V8005  V0404  V4011  V0412  ...    \\\n",
       "1   2013  11     15      3      1      4     42      2    5.0      2  ...     \n",
       "2   2013  11     15      4      1      4     64      8    7.0      2  ...     \n",
       "3   2013  11     15      4      2      4     13      4    0.0      2  ...     \n",
       "4   2013  11     15      5      1      2     23      8    0.0      2  ...     \n",
       "5   2013  11     15      5      2      4     19      8    0.0      2  ...     \n",
       "\n",
       "   V4706  V4707  V4809  V4810  V4711  V4718  V4720  V4742  V4750  V4729  \n",
       "1    NaN    NaN    NaN    NaN    NaN    NaN  350.0  350.0  350.0    244  \n",
       "2    NaN    NaN    NaN    NaN    NaN    NaN  678.0  339.0  339.0    243  \n",
       "3    NaN    NaN    NaN    NaN    NaN    NaN    0.0  339.0  339.0    243  \n",
       "4    1.0    3.0    5.0    5.0    1.0  800.0  800.0  266.0  266.0    243  \n",
       "5    NaN    NaN    NaN    NaN    NaN    NaN    0.0  266.0  266.0    243  \n",
       "\n",
       "[5 rows x 72 columns]"
      ]
     },
     "execution_count": 4,
     "metadata": {},
     "output_type": "execute_result"
    }
   ],
   "source": [
    "dados.head()"
   ]
  },
  {
   "cell_type": "code",
   "execution_count": 7,
   "metadata": {
    "collapsed": false
   },
   "outputs": [
    {
     "data": {
      "text/plain": [
       "(362555, 72)"
      ]
     },
     "execution_count": 7,
     "metadata": {},
     "output_type": "execute_result"
    }
   ],
   "source": [
    "dados.shape"
   ]
  },
  {
   "cell_type": "code",
   "execution_count": 173,
   "metadata": {
    "collapsed": true
   },
   "outputs": [],
   "source": [
    "D['V0302'] = dados.V0302 #Sexo\n",
    "D['V0404'] = dados.V0404 #Cor ou Raça\n",
    "D['V6002'] = dados.V6002 #Rede de ensino\n",
    "D['V4802'] = dados.V4802 #Nível de ensino\n",
    "D['UF'] = dados.UF #UF\n",
    "D['V0501'] = dados.V0501 #Nasceu no município de residencia - Váriavel extra\n",
    "D['V4011'] = dados.V4011 #Estado civil - Váriavel extra"
   ]
  },
  {
   "cell_type": "code",
   "execution_count": 174,
   "metadata": {
    "collapsed": true
   },
   "outputs": [],
   "source": [
    "D.V0302 = D.V0302.astype('category')\n",
    "D.V0404 = D.V0404.astype('category')\n",
    "D.V6002 = D.V6002.astype('category')\n",
    "D.V0501 = D.V0501.astype('category')\n",
    "D.V4011 = D.V4011.astype('category')"
   ]
  },
  {
   "cell_type": "code",
   "execution_count": 175,
   "metadata": {
    "collapsed": false
   },
   "outputs": [
    {
     "data": {
      "text/plain": [
       "(362555, 7)"
      ]
     },
     "execution_count": 175,
     "metadata": {},
     "output_type": "execute_result"
    }
   ],
   "source": [
    "D.shape"
   ]
  },
  {
   "cell_type": "code",
   "execution_count": 176,
   "metadata": {
    "collapsed": false
   },
   "outputs": [
    {
     "data": {
      "text/html": [
       "<div>\n",
       "<table border=\"1\" class=\"dataframe\">\n",
       "  <thead>\n",
       "    <tr style=\"text-align: right;\">\n",
       "      <th></th>\n",
       "      <th>V0302</th>\n",
       "      <th>V0404</th>\n",
       "      <th>V6002</th>\n",
       "      <th>V4802</th>\n",
       "      <th>UF</th>\n",
       "      <th>V0501</th>\n",
       "      <th>V4011</th>\n",
       "    </tr>\n",
       "  </thead>\n",
       "  <tbody>\n",
       "    <tr>\n",
       "      <th>1</th>\n",
       "      <td>Feminino</td>\n",
       "      <td>Branca</td>\n",
       "      <td>NaN</td>\n",
       "      <td>NaN</td>\n",
       "      <td>11</td>\n",
       "      <td>Não nasceu</td>\n",
       "      <td>Divorciado(a)</td>\n",
       "    </tr>\n",
       "    <tr>\n",
       "      <th>2</th>\n",
       "      <td>Feminino</td>\n",
       "      <td>Parda</td>\n",
       "      <td>NaN</td>\n",
       "      <td>NaN</td>\n",
       "      <td>11</td>\n",
       "      <td>Não nasceu</td>\n",
       "      <td>Viúvo(a)</td>\n",
       "    </tr>\n",
       "    <tr>\n",
       "      <th>3</th>\n",
       "      <td>Feminino</td>\n",
       "      <td>Preta</td>\n",
       "      <td>Pública</td>\n",
       "      <td>8.0</td>\n",
       "      <td>11</td>\n",
       "      <td>Nasceu</td>\n",
       "      <td>Solteiro</td>\n",
       "    </tr>\n",
       "    <tr>\n",
       "      <th>4</th>\n",
       "      <td>Masculino</td>\n",
       "      <td>Parda</td>\n",
       "      <td>NaN</td>\n",
       "      <td>NaN</td>\n",
       "      <td>11</td>\n",
       "      <td>Não nasceu</td>\n",
       "      <td>Solteiro</td>\n",
       "    </tr>\n",
       "    <tr>\n",
       "      <th>5</th>\n",
       "      <td>Feminino</td>\n",
       "      <td>Parda</td>\n",
       "      <td>Privada</td>\n",
       "      <td>11.0</td>\n",
       "      <td>11</td>\n",
       "      <td>Nasceu</td>\n",
       "      <td>Solteiro</td>\n",
       "    </tr>\n",
       "  </tbody>\n",
       "</table>\n",
       "</div>"
      ],
      "text/plain": [
       "       V0302   V0404    V6002  V4802  UF       V0501          V4011\n",
       "1   Feminino  Branca      NaN    NaN  11  Não nasceu  Divorciado(a)\n",
       "2   Feminino   Parda      NaN    NaN  11  Não nasceu       Viúvo(a)\n",
       "3   Feminino   Preta  Pública    8.0  11      Nasceu       Solteiro\n",
       "4  Masculino   Parda      NaN    NaN  11  Não nasceu       Solteiro\n",
       "5   Feminino   Parda  Privada   11.0  11      Nasceu       Solteiro"
      ]
     },
     "execution_count": 176,
     "metadata": {},
     "output_type": "execute_result"
    }
   ],
   "source": [
    "D.V0302.cat.categories = ('Masculino','Feminino')\n",
    "D.V0404.cat.categories = ('Indígena','Branca','Preta', 'Amarela', 'Parda','NaN')\n",
    "D.V6002.cat.categories = ('Pública','Privada')\n",
    "D.V0501.cat.categories = ('Nasceu','Não nasceu')\n",
    "D.V4011.cat.categories = ('Solteiro','Casado(a)','Desquitado(a)','Divorciado(a)','Viúvo(a)')\n",
    "D.head()"
   ]
  },
  {
   "cell_type": "code",
   "execution_count": 177,
   "metadata": {
    "collapsed": false
   },
   "outputs": [
    {
     "data": {
      "text/html": [
       "<div>\n",
       "<table border=\"1\" class=\"dataframe\">\n",
       "  <thead>\n",
       "    <tr style=\"text-align: right;\">\n",
       "      <th></th>\n",
       "      <th>V0302</th>\n",
       "      <th>V0404</th>\n",
       "      <th>V6002</th>\n",
       "      <th>V4802</th>\n",
       "      <th>UF</th>\n",
       "      <th>V0501</th>\n",
       "      <th>V4011</th>\n",
       "    </tr>\n",
       "  </thead>\n",
       "  <tbody>\n",
       "    <tr>\n",
       "      <th>1</th>\n",
       "      <td>Feminino</td>\n",
       "      <td>Branca</td>\n",
       "      <td>NaN</td>\n",
       "      <td>None</td>\n",
       "      <td>Norte</td>\n",
       "      <td>Não nasceu</td>\n",
       "      <td>Divorciado(a)</td>\n",
       "    </tr>\n",
       "    <tr>\n",
       "      <th>2</th>\n",
       "      <td>Feminino</td>\n",
       "      <td>Parda</td>\n",
       "      <td>NaN</td>\n",
       "      <td>None</td>\n",
       "      <td>Norte</td>\n",
       "      <td>Não nasceu</td>\n",
       "      <td>Viúvo(a)</td>\n",
       "    </tr>\n",
       "    <tr>\n",
       "      <th>3</th>\n",
       "      <td>Feminino</td>\n",
       "      <td>Preta</td>\n",
       "      <td>Pública</td>\n",
       "      <td>Ensino fundamental</td>\n",
       "      <td>Norte</td>\n",
       "      <td>Nasceu</td>\n",
       "      <td>Solteiro</td>\n",
       "    </tr>\n",
       "    <tr>\n",
       "      <th>4</th>\n",
       "      <td>Masculino</td>\n",
       "      <td>Parda</td>\n",
       "      <td>NaN</td>\n",
       "      <td>None</td>\n",
       "      <td>Norte</td>\n",
       "      <td>Não nasceu</td>\n",
       "      <td>Solteiro</td>\n",
       "    </tr>\n",
       "    <tr>\n",
       "      <th>5</th>\n",
       "      <td>Feminino</td>\n",
       "      <td>Parda</td>\n",
       "      <td>Privada</td>\n",
       "      <td>Ensino superior</td>\n",
       "      <td>Norte</td>\n",
       "      <td>Nasceu</td>\n",
       "      <td>Solteiro</td>\n",
       "    </tr>\n",
       "  </tbody>\n",
       "</table>\n",
       "</div>"
      ],
      "text/plain": [
       "       V0302   V0404    V6002               V4802     UF       V0501  \\\n",
       "1   Feminino  Branca      NaN                None  Norte  Não nasceu   \n",
       "2   Feminino   Parda      NaN                None  Norte  Não nasceu   \n",
       "3   Feminino   Preta  Pública  Ensino fundamental  Norte      Nasceu   \n",
       "4  Masculino   Parda      NaN                None  Norte  Não nasceu   \n",
       "5   Feminino   Parda  Privada     Ensino superior  Norte      Nasceu   \n",
       "\n",
       "           V4011  \n",
       "1  Divorciado(a)  \n",
       "2       Viúvo(a)  \n",
       "3       Solteiro  \n",
       "4       Solteiro  \n",
       "5       Solteiro  "
      ]
     },
     "execution_count": 177,
     "metadata": {},
     "output_type": "execute_result"
    }
   ],
   "source": [
    "#11>= até <=17 --->>> Norte\n",
    "#21>= até <=29 --->>> Nordeste\n",
    "#31>= até <=35 --->>> Sudeste\n",
    "#41>= até <=43 --->>> Sul\n",
    "#50>= até <=53 --->>> Centro-oeste\n",
    "def regiao(uf):\n",
    "    if 11<=uf<=17:\n",
    "        return ('Norte')\n",
    "    elif 21<=uf<=29:\n",
    "        return ('Nordeste')\n",
    "    elif 31<=uf<=35:\n",
    "        return ('Sudeste')\n",
    "    elif 41<=uf<=43:\n",
    "        return ('Sul')\n",
    "    elif 50<=uf<=53:\n",
    "        return ('Centro-oeste')\n",
    "    else:\n",
    "        return ('NaN')\n",
    "\n",
    "D.UF = D.UF.map(regiao)\n",
    "\n",
    "def educ(ed):\n",
    "    if ed == 1:\n",
    "        return('Maternal')\n",
    "    elif ed == 2 or ed == 3:\n",
    "        return ('Alfabetização')\n",
    "    elif 4<=ed<=9:\n",
    "        return ('Ensino fundamental')\n",
    "    elif ed == 10:\n",
    "        return ('Ensino médio')\n",
    "    elif ed == 11:\n",
    "        return ('Ensino superior')\n",
    "\n",
    "D.V4802 = D.V4802.map(educ)\n",
    "    \n",
    "D.head()"
   ]
  },
  {
   "cell_type": "code",
   "execution_count": 178,
   "metadata": {
    "collapsed": false
   },
   "outputs": [
    {
     "data": {
      "text/plain": [
       "Feminino     51.427508\n",
       "Masculino    48.572492\n",
       "Name: V0302, dtype: float64"
      ]
     },
     "execution_count": 178,
     "metadata": {},
     "output_type": "execute_result"
    }
   ],
   "source": [
    "sexo = D.V0302.value_counts(True) * 100\n",
    "sexo"
   ]
  },
  {
   "cell_type": "code",
   "execution_count": 179,
   "metadata": {
    "collapsed": false
   },
   "outputs": [
    {
     "data": {
      "text/plain": [
       "Parda       48.004303\n",
       "Branca      42.812263\n",
       "Preta        8.310463\n",
       "Indígena     0.465585\n",
       "Amarela      0.405732\n",
       "NaN          0.001655\n",
       "Name: V0404, dtype: float64"
      ]
     },
     "execution_count": 179,
     "metadata": {},
     "output_type": "execute_result"
    }
   ],
   "source": [
    "cor = D.V0404.value_counts(True) * 100\n",
    "cor"
   ]
  },
  {
   "cell_type": "code",
   "execution_count": 180,
   "metadata": {
    "collapsed": false
   },
   "outputs": [
    {
     "data": {
      "text/plain": [
       "Pública    75.578802\n",
       "Privada    24.421198\n",
       "Name: V6002, dtype: float64"
      ]
     },
     "execution_count": 180,
     "metadata": {},
     "output_type": "execute_result"
    }
   ],
   "source": [
    "instituicao = D.V6002.value_counts(True) * 100\n",
    "instituicao"
   ]
  },
  {
   "cell_type": "code",
   "execution_count": 181,
   "metadata": {
    "collapsed": false
   },
   "outputs": [
    {
     "data": {
      "text/plain": [
       "Ensino fundamental    59.796748\n",
       "Ensino médio          18.010121\n",
       "Ensino superior       14.119985\n",
       "Maternal               6.512538\n",
       "Alfabetização          1.560608\n",
       "Name: V4802, dtype: float64"
      ]
     },
     "execution_count": 181,
     "metadata": {},
     "output_type": "execute_result"
    }
   ],
   "source": [
    "nivel_ensino = D.V4802.value_counts(True) * 100\n",
    "nivel_ensino"
   ]
  },
  {
   "cell_type": "code",
   "execution_count": 182,
   "metadata": {
    "collapsed": false
   },
   "outputs": [
    {
     "data": {
      "text/plain": [
       "Sudeste         28.996428\n",
       "Nordeste        28.849968\n",
       "Norte           16.324971\n",
       "Sul             15.477927\n",
       "Centro-oeste    10.350705\n",
       "Name: UF, dtype: float64"
      ]
     },
     "execution_count": 182,
     "metadata": {},
     "output_type": "execute_result"
    }
   ],
   "source": [
    "regiao_uf = D.UF.value_counts(True) * 100\n",
    "regiao_uf"
   ]
  },
  {
   "cell_type": "code",
   "execution_count": 183,
   "metadata": {
    "collapsed": false
   },
   "outputs": [
    {
     "data": {
      "text/plain": [
       "Solteiro         79.497856\n",
       "Viúvo(a)          7.613966\n",
       "Divorciado(a)     5.567888\n",
       "Casado(a)         5.243420\n",
       "Desquitado(a)     2.076870\n",
       "Name: V4011, dtype: float64"
      ]
     },
     "execution_count": 183,
     "metadata": {},
     "output_type": "execute_result"
    }
   ],
   "source": [
    "EC = D.V4011.value_counts(True) * 100\n",
    "EC"
   ]
  },
  {
   "cell_type": "code",
   "execution_count": 184,
   "metadata": {
    "collapsed": false
   },
   "outputs": [
    {
     "data": {
      "text/plain": [
       "Nasceu        60.315814\n",
       "Não nasceu    39.684186\n",
       "Name: V0501, dtype: float64"
      ]
     },
     "execution_count": 184,
     "metadata": {},
     "output_type": "execute_result"
    }
   ],
   "source": [
    "nascimento = D.V0501.value_counts(True) * 100\n",
    "nascimento"
   ]
  },
  {
   "cell_type": "code",
   "execution_count": 185,
   "metadata": {
    "collapsed": false
   },
   "outputs": [
    {
     "data": {
      "text/html": [
       "<div>\n",
       "<table border=\"1\" class=\"dataframe\">\n",
       "  <thead>\n",
       "    <tr style=\"text-align: right;\">\n",
       "      <th>V4802</th>\n",
       "      <th>Alfabetização</th>\n",
       "      <th>Ensino fundamental</th>\n",
       "      <th>Ensino médio</th>\n",
       "      <th>Ensino superior</th>\n",
       "      <th>Maternal</th>\n",
       "    </tr>\n",
       "    <tr>\n",
       "      <th>V0404</th>\n",
       "      <th></th>\n",
       "      <th></th>\n",
       "      <th></th>\n",
       "      <th></th>\n",
       "      <th></th>\n",
       "    </tr>\n",
       "  </thead>\n",
       "  <tbody>\n",
       "    <tr>\n",
       "      <th>Indígena</th>\n",
       "      <td>0.000052</td>\n",
       "      <td>0.004388</td>\n",
       "      <td>0.000714</td>\n",
       "      <td>0.000424</td>\n",
       "      <td>0.000279</td>\n",
       "    </tr>\n",
       "    <tr>\n",
       "      <th>Branca</th>\n",
       "      <td>0.005154</td>\n",
       "      <td>0.219147</td>\n",
       "      <td>0.072142</td>\n",
       "      <td>0.077254</td>\n",
       "      <td>0.026804</td>\n",
       "    </tr>\n",
       "    <tr>\n",
       "      <th>Preta</th>\n",
       "      <td>0.001387</td>\n",
       "      <td>0.041861</td>\n",
       "      <td>0.013516</td>\n",
       "      <td>0.009449</td>\n",
       "      <td>0.003777</td>\n",
       "    </tr>\n",
       "    <tr>\n",
       "      <th>Amarela</th>\n",
       "      <td>0.000072</td>\n",
       "      <td>0.001583</td>\n",
       "      <td>0.000735</td>\n",
       "      <td>0.000890</td>\n",
       "      <td>0.000135</td>\n",
       "    </tr>\n",
       "    <tr>\n",
       "      <th>Parda</th>\n",
       "      <td>0.008941</td>\n",
       "      <td>0.330988</td>\n",
       "      <td>0.092995</td>\n",
       "      <td>0.053183</td>\n",
       "      <td>0.034131</td>\n",
       "    </tr>\n",
       "    <tr>\n",
       "      <th>NaN</th>\n",
       "      <td>0.000000</td>\n",
       "      <td>0.000000</td>\n",
       "      <td>0.000000</td>\n",
       "      <td>0.000000</td>\n",
       "      <td>0.000000</td>\n",
       "    </tr>\n",
       "  </tbody>\n",
       "</table>\n",
       "</div>"
      ],
      "text/plain": [
       "V4802     Alfabetização  Ensino fundamental  Ensino médio  Ensino superior  \\\n",
       "V0404                                                                        \n",
       "Indígena       0.000052            0.004388      0.000714         0.000424   \n",
       "Branca         0.005154            0.219147      0.072142         0.077254   \n",
       "Preta          0.001387            0.041861      0.013516         0.009449   \n",
       "Amarela        0.000072            0.001583      0.000735         0.000890   \n",
       "Parda          0.008941            0.330988      0.092995         0.053183   \n",
       "NaN            0.000000            0.000000      0.000000         0.000000   \n",
       "\n",
       "V4802     Maternal  \n",
       "V0404               \n",
       "Indígena  0.000279  \n",
       "Branca    0.026804  \n",
       "Preta     0.003777  \n",
       "Amarela   0.000135  \n",
       "Parda     0.034131  \n",
       "NaN       0.000000  "
      ]
     },
     "execution_count": 185,
     "metadata": {},
     "output_type": "execute_result"
    }
   ],
   "source": [
    "#Tabela nível de ensino pela cor/raça.\n",
    "ct = pd.crosstab(D.V0404,D.V4802,normalize=True)\n",
    "ct"
   ]
  },
  {
   "cell_type": "code",
   "execution_count": 186,
   "metadata": {
    "collapsed": false
   },
   "outputs": [],
   "source": [
    "soma = ct.sum().sum()"
   ]
  },
  {
   "cell_type": "code",
   "execution_count": 187,
   "metadata": {
    "collapsed": false
   },
   "outputs": [
    {
     "data": {
      "text/html": [
       "<div>\n",
       "<table border=\"1\" class=\"dataframe\">\n",
       "  <thead>\n",
       "    <tr style=\"text-align: right;\">\n",
       "      <th>V4802</th>\n",
       "      <th>Alfabetização</th>\n",
       "      <th>Ensino fundamental</th>\n",
       "      <th>Ensino médio</th>\n",
       "      <th>Ensino superior</th>\n",
       "      <th>Maternal</th>\n",
       "    </tr>\n",
       "    <tr>\n",
       "      <th>V0404</th>\n",
       "      <th></th>\n",
       "      <th></th>\n",
       "      <th></th>\n",
       "      <th></th>\n",
       "      <th></th>\n",
       "    </tr>\n",
       "  </thead>\n",
       "  <tbody>\n",
       "    <tr>\n",
       "      <th>Indígena</th>\n",
       "      <td>0.005174</td>\n",
       "      <td>0.438792</td>\n",
       "      <td>0.071407</td>\n",
       "      <td>0.042430</td>\n",
       "      <td>0.027942</td>\n",
       "    </tr>\n",
       "    <tr>\n",
       "      <th>Branca</th>\n",
       "      <td>0.515373</td>\n",
       "      <td>21.914746</td>\n",
       "      <td>7.214190</td>\n",
       "      <td>7.725424</td>\n",
       "      <td>2.680355</td>\n",
       "    </tr>\n",
       "    <tr>\n",
       "      <th>Preta</th>\n",
       "      <td>0.138675</td>\n",
       "      <td>4.186114</td>\n",
       "      <td>1.351561</td>\n",
       "      <td>0.944851</td>\n",
       "      <td>0.377733</td>\n",
       "    </tr>\n",
       "    <tr>\n",
       "      <th>Amarela</th>\n",
       "      <td>0.007244</td>\n",
       "      <td>0.158338</td>\n",
       "      <td>0.073477</td>\n",
       "      <td>0.089000</td>\n",
       "      <td>0.013454</td>\n",
       "    </tr>\n",
       "    <tr>\n",
       "      <th>Parda</th>\n",
       "      <td>0.894142</td>\n",
       "      <td>33.098759</td>\n",
       "      <td>9.299486</td>\n",
       "      <td>5.318279</td>\n",
       "      <td>3.413054</td>\n",
       "    </tr>\n",
       "    <tr>\n",
       "      <th>NaN</th>\n",
       "      <td>0.000000</td>\n",
       "      <td>0.000000</td>\n",
       "      <td>0.000000</td>\n",
       "      <td>0.000000</td>\n",
       "      <td>0.000000</td>\n",
       "    </tr>\n",
       "  </tbody>\n",
       "</table>\n",
       "</div>"
      ],
      "text/plain": [
       "V4802     Alfabetização  Ensino fundamental  Ensino médio  Ensino superior  \\\n",
       "V0404                                                                        \n",
       "Indígena       0.005174            0.438792      0.071407         0.042430   \n",
       "Branca         0.515373           21.914746      7.214190         7.725424   \n",
       "Preta          0.138675            4.186114      1.351561         0.944851   \n",
       "Amarela        0.007244            0.158338      0.073477         0.089000   \n",
       "Parda          0.894142           33.098759      9.299486         5.318279   \n",
       "NaN            0.000000            0.000000      0.000000         0.000000   \n",
       "\n",
       "V4802     Maternal  \n",
       "V0404               \n",
       "Indígena  0.027942  \n",
       "Branca    2.680355  \n",
       "Preta     0.377733  \n",
       "Amarela   0.013454  \n",
       "Parda     3.413054  \n",
       "NaN       0.000000  "
      ]
     },
     "execution_count": 187,
     "metadata": {},
     "output_type": "execute_result"
    }
   ],
   "source": [
    "#Tabela em porcentagem\n",
    "ct*100/soma"
   ]
  },
  {
   "cell_type": "code",
   "execution_count": 188,
   "metadata": {
    "collapsed": true
   },
   "outputs": [],
   "source": [
    "%matplotlib inline\n",
    "import matplotlib.pyplot as plt\n",
    "import matplotlib\n",
    "matplotlib.style.use('ggplot')"
   ]
  },
  {
   "cell_type": "code",
   "execution_count": 189,
   "metadata": {
    "collapsed": false
   },
   "outputs": [
    {
     "data": {
      "text/plain": [
       "<matplotlib.axes._subplots.AxesSubplot at 0x11d6b55f8>"
      ]
     },
     "execution_count": 189,
     "metadata": {},
     "output_type": "execute_result"
    },
    {
     "data": {
      "image/png": "[encoded data removed]",
      "text/plain": [
       "<matplotlib.figure.Figure at 0x11d80c7f0>"
      ]
     },
     "metadata": {},
     "output_type": "display_data"
    }
   ],
   "source": [
    "cor.plot(kind='bar', color=('blue', 'red','yellow','green','orange','salmon'), legend=False)"
   ]
  },
  {
   "cell_type": "code",
   "execution_count": 190,
   "metadata": {
    "collapsed": false
   },
   "outputs": [
    {
     "data": {
      "text/plain": [
       "<matplotlib.axes._subplots.AxesSubplot at 0x12006b208>"
      ]
     },
     "execution_count": 190,
     "metadata": {},
     "output_type": "execute_result"
    },
    {
     "data": {
      "image/png": "[encoded data removed]",
      "text/plain": [
       "<matplotlib.figure.Figure at 0x13a2f3080>"
      ]
     },
     "metadata": {},
     "output_type": "display_data"
    }
   ],
   "source": [
    "sexo.plot(kind='pie', colors=('blue', 'red'), autopct=\"%0.2f\",legend=False)"
   ]
  },
  {
   "cell_type": "code",
   "execution_count": 191,
   "metadata": {
    "collapsed": false
   },
   "outputs": [
    {
     "data": {
      "text/plain": [
       "<matplotlib.axes._subplots.AxesSubplot at 0x13a2d6d68>"
      ]
     },
     "execution_count": 191,
     "metadata": {},
     "output_type": "execute_result"
    },
    {
     "data": {
      "image/png": "[encoded data removed]",
      "text/plain": [
       "<matplotlib.figure.Figure at 0x13a2c07f0>"
      ]
     },
     "metadata": {},
     "output_type": "display_data"
    }
   ],
   "source": [
    "instituicao.plot(kind='pie', colors=('blue', 'red'), autopct=\"%0.2f\",legend=False)"
   ]
  },
  {
   "cell_type": "code",
   "execution_count": 192,
   "metadata": {
    "collapsed": false
   },
   "outputs": [
    {
     "data": {
      "text/plain": [
       "<matplotlib.axes._subplots.AxesSubplot at 0x137cbd588>"
      ]
     },
     "execution_count": 192,
     "metadata": {},
     "output_type": "execute_result"
    },
    {
     "data": {
      "image/png": "[encoded data removed]",
      "text/plain": [
       "<matplotlib.figure.Figure at 0x137ca0b38>"
      ]
     },
     "metadata": {},
     "output_type": "display_data"
    }
   ],
   "source": [
    "nivel_ensino.plot(kind='bar', color=('blue', 'red','yellow','green','orange'), legend=False)"
   ]
  },
  {
   "cell_type": "code",
   "execution_count": 193,
   "metadata": {
    "collapsed": false
   },
   "outputs": [
    {
     "data": {
      "text/plain": [
       "<matplotlib.axes._subplots.AxesSubplot at 0x137c061d0>"
      ]
     },
     "execution_count": 193,
     "metadata": {},
     "output_type": "execute_result"
    },
    {
     "data": {
      "image/png": "[encoded data removed]",
      "text/plain": [
       "<matplotlib.figure.Figure at 0x11da54e48>"
      ]
     },
     "metadata": {},
     "output_type": "display_data"
    }
   ],
   "source": [
    "regiao_uf.plot(kind='pie', colors=('blue', 'red','yellow','green','orange'), autopct=\"%0.2f\",legend=False)"
   ]
  },
  {
   "cell_type": "code",
   "execution_count": 194,
   "metadata": {
    "collapsed": false
   },
   "outputs": [
    {
     "data": {
      "text/plain": [
       "<matplotlib.axes._subplots.AxesSubplot at 0x137a003c8>"
      ]
     },
     "execution_count": 194,
     "metadata": {},
     "output_type": "execute_result"
    },
    {
     "data": {
      "image/png": "[encoded data removed]",
      "text/plain": [
       "<matplotlib.figure.Figure at 0x137a176d8>"
      ]
     },
     "metadata": {},
     "output_type": "display_data"
    }
   ],
   "source": [
    "EC.plot(kind='pie', colors=('blue', 'red','yellow','green','orange'), autopct=\"%0.2f\",legend=False)"
   ]
  },
  {
   "cell_type": "code",
   "execution_count": 195,
   "metadata": {
    "collapsed": false
   },
   "outputs": [
    {
     "data": {
      "text/plain": [
       "<matplotlib.axes._subplots.AxesSubplot at 0x13565b4a8>"
      ]
     },
     "execution_count": 195,
     "metadata": {},
     "output_type": "execute_result"
    },
    {
     "data": {
      "image/png": "[encoded data removed]",
      "text/plain": [
       "<matplotlib.figure.Figure at 0x13565fbe0>"
      ]
     },
     "metadata": {},
     "output_type": "display_data"
    }
   ],
   "source": [
    "nascimento.plot(kind='pie', colors=('blue', 'red'), autopct=\"%0.2f\",legend=False)"
   ]
  },
  {
   "cell_type": "code",
   "execution_count": 196,
   "metadata": {
    "collapsed": false
   },
   "outputs": [
    {
     "data": {
      "text/plain": [
       "<matplotlib.axes._subplots.AxesSubplot at 0x135074978>"
      ]
     },
     "execution_count": 196,
     "metadata": {},
     "output_type": "execute_result"
    },
    {
     "data": {
      "image/png": "[encoded data removed]",
      "text/plain": [
       "<matplotlib.figure.Figure at 0x135073710>"
      ]
     },
     "metadata": {},
     "output_type": "display_data"
    }
   ],
   "source": [
    "ct.plot(kind='bar', color=('yellow', 'salmon','red','blue','green'))"
   ]
  },
  {
   "cell_type": "code",
   "execution_count": 197,
   "metadata": {
    "collapsed": false
   },
   "outputs": [
    {
     "data": {
      "text/plain": [
       "<matplotlib.axes._subplots.AxesSubplot at 0x132f3db00>"
      ]
     },
     "execution_count": 197,
     "metadata": {},
     "output_type": "execute_result"
    },
    {
     "data": {
      "image/png": "[encoded data removed]",
      "text/plain": [
       "<matplotlib.figure.Figure at 0x132f2e048>"
      ]
     },
     "metadata": {},
     "output_type": "display_data"
    }
   ],
   "source": [
    "ct1 = pd.crosstab(D.V4802,D.V0404,normalize=True)\n",
    "ct1*100/ct1.sum().sum()\n",
    "ct1.plot(kind='bar', color=('yellow', 'salmon','red','blue','green','orange'),stacked=True)"
   ]
  },
  {
   "cell_type": "code",
   "execution_count": 198,
   "metadata": {
    "collapsed": false
   },
   "outputs": [
    {
     "data": {
      "text/html": [
       "<div>\n",
       "<table border=\"1\" class=\"dataframe\">\n",
       "  <thead>\n",
       "    <tr style=\"text-align: right;\">\n",
       "      <th>V0501</th>\n",
       "      <th>Nasceu</th>\n",
       "      <th>Não nasceu</th>\n",
       "    </tr>\n",
       "    <tr>\n",
       "      <th>UF</th>\n",
       "      <th></th>\n",
       "      <th></th>\n",
       "    </tr>\n",
       "  </thead>\n",
       "  <tbody>\n",
       "    <tr>\n",
       "      <th>Centro-oeste</th>\n",
       "      <td>0.049504</td>\n",
       "      <td>0.054003</td>\n",
       "    </tr>\n",
       "    <tr>\n",
       "      <th>Nordeste</th>\n",
       "      <td>0.196243</td>\n",
       "      <td>0.092256</td>\n",
       "    </tr>\n",
       "    <tr>\n",
       "      <th>Norte</th>\n",
       "      <td>0.096973</td>\n",
       "      <td>0.066277</td>\n",
       "    </tr>\n",
       "    <tr>\n",
       "      <th>Sudeste</th>\n",
       "      <td>0.174878</td>\n",
       "      <td>0.115086</td>\n",
       "    </tr>\n",
       "    <tr>\n",
       "      <th>Sul</th>\n",
       "      <td>0.085559</td>\n",
       "      <td>0.069220</td>\n",
       "    </tr>\n",
       "  </tbody>\n",
       "</table>\n",
       "</div>"
      ],
      "text/plain": [
       "V0501           Nasceu  Não nasceu\n",
       "UF                                \n",
       "Centro-oeste  0.049504    0.054003\n",
       "Nordeste      0.196243    0.092256\n",
       "Norte         0.096973    0.066277\n",
       "Sudeste       0.174878    0.115086\n",
       "Sul           0.085559    0.069220"
      ]
     },
     "execution_count": 198,
     "metadata": {},
     "output_type": "execute_result"
    }
   ],
   "source": [
    "#Tabela UF pelo lugar de nascimento.\n",
    "ct = pd.crosstab(D.UF,D.V0501,normalize=True)\n",
    "ct"
   ]
  },
  {
   "cell_type": "code",
   "execution_count": 199,
   "metadata": {
    "collapsed": false
   },
   "outputs": [],
   "source": [
    "soma = ct.sum().sum()"
   ]
  },
  {
   "cell_type": "code",
   "execution_count": 200,
   "metadata": {
    "collapsed": false
   },
   "outputs": [
    {
     "data": {
      "text/html": [
       "<div>\n",
       "<table border=\"1\" class=\"dataframe\">\n",
       "  <thead>\n",
       "    <tr style=\"text-align: right;\">\n",
       "      <th>V0501</th>\n",
       "      <th>Nasceu</th>\n",
       "      <th>Não nasceu</th>\n",
       "    </tr>\n",
       "    <tr>\n",
       "      <th>UF</th>\n",
       "      <th></th>\n",
       "      <th></th>\n",
       "    </tr>\n",
       "  </thead>\n",
       "  <tbody>\n",
       "    <tr>\n",
       "      <th>Centro-oeste</th>\n",
       "      <td>4.950421</td>\n",
       "      <td>5.400284</td>\n",
       "    </tr>\n",
       "    <tr>\n",
       "      <th>Nordeste</th>\n",
       "      <td>19.624333</td>\n",
       "      <td>9.225635</td>\n",
       "    </tr>\n",
       "    <tr>\n",
       "      <th>Norte</th>\n",
       "      <td>9.697287</td>\n",
       "      <td>6.627684</td>\n",
       "    </tr>\n",
       "    <tr>\n",
       "      <th>Sudeste</th>\n",
       "      <td>17.487829</td>\n",
       "      <td>11.508599</td>\n",
       "    </tr>\n",
       "    <tr>\n",
       "      <th>Sul</th>\n",
       "      <td>8.555943</td>\n",
       "      <td>6.921984</td>\n",
       "    </tr>\n",
       "  </tbody>\n",
       "</table>\n",
       "</div>"
      ],
      "text/plain": [
       "V0501            Nasceu  Não nasceu\n",
       "UF                                 \n",
       "Centro-oeste   4.950421    5.400284\n",
       "Nordeste      19.624333    9.225635\n",
       "Norte          9.697287    6.627684\n",
       "Sudeste       17.487829   11.508599\n",
       "Sul            8.555943    6.921984"
      ]
     },
     "execution_count": 200,
     "metadata": {},
     "output_type": "execute_result"
    }
   ],
   "source": [
    "ct = ct*100/soma\n",
    "ct"
   ]
  },
  {
   "cell_type": "code",
   "execution_count": 201,
   "metadata": {
    "collapsed": false
   },
   "outputs": [
    {
     "data": {
      "text/plain": [
       "<matplotlib.axes._subplots.AxesSubplot at 0x1327d47b8>"
      ]
     },
     "execution_count": 201,
     "metadata": {},
     "output_type": "execute_result"
    },
    {
     "data": {
      "image/png": "[encoded data removed]",
      "text/plain": [
       "<matplotlib.figure.Figure at 0x1316bdba8>"
      ]
     },
     "metadata": {},
     "output_type": "display_data"
    }
   ],
   "source": [
    "ct.plot(kind='bar', color=('yellow', 'salmon'))"
   ]
  },
  {
   "cell_type": "code",
   "execution_count": 202,
   "metadata": {
    "collapsed": false
   },
   "outputs": [
    {
     "data": {
      "text/plain": [
       "<matplotlib.axes._subplots.AxesSubplot at 0x131e0bbe0>"
      ]
     },
     "execution_count": 202,
     "metadata": {},
     "output_type": "execute_result"
    },
    {
     "data": {
      "image/png": "[encoded data removed]",
      "text/plain": [
       "<matplotlib.figure.Figure at 0x131684cc0>"
      ]
     },
     "metadata": {},
     "output_type": "display_data"
    }
   ],
   "source": [
    "ct2 = pd.crosstab(D.UF,D.V0501,normalize=True)\n",
    "ct2 = (ct2*100)/(ct2.sum().sum())\n",
    "ct2.plot(kind='bar', color=('yellow', 'salmon'),stacked=True)"
   ]
  },
  {
   "cell_type": "code",
   "execution_count": 217,
   "metadata": {
    "collapsed": false
   },
   "outputs": [
    {
     "data": {
      "text/html": [
       "<div>\n",
       "<table border=\"1\" class=\"dataframe\">\n",
       "  <thead>\n",
       "    <tr style=\"text-align: right;\">\n",
       "      <th>V4802</th>\n",
       "      <th>Alfabetização</th>\n",
       "      <th>Ensino fundamental</th>\n",
       "      <th>Ensino médio</th>\n",
       "      <th>Ensino superior</th>\n",
       "      <th>Maternal</th>\n",
       "    </tr>\n",
       "    <tr>\n",
       "      <th>V6002</th>\n",
       "      <th></th>\n",
       "      <th></th>\n",
       "      <th></th>\n",
       "      <th></th>\n",
       "      <th></th>\n",
       "    </tr>\n",
       "  </thead>\n",
       "  <tbody>\n",
       "    <tr>\n",
       "      <th>Pública</th>\n",
       "      <td>1201</td>\n",
       "      <td>49539</td>\n",
       "      <td>14973</td>\n",
       "      <td>3647</td>\n",
       "      <td>4457</td>\n",
       "    </tr>\n",
       "    <tr>\n",
       "      <th>Privada</th>\n",
       "      <td>307</td>\n",
       "      <td>8242</td>\n",
       "      <td>2430</td>\n",
       "      <td>9997</td>\n",
       "      <td>1836</td>\n",
       "    </tr>\n",
       "  </tbody>\n",
       "</table>\n",
       "</div>"
      ],
      "text/plain": [
       "V4802    Alfabetização  Ensino fundamental  Ensino médio  Ensino superior  \\\n",
       "V6002                                                                       \n",
       "Pública           1201               49539         14973             3647   \n",
       "Privada            307                8242          2430             9997   \n",
       "\n",
       "V4802    Maternal  \n",
       "V6002              \n",
       "Pública      4457  \n",
       "Privada      1836  "
      ]
     },
     "execution_count": 217,
     "metadata": {},
     "output_type": "execute_result"
    }
   ],
   "source": [
    "#Tabela rede de ensino pelo nível de ensino\n",
    "ct4 = pd.crosstab(D.V6002,D.V4802)\n",
    "ct4"
   ]
  },
  {
   "cell_type": "code",
   "execution_count": 218,
   "metadata": {
    "collapsed": false
   },
   "outputs": [
    {
     "data": {
      "text/plain": [
       "V4802\n",
       "Alfabetização          1508\n",
       "Ensino fundamental    57781\n",
       "Ensino médio          17403\n",
       "Ensino superior       13644\n",
       "Maternal               6293\n",
       "dtype: int64"
      ]
     },
     "execution_count": 218,
     "metadata": {},
     "output_type": "execute_result"
    }
   ],
   "source": [
    "ct4.sum()"
   ]
  },
  {
   "cell_type": "code",
   "execution_count": 220,
   "metadata": {
    "collapsed": false
   },
   "outputs": [
    {
     "name": "stdout",
     "output_type": "stream",
     "text": [
      "96629\n"
     ]
    }
   ],
   "source": [
    "soma = ct4.sum().sum()\n",
    "print(soma)"
   ]
  },
  {
   "cell_type": "code",
   "execution_count": 221,
   "metadata": {
    "collapsed": false
   },
   "outputs": [
    {
     "data": {
      "text/html": [
       "<div>\n",
       "<table border=\"1\" class=\"dataframe\">\n",
       "  <thead>\n",
       "    <tr style=\"text-align: right;\">\n",
       "      <th>V4802</th>\n",
       "      <th>Alfabetização</th>\n",
       "      <th>Ensino fundamental</th>\n",
       "      <th>Ensino médio</th>\n",
       "      <th>Ensino superior</th>\n",
       "      <th>Maternal</th>\n",
       "    </tr>\n",
       "    <tr>\n",
       "      <th>V6002</th>\n",
       "      <th></th>\n",
       "      <th></th>\n",
       "      <th></th>\n",
       "      <th></th>\n",
       "      <th></th>\n",
       "    </tr>\n",
       "  </thead>\n",
       "  <tbody>\n",
       "    <tr>\n",
       "      <th>Pública</th>\n",
       "      <td>1.242898</td>\n",
       "      <td>51.267218</td>\n",
       "      <td>15.495348</td>\n",
       "      <td>3.774229</td>\n",
       "      <td>4.612487</td>\n",
       "    </tr>\n",
       "    <tr>\n",
       "      <th>Privada</th>\n",
       "      <td>0.317710</td>\n",
       "      <td>8.529530</td>\n",
       "      <td>2.514773</td>\n",
       "      <td>10.345755</td>\n",
       "      <td>1.900051</td>\n",
       "    </tr>\n",
       "  </tbody>\n",
       "</table>\n",
       "</div>"
      ],
      "text/plain": [
       "V4802    Alfabetização  Ensino fundamental  Ensino médio  Ensino superior  \\\n",
       "V6002                                                                       \n",
       "Pública       1.242898           51.267218     15.495348         3.774229   \n",
       "Privada       0.317710            8.529530      2.514773        10.345755   \n",
       "\n",
       "V4802    Maternal  \n",
       "V6002              \n",
       "Pública  4.612487  \n",
       "Privada  1.900051  "
      ]
     },
     "execution_count": 221,
     "metadata": {},
     "output_type": "execute_result"
    }
   ],
   "source": [
    "#Atualizando os valores da tabela para porcentagem\n",
    "ct4 = (ct4/soma)*100\n",
    "ct4"
   ]
  },
  {
   "cell_type": "code",
   "execution_count": 225,
   "metadata": {
    "collapsed": false
   },
   "outputs": [
    {
     "data": {
      "text/plain": [
       "<matplotlib.axes._subplots.AxesSubplot at 0x135950c50>"
      ]
     },
     "execution_count": 225,
     "metadata": {},
     "output_type": "execute_result"
    },
    {
     "data": {
      "image/png": "[encoded data removed]",
      "text/plain": [
       "<matplotlib.figure.Figure at 0x132750ac8>"
      ]
     },
     "metadata": {},
     "output_type": "display_data"
    }
   ],
   "source": [
    "ct4.plot(kind='bar', color=('black', 'salmon','red','blue','green'),stacked=True)"
   ]
  },
  {
   "cell_type": "code",
   "execution_count": 230,
   "metadata": {
    "collapsed": false
   },
   "outputs": [
    {
     "data": {
      "text/html": [
       "<div>\n",
       "<table border=\"1\" class=\"dataframe\">\n",
       "  <thead>\n",
       "    <tr style=\"text-align: right;\">\n",
       "      <th>V4802</th>\n",
       "      <th>Alfabetização</th>\n",
       "      <th>Ensino fundamental</th>\n",
       "      <th>Ensino médio</th>\n",
       "      <th>Ensino superior</th>\n",
       "      <th>Maternal</th>\n",
       "    </tr>\n",
       "    <tr>\n",
       "      <th>V4011</th>\n",
       "      <th></th>\n",
       "      <th></th>\n",
       "      <th></th>\n",
       "      <th></th>\n",
       "      <th></th>\n",
       "    </tr>\n",
       "  </thead>\n",
       "  <tbody>\n",
       "    <tr>\n",
       "      <th>Solteiro</th>\n",
       "      <td>268</td>\n",
       "      <td>36589</td>\n",
       "      <td>16587</td>\n",
       "      <td>10381</td>\n",
       "      <td>0</td>\n",
       "    </tr>\n",
       "    <tr>\n",
       "      <th>Casado(a)</th>\n",
       "      <td>22</td>\n",
       "      <td>100</td>\n",
       "      <td>117</td>\n",
       "      <td>230</td>\n",
       "      <td>0</td>\n",
       "    </tr>\n",
       "    <tr>\n",
       "      <th>Desquitado(a)</th>\n",
       "      <td>4</td>\n",
       "      <td>27</td>\n",
       "      <td>20</td>\n",
       "      <td>82</td>\n",
       "      <td>0</td>\n",
       "    </tr>\n",
       "    <tr>\n",
       "      <th>Divorciado(a)</th>\n",
       "      <td>10</td>\n",
       "      <td>56</td>\n",
       "      <td>68</td>\n",
       "      <td>360</td>\n",
       "      <td>0</td>\n",
       "    </tr>\n",
       "    <tr>\n",
       "      <th>Viúvo(a)</th>\n",
       "      <td>49</td>\n",
       "      <td>68</td>\n",
       "      <td>28</td>\n",
       "      <td>48</td>\n",
       "      <td>0</td>\n",
       "    </tr>\n",
       "  </tbody>\n",
       "</table>\n",
       "</div>"
      ],
      "text/plain": [
       "V4802          Alfabetização  Ensino fundamental  Ensino médio  \\\n",
       "V4011                                                            \n",
       "Solteiro                 268               36589         16587   \n",
       "Casado(a)                 22                 100           117   \n",
       "Desquitado(a)              4                  27            20   \n",
       "Divorciado(a)             10                  56            68   \n",
       "Viúvo(a)                  49                  68            28   \n",
       "\n",
       "V4802          Ensino superior  Maternal  \n",
       "V4011                                     \n",
       "Solteiro                 10381         0  \n",
       "Casado(a)                  230         0  \n",
       "Desquitado(a)               82         0  \n",
       "Divorciado(a)              360         0  \n",
       "Viúvo(a)                    48         0  "
      ]
     },
     "execution_count": 230,
     "metadata": {},
     "output_type": "execute_result"
    }
   ],
   "source": [
    "#D.V4011 ---- Estado Civil\n",
    "#D.V4802 ---- Nível de ensino\n",
    "#Tabela Estado cívil pelo nível de ensino\n",
    "\n",
    "ct5 = pd.crosstab(D.V4011,D.V4802)\n",
    "ct5"
   ]
  },
  {
   "cell_type": "code",
   "execution_count": 231,
   "metadata": {
    "collapsed": false
   },
   "outputs": [
    {
     "data": {
      "text/plain": [
       "V4802\n",
       "Alfabetização           353\n",
       "Ensino fundamental    36840\n",
       "Ensino médio          16820\n",
       "Ensino superior       11101\n",
       "Maternal                  0\n",
       "dtype: int64"
      ]
     },
     "execution_count": 231,
     "metadata": {},
     "output_type": "execute_result"
    }
   ],
   "source": [
    "ct5.sum()"
   ]
  },
  {
   "cell_type": "code",
   "execution_count": 232,
   "metadata": {
    "collapsed": false
   },
   "outputs": [
    {
     "name": "stdout",
     "output_type": "stream",
     "text": [
      "65114\n"
     ]
    }
   ],
   "source": [
    "soma = ct5.sum().sum()\n",
    "print(soma)"
   ]
  },
  {
   "cell_type": "code",
   "execution_count": 233,
   "metadata": {
    "collapsed": false
   },
   "outputs": [
    {
     "data": {
      "text/html": [
       "<div>\n",
       "<table border=\"1\" class=\"dataframe\">\n",
       "  <thead>\n",
       "    <tr style=\"text-align: right;\">\n",
       "      <th>V4802</th>\n",
       "      <th>Alfabetização</th>\n",
       "      <th>Ensino fundamental</th>\n",
       "      <th>Ensino médio</th>\n",
       "      <th>Ensino superior</th>\n",
       "      <th>Maternal</th>\n",
       "    </tr>\n",
       "    <tr>\n",
       "      <th>V4011</th>\n",
       "      <th></th>\n",
       "      <th></th>\n",
       "      <th></th>\n",
       "      <th></th>\n",
       "      <th></th>\n",
       "    </tr>\n",
       "  </thead>\n",
       "  <tbody>\n",
       "    <tr>\n",
       "      <th>Solteiro</th>\n",
       "      <td>0.411586</td>\n",
       "      <td>56.192217</td>\n",
       "      <td>25.473784</td>\n",
       "      <td>15.942808</td>\n",
       "      <td>0.0</td>\n",
       "    </tr>\n",
       "    <tr>\n",
       "      <th>Casado(a)</th>\n",
       "      <td>0.033787</td>\n",
       "      <td>0.153577</td>\n",
       "      <td>0.179685</td>\n",
       "      <td>0.353227</td>\n",
       "      <td>0.0</td>\n",
       "    </tr>\n",
       "    <tr>\n",
       "      <th>Desquitado(a)</th>\n",
       "      <td>0.006143</td>\n",
       "      <td>0.041466</td>\n",
       "      <td>0.030715</td>\n",
       "      <td>0.125933</td>\n",
       "      <td>0.0</td>\n",
       "    </tr>\n",
       "    <tr>\n",
       "      <th>Divorciado(a)</th>\n",
       "      <td>0.015358</td>\n",
       "      <td>0.086003</td>\n",
       "      <td>0.104432</td>\n",
       "      <td>0.552876</td>\n",
       "      <td>0.0</td>\n",
       "    </tr>\n",
       "    <tr>\n",
       "      <th>Viúvo(a)</th>\n",
       "      <td>0.075253</td>\n",
       "      <td>0.104432</td>\n",
       "      <td>0.043002</td>\n",
       "      <td>0.073717</td>\n",
       "      <td>0.0</td>\n",
       "    </tr>\n",
       "  </tbody>\n",
       "</table>\n",
       "</div>"
      ],
      "text/plain": [
       "V4802          Alfabetização  Ensino fundamental  Ensino médio  \\\n",
       "V4011                                                            \n",
       "Solteiro            0.411586           56.192217     25.473784   \n",
       "Casado(a)           0.033787            0.153577      0.179685   \n",
       "Desquitado(a)       0.006143            0.041466      0.030715   \n",
       "Divorciado(a)       0.015358            0.086003      0.104432   \n",
       "Viúvo(a)            0.075253            0.104432      0.043002   \n",
       "\n",
       "V4802          Ensino superior  Maternal  \n",
       "V4011                                     \n",
       "Solteiro             15.942808       0.0  \n",
       "Casado(a)             0.353227       0.0  \n",
       "Desquitado(a)         0.125933       0.0  \n",
       "Divorciado(a)         0.552876       0.0  \n",
       "Viúvo(a)              0.073717       0.0  "
      ]
     },
     "execution_count": 233,
     "metadata": {},
     "output_type": "execute_result"
    }
   ],
   "source": [
    "#Atualizando os valores da tabela para porcentagem\n",
    "ct5 = (ct5/soma)*100\n",
    "ct5"
   ]
  },
  {
   "cell_type": "code",
   "execution_count": 238,
   "metadata": {
    "collapsed": false
   },
   "outputs": [
    {
     "data": {
      "text/plain": [
       "<matplotlib.axes._subplots.AxesSubplot at 0x1384e6b70>"
      ]
     },
     "execution_count": 238,
     "metadata": {},
     "output_type": "execute_result"
    },
    {
     "data": {
      "image/png": "[encoded data removed]",
      "text/plain": [
       "<matplotlib.figure.Figure at 0x137ad0860>"
      ]
     },
     "metadata": {},
     "output_type": "display_data"
    }
   ],
   "source": [
    "ct5.plot(kind='bar', color=('black', 'salmon','red','blue','green'),stacked=True)"
   ]
  },
  {
   "cell_type": "code",
   "execution_count": null,
   "metadata": {
    "collapsed": true
   },
   "outputs": [],
   "source": []
  }
 ],
 "metadata": {
  "anaconda-cloud": {},
  "kernelspec": {
   "display_name": "Python [Root]",
   "language": "python",
   "name": "Python [Root]"
  },
  "language_info": {
   "codemirror_mode": {
    "name": "ipython",
    "version": 3
   },
   "file_extension": ".py",
   "mimetype": "text/x-python",
   "name": "python",
   "nbconvert_exporter": "python",
   "pygments_lexer": "ipython3",
   "version": "3.5.2"
  }
 },
 "nbformat": 4,
 "nbformat_minor": 0
}
